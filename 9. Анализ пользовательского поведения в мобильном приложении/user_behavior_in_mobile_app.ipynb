{
 "cells": [
  {
   "cell_type": "markdown",
   "metadata": {},
   "source": [
    "# Анализ пользовательского поведения в мобильном приложении\n",
    "\n",
    "Наш стартап продаёт продукты питания. Нам необходимо разобраться, как ведут себя пользователи вашего мобильного приложения. Изучим воронку продаж. Узнаем, как пользователи доходят до покупки. Выясним сколько пользователей доходит до покупки, а сколько — «застревает» на предыдущих шагах и на каких именно. \n",
    "\n",
    "После этого исследуем результаты A/A/B-эксперимента. Дизайнеры захотели поменять шрифты во всём приложении, а менеджеры испугались, что пользователям будет непривычно. Договорились принять решение по результатам A/A/B-теста. Пользователей разбили на 3 группы: 2 контрольные со старыми шрифтами и одну экспериментальную — с новыми. Выясним, какой шрифт лучше.\n",
    "\n",
    "\n",
    "**План работы**\n",
    "\n",
    "- **Шаг 1. Откроем файлы с данными и изучим общую информацию**\n",
    "\n",
    "    Путь к файлу:\n",
    "    -  /datasets/logs_exp.csv\n",
    "        \n",
    "        \n",
    "- **Шаг 2. Подготовим данные**\n",
    "     \n",
    "    - Заменим названия столбцов, если возникнет такая необходимость;\n",
    "    - Проверим пропуски и типы данных;\n",
    "    - Добавим столбец даты и времени, а также отдельный столбец дат.\n",
    "    \n",
    "    \n",
    "- **Шаг 3. Изучим и проверим данные**\n",
    "\n",
    "    - Выясним сколько всего событий в логе;\n",
    "    - Выясним сколько всего пользователей в логе;\n",
    "    - Выясним сколько в среднем событий приходится на пользователя;\n",
    "    - Определим, данными за какой период мы располагаем. Найдем максимальную и минимальную дату. Построим гистограмму по дате и времени. Выясним, можно ли быть уверенным, что у нас одинаково полные данные за весь период. Технически в логи новых дней по некоторым пользователям могут «доезжать» события из прошлого — это может «перекашивать данные». Определим, с какого момента данные полные и отбросим более старые. Определим, данными за какой период времени мы располагаем на самом деле;\n",
    "    - Высяним, много ли событий и пользователей мы потеряли, отбросив старые данные;\n",
    "    - Проверим, что у нас есть пользователи из всех трёх экспериментальных групп.\n",
    "    \n",
    "    \n",
    "- **Шаг 4. Изучим воронку событий**\n",
    "\n",
    "    - Посмотрим, какие события есть в логах, как часто они встречаются. Отсортируем события по частоте;\n",
    "    - Посчитаем, сколько пользователей совершали каждое из этих событий. Отсортируем события по числу пользователей. Посчитаем долю пользователей, которые хоть раз совершали событие;\n",
    "    - Предположим, в каком порядке происходят события. Выяним, все ли они выстраиваются в последовательную цепочку;\n",
    "    - По воронке событий посчитаем, какая доля пользователей проходит на следующий шаг воронки (от числа пользователей на предыдущем). То есть для последовательности событий A → B → C посчитаем отношение числа пользователей с событием B к количеству пользователей с событием A, а также отношение числа пользователей с событием C к количеству пользователей с событием B;\n",
    "    - Выясним на каком шаге теряется больше всего пользователей;\n",
    "    - Определим, какая доля пользователей доходит от первого события до оплаты.\n",
    "         \n",
    "      \n",
    "- **Шаг 5. Изучим результаты эксперимента**\n",
    "\n",
    "    - Определим сколько пользователей в каждой экспериментальной группе;\n",
    "    - Есть 2 контрольные группы для А/А-эксперимента, чтобы проверить корректность всех механизмов и расчётов. Проверим, находят ли статистические критерии разницу между выборками 246 и 247;\n",
    "    - Выберем самое популярное событие. Посчитаем число пользователей, совершивших это событие в каждой из контрольных групп. Посчитаем долю пользователей, совершивших это событие. Проверим, будет ли отличие между группами статистически достоверным. Проделаем то же самое для всех других событий (удобно обернуть проверку в отдельную функцию). Выясним можно ли сказать, что разбиение на группы работает корректно;\n",
    "    - Аналогично поступим с группой с изменённым шрифтом. Сравним результаты с каждой из контрольных групп в отдельности по каждому событию. Сравним результаты с объединённой контрольной группой. Выясним, какие выводы из эксперимента можно сделать;\n",
    "    - Определим, какой уровень значимости мы выбрали при проверке статистических гипотез выше. Посчитаем, сколько проверок статистических гипотез мы сделали. При уровне значимости 0.1 каждый десятый раз можно получать ложный результат. Определим, какой уровень значимости стоит применить. Проверим выводы.\n",
    "    \n",
    "\n",
    "- **Шаг 6. Напишем общий вывод**\n",
    "\n",
    "\n",
    "- **Описание данных**\n",
    "\n",
    "   Файл `/datasets/logs_exp.csv` (лог событий пользователей):\n",
    "\n",
    "    - `EventName` — название события\n",
    "    - `DeviceIDHash` — уникальный идентификатор пользователя\n",
    "    - `EventTimestamp` — время события;\n",
    "    - `ExpId` — номер эксперимента: 246 и 247 — контрольные группы, а 248 — экспериментальная"
   ]
  },
  {
   "cell_type": "markdown",
   "metadata": {},
   "source": [
    "## Загрузка данных и изучение общей информации\n",
    "Загрузим данные в переменную изучим общую информацию.\n",
    "\n",
    "Путь к файлу:\n",
    " -   /datasets/logs_exp.csv."
   ]
  },
  {
   "cell_type": "code",
   "execution_count": 1,
   "metadata": {},
   "outputs": [],
   "source": [
    "# импорт необходимых библиотек\n",
    "import pandas as pd \n",
    "import numpy as np\n",
    "import datetime as dt\n",
    "import os\n",
    "import matplotlib.pyplot as plt\n",
    "import scipy.stats as stats\n",
    "import math as mth"
   ]
  },
  {
   "cell_type": "code",
   "execution_count": 2,
   "metadata": {},
   "outputs": [
    {
     "data": {
      "text/html": [
       "<div>\n",
       "<style scoped>\n",
       "    .dataframe tbody tr th:only-of-type {\n",
       "        vertical-align: middle;\n",
       "    }\n",
       "\n",
       "    .dataframe tbody tr th {\n",
       "        vertical-align: top;\n",
       "    }\n",
       "\n",
       "    .dataframe thead th {\n",
       "        text-align: right;\n",
       "    }\n",
       "</style>\n",
       "<table border=\"1\" class=\"dataframe\">\n",
       "  <thead>\n",
       "    <tr style=\"text-align: right;\">\n",
       "      <th></th>\n",
       "      <th>EventName</th>\n",
       "      <th>DeviceIDHash</th>\n",
       "      <th>EventTimestamp</th>\n",
       "      <th>ExpId</th>\n",
       "    </tr>\n",
       "  </thead>\n",
       "  <tbody>\n",
       "    <tr>\n",
       "      <th>0</th>\n",
       "      <td>MainScreenAppear</td>\n",
       "      <td>4575588528974610257</td>\n",
       "      <td>1564029816</td>\n",
       "      <td>246</td>\n",
       "    </tr>\n",
       "    <tr>\n",
       "      <th>1</th>\n",
       "      <td>MainScreenAppear</td>\n",
       "      <td>7416695313311560658</td>\n",
       "      <td>1564053102</td>\n",
       "      <td>246</td>\n",
       "    </tr>\n",
       "    <tr>\n",
       "      <th>2</th>\n",
       "      <td>PaymentScreenSuccessful</td>\n",
       "      <td>3518123091307005509</td>\n",
       "      <td>1564054127</td>\n",
       "      <td>248</td>\n",
       "    </tr>\n",
       "    <tr>\n",
       "      <th>3</th>\n",
       "      <td>CartScreenAppear</td>\n",
       "      <td>3518123091307005509</td>\n",
       "      <td>1564054127</td>\n",
       "      <td>248</td>\n",
       "    </tr>\n",
       "    <tr>\n",
       "      <th>4</th>\n",
       "      <td>PaymentScreenSuccessful</td>\n",
       "      <td>6217807653094995999</td>\n",
       "      <td>1564055322</td>\n",
       "      <td>248</td>\n",
       "    </tr>\n",
       "  </tbody>\n",
       "</table>\n",
       "</div>"
      ],
      "text/plain": [
       "                 EventName         DeviceIDHash  EventTimestamp  ExpId\n",
       "0         MainScreenAppear  4575588528974610257      1564029816    246\n",
       "1         MainScreenAppear  7416695313311560658      1564053102    246\n",
       "2  PaymentScreenSuccessful  3518123091307005509      1564054127    248\n",
       "3         CartScreenAppear  3518123091307005509      1564054127    248\n",
       "4  PaymentScreenSuccessful  6217807653094995999      1564055322    248"
      ]
     },
     "metadata": {},
     "output_type": "display_data"
    }
   ],
   "source": [
    "# чтение файла с данными и сохранение в переменной\n",
    "pth1 = '/datasets/logs_exp.csv'\n",
    "pth2 = 'C:/Users/tatar/downloads/logs_exp.csv'\n",
    "\n",
    "if os.path.exists(pth1):\n",
    "    df = pd.read_csv(pth1, sep='\\t')\n",
    "elif os.path.exists(pth2):\n",
    "    df = pd.read_csv(pth2, sep='\\t')\n",
    "else:\n",
    "    print('Something is wrong')\n",
    "    \n",
    "# вывод первых 5 строк таблицы\n",
    "display(df.head())"
   ]
  },
  {
   "cell_type": "code",
   "execution_count": 3,
   "metadata": {},
   "outputs": [
    {
     "name": "stdout",
     "output_type": "stream",
     "text": [
      "<class 'pandas.core.frame.DataFrame'>\n",
      "RangeIndex: 244126 entries, 0 to 244125\n",
      "Data columns (total 4 columns):\n",
      " #   Column          Non-Null Count   Dtype \n",
      "---  ------          --------------   ----- \n",
      " 0   EventName       244126 non-null  object\n",
      " 1   DeviceIDHash    244126 non-null  int64 \n",
      " 2   EventTimestamp  244126 non-null  int64 \n",
      " 3   ExpId           244126 non-null  int64 \n",
      "dtypes: int64(3), object(1)\n",
      "memory usage: 7.5+ MB\n"
     ]
    }
   ],
   "source": [
    "# получение общей информации о данных\n",
    "df.info()"
   ]
  },
  {
   "cell_type": "code",
   "execution_count": 4,
   "metadata": {},
   "outputs": [
    {
     "data": {
      "text/plain": [
       "413"
      ]
     },
     "execution_count": 4,
     "metadata": {},
     "output_type": "execute_result"
    }
   ],
   "source": [
    "# подсчет дублирующихся строк в таблице\n",
    "df.duplicated().sum()"
   ]
  },
  {
   "cell_type": "markdown",
   "metadata": {},
   "source": [
    "**Выводы**\n",
    "\n",
    "* Необходимо заменить названия столбцов, привести их к нижнему регистру и правильному стилю;\n",
    "* Необходимо привести к правильному типу данные в столбце, содержащим информацию о дате и времени;\n",
    "* Необходимо обработать дубликаты;\n",
    "* Пропуски отсутствуют."
   ]
  },
  {
   "cell_type": "markdown",
   "metadata": {},
   "source": [
    "## Подготовка данных\n",
    "Заменим названия столбцов, приведём к нижнему регистру и правильному стилю."
   ]
  },
  {
   "cell_type": "code",
   "execution_count": 5,
   "metadata": {},
   "outputs": [
    {
     "data": {
      "text/plain": [
       "Index(['event_name', 'user_id', 'event_timestamp', 'exp_id'], dtype='object')"
      ]
     },
     "execution_count": 5,
     "metadata": {},
     "output_type": "execute_result"
    }
   ],
   "source": [
    "# переименование столбцов\n",
    "df = df.rename(columns={'EventName': 'event_name', 'DeviceIDHash': 'user_id', \n",
    "                        'EventTimestamp': 'event_timestamp', 'ExpId': 'exp_id'}) \n",
    "\n",
    "# проверка\n",
    "df.columns"
   ]
  },
  {
   "cell_type": "markdown",
   "metadata": {},
   "source": [
    "Обработаем дубликаты."
   ]
  },
  {
   "cell_type": "code",
   "execution_count": 6,
   "metadata": {},
   "outputs": [
    {
     "name": "stdout",
     "output_type": "stream",
     "text": [
      "Доля дублирующихся строк в датафрейме: 0.002\n"
     ]
    }
   ],
   "source": [
    "print('Доля дублирующихся строк в датафрейме:', round(df.duplicated().sum()/len(df['event_name']), 3))"
   ]
  },
  {
   "cell_type": "markdown",
   "metadata": {},
   "source": [
    "Так как доля дублирующихся строк в датафрейме ничтожно мала, можно просто удалить их."
   ]
  },
  {
   "cell_type": "code",
   "execution_count": 7,
   "metadata": {},
   "outputs": [
    {
     "data": {
      "text/plain": [
       "0"
      ]
     },
     "execution_count": 7,
     "metadata": {},
     "output_type": "execute_result"
    }
   ],
   "source": [
    "# удаление дубликатов\n",
    "df = (\n",
    "    df\n",
    "    .drop_duplicates()\n",
    "    .reset_index(drop=True)\n",
    ")\n",
    "\n",
    "# проверка\n",
    "df.duplicated().sum()"
   ]
  },
  {
   "cell_type": "markdown",
   "metadata": {},
   "source": [
    "Разберемся с датами. Добавим столбец с датой и временем события, датой события и месяцем события."
   ]
  },
  {
   "cell_type": "code",
   "execution_count": 8,
   "metadata": {},
   "outputs": [
    {
     "data": {
      "text/html": [
       "<div>\n",
       "<style scoped>\n",
       "    .dataframe tbody tr th:only-of-type {\n",
       "        vertical-align: middle;\n",
       "    }\n",
       "\n",
       "    .dataframe tbody tr th {\n",
       "        vertical-align: top;\n",
       "    }\n",
       "\n",
       "    .dataframe thead th {\n",
       "        text-align: right;\n",
       "    }\n",
       "</style>\n",
       "<table border=\"1\" class=\"dataframe\">\n",
       "  <thead>\n",
       "    <tr style=\"text-align: right;\">\n",
       "      <th></th>\n",
       "      <th>event_name</th>\n",
       "      <th>user_id</th>\n",
       "      <th>event_timestamp</th>\n",
       "      <th>exp_id</th>\n",
       "      <th>event_datetime</th>\n",
       "      <th>event_date</th>\n",
       "      <th>event_month</th>\n",
       "    </tr>\n",
       "  </thead>\n",
       "  <tbody>\n",
       "    <tr>\n",
       "      <th>0</th>\n",
       "      <td>MainScreenAppear</td>\n",
       "      <td>4575588528974610257</td>\n",
       "      <td>1564029816</td>\n",
       "      <td>246</td>\n",
       "      <td>2019-07-25 04:43:36</td>\n",
       "      <td>2019-07-25</td>\n",
       "      <td>2019-07-01</td>\n",
       "    </tr>\n",
       "    <tr>\n",
       "      <th>1</th>\n",
       "      <td>MainScreenAppear</td>\n",
       "      <td>7416695313311560658</td>\n",
       "      <td>1564053102</td>\n",
       "      <td>246</td>\n",
       "      <td>2019-07-25 11:11:42</td>\n",
       "      <td>2019-07-25</td>\n",
       "      <td>2019-07-01</td>\n",
       "    </tr>\n",
       "    <tr>\n",
       "      <th>2</th>\n",
       "      <td>PaymentScreenSuccessful</td>\n",
       "      <td>3518123091307005509</td>\n",
       "      <td>1564054127</td>\n",
       "      <td>248</td>\n",
       "      <td>2019-07-25 11:28:47</td>\n",
       "      <td>2019-07-25</td>\n",
       "      <td>2019-07-01</td>\n",
       "    </tr>\n",
       "    <tr>\n",
       "      <th>3</th>\n",
       "      <td>CartScreenAppear</td>\n",
       "      <td>3518123091307005509</td>\n",
       "      <td>1564054127</td>\n",
       "      <td>248</td>\n",
       "      <td>2019-07-25 11:28:47</td>\n",
       "      <td>2019-07-25</td>\n",
       "      <td>2019-07-01</td>\n",
       "    </tr>\n",
       "    <tr>\n",
       "      <th>4</th>\n",
       "      <td>PaymentScreenSuccessful</td>\n",
       "      <td>6217807653094995999</td>\n",
       "      <td>1564055322</td>\n",
       "      <td>248</td>\n",
       "      <td>2019-07-25 11:48:42</td>\n",
       "      <td>2019-07-25</td>\n",
       "      <td>2019-07-01</td>\n",
       "    </tr>\n",
       "  </tbody>\n",
       "</table>\n",
       "</div>"
      ],
      "text/plain": [
       "                event_name              user_id  event_timestamp  exp_id  \\\n",
       "0         MainScreenAppear  4575588528974610257       1564029816     246   \n",
       "1         MainScreenAppear  7416695313311560658       1564053102     246   \n",
       "2  PaymentScreenSuccessful  3518123091307005509       1564054127     248   \n",
       "3         CartScreenAppear  3518123091307005509       1564054127     248   \n",
       "4  PaymentScreenSuccessful  6217807653094995999       1564055322     248   \n",
       "\n",
       "       event_datetime  event_date event_month  \n",
       "0 2019-07-25 04:43:36  2019-07-25  2019-07-01  \n",
       "1 2019-07-25 11:11:42  2019-07-25  2019-07-01  \n",
       "2 2019-07-25 11:28:47  2019-07-25  2019-07-01  \n",
       "3 2019-07-25 11:28:47  2019-07-25  2019-07-01  \n",
       "4 2019-07-25 11:48:42  2019-07-25  2019-07-01  "
      ]
     },
     "execution_count": 8,
     "metadata": {},
     "output_type": "execute_result"
    }
   ],
   "source": [
    "df['event_datetime'] = pd.to_datetime(df['event_timestamp'], unit='s')\n",
    "df['event_date'] = df['event_datetime'].astype('datetime64[D]')\n",
    "df['event_date'] = df['event_date'].dt.date\n",
    "df['event_month'] = df['event_date'].astype('datetime64[M]')\n",
    "df.head() "
   ]
  },
  {
   "cell_type": "markdown",
   "metadata": {},
   "source": [
    "**Выводы**\n",
    "\n",
    "Таким образом, мы сделали следующее:\n",
    "* Заменили названия столбцов, привели их к нижнему регистру и правильному типу;\n",
    "* Обработали дубликаты;\n",
    "* Привели к правильному типу данные в столбцах, содержащих информацию о дате и времени. Добавили столбцы даты и времени, а также отдельный столбец дат."
   ]
  },
  {
   "cell_type": "markdown",
   "metadata": {},
   "source": [
    "## Проверка данных\n",
    "Для начала выясним сколько всего событий в логе."
   ]
  },
  {
   "cell_type": "code",
   "execution_count": 9,
   "metadata": {},
   "outputs": [
    {
     "name": "stdout",
     "output_type": "stream",
     "text": [
      "Всего событий в логе: 243713\n"
     ]
    }
   ],
   "source": [
    "print('Всего событий в логе:', df.shape[0])"
   ]
  },
  {
   "cell_type": "markdown",
   "metadata": {},
   "source": [
    "Выясним сколько всего пользователей в логе."
   ]
  },
  {
   "cell_type": "code",
   "execution_count": 10,
   "metadata": {},
   "outputs": [
    {
     "name": "stdout",
     "output_type": "stream",
     "text": [
      "Всего уникальных пользователей в логе: 7551\n"
     ]
    }
   ],
   "source": [
    "print('Всего уникальных пользователей в логе:', df['user_id'].nunique())"
   ]
  },
  {
   "cell_type": "markdown",
   "metadata": {},
   "source": [
    "Выясним сколько в среднем событий приходится на пользователя."
   ]
  },
  {
   "cell_type": "code",
   "execution_count": 11,
   "metadata": {},
   "outputs": [
    {
     "name": "stdout",
     "output_type": "stream",
     "text": [
      "Среднее количество событий на одного пользователя: 32\n"
     ]
    }
   ],
   "source": [
    "# сформируем вспомогательную таблицу с информацией\n",
    "# по количеству событий на пользователя\n",
    "events_by_users = (\n",
    "    df\n",
    "    .groupby('user_id')\n",
    "    .agg({'event_name': 'count'})\n",
    "    .rename(columns={'event_name':'number_of_events'})\n",
    "    .reset_index()\n",
    ")\n",
    "print('Среднее количество событий на одного пользователя: {:.0f}'\n",
    "      .format(events_by_users['number_of_events'].mean()))"
   ]
  },
  {
   "cell_type": "markdown",
   "metadata": {},
   "source": [
    "Теперь посчитаем медианное количество событий на одного пользователя."
   ]
  },
  {
   "cell_type": "code",
   "execution_count": 12,
   "metadata": {},
   "outputs": [
    {
     "name": "stdout",
     "output_type": "stream",
     "text": [
      "Медианное количество событий на одного пользователя: 20\n"
     ]
    }
   ],
   "source": [
    "print('Медианное количество событий на одного пользователя: {:.0f}'.\n",
    "      format(events_by_users['number_of_events'].median()))"
   ]
  },
  {
   "cell_type": "markdown",
   "metadata": {},
   "source": [
    "Посмотрим на общую информацию по распределению количества событий на одного пользователя. "
   ]
  },
  {
   "cell_type": "code",
   "execution_count": 13,
   "metadata": {},
   "outputs": [
    {
     "data": {
      "text/plain": [
       "count    7551.000000\n",
       "mean       32.275593\n",
       "std        65.154219\n",
       "min         1.000000\n",
       "25%         9.000000\n",
       "50%        20.000000\n",
       "75%        37.000000\n",
       "max      2307.000000\n",
       "Name: number_of_events, dtype: float64"
      ]
     },
     "execution_count": 13,
     "metadata": {},
     "output_type": "execute_result"
    }
   ],
   "source": [
    "# вывод общей информации о распределении\n",
    "# количества событий на одного пользователя\n",
    "events_by_users['number_of_events'].describe()"
   ]
  },
  {
   "cell_type": "markdown",
   "metadata": {},
   "source": [
    "Максимальное количество событий на одного пользователя 2307, величина стандартного отклонения 65.15. Это говорит о том, что у нас есть данные распределены не нормально, присутствуют выбросы (пользователи, которые совершают аномально большое количество действий). Рассчитаем 90, 95 и 99 перцентили количества событий на одного пользователя. "
   ]
  },
  {
   "cell_type": "code",
   "execution_count": 14,
   "metadata": {},
   "outputs": [
    {
     "name": "stdout",
     "output_type": "stream",
     "text": [
      "90, 95 и 99 перцентили количества событий на одного пользователя: [ 64.   89.  200.5]\n"
     ]
    }
   ],
   "source": [
    "print('90, 95 и 99 перцентили количества событий на одного пользователя:', \n",
    "      np.percentile(events_by_users['number_of_events'], [90, 95, 99])) "
   ]
  },
  {
   "cell_type": "markdown",
   "metadata": {},
   "source": [
    "Принято отсеивать от 1% до 5% наблюдений с крайними значениями. Уберем из исходного датафрейма пользователей, которые совершили более 90 действий (это чуть меньше 5% наблюдений)."
   ]
  },
  {
   "cell_type": "code",
   "execution_count": 15,
   "metadata": {},
   "outputs": [
    {
     "data": {
      "text/html": [
       "<div>\n",
       "<style scoped>\n",
       "    .dataframe tbody tr th:only-of-type {\n",
       "        vertical-align: middle;\n",
       "    }\n",
       "\n",
       "    .dataframe tbody tr th {\n",
       "        vertical-align: top;\n",
       "    }\n",
       "\n",
       "    .dataframe thead th {\n",
       "        text-align: right;\n",
       "    }\n",
       "</style>\n",
       "<table border=\"1\" class=\"dataframe\">\n",
       "  <thead>\n",
       "    <tr style=\"text-align: right;\">\n",
       "      <th></th>\n",
       "      <th>event_name</th>\n",
       "      <th>user_id</th>\n",
       "      <th>event_timestamp</th>\n",
       "      <th>exp_id</th>\n",
       "      <th>event_datetime</th>\n",
       "      <th>event_date</th>\n",
       "      <th>event_month</th>\n",
       "    </tr>\n",
       "  </thead>\n",
       "  <tbody>\n",
       "    <tr>\n",
       "      <th>0</th>\n",
       "      <td>MainScreenAppear</td>\n",
       "      <td>4575588528974610257</td>\n",
       "      <td>1564029816</td>\n",
       "      <td>246</td>\n",
       "      <td>2019-07-25 04:43:36</td>\n",
       "      <td>2019-07-25</td>\n",
       "      <td>2019-07-01</td>\n",
       "    </tr>\n",
       "    <tr>\n",
       "      <th>1</th>\n",
       "      <td>MainScreenAppear</td>\n",
       "      <td>7416695313311560658</td>\n",
       "      <td>1564053102</td>\n",
       "      <td>246</td>\n",
       "      <td>2019-07-25 11:11:42</td>\n",
       "      <td>2019-07-25</td>\n",
       "      <td>2019-07-01</td>\n",
       "    </tr>\n",
       "    <tr>\n",
       "      <th>2</th>\n",
       "      <td>PaymentScreenSuccessful</td>\n",
       "      <td>3518123091307005509</td>\n",
       "      <td>1564054127</td>\n",
       "      <td>248</td>\n",
       "      <td>2019-07-25 11:28:47</td>\n",
       "      <td>2019-07-25</td>\n",
       "      <td>2019-07-01</td>\n",
       "    </tr>\n",
       "    <tr>\n",
       "      <th>3</th>\n",
       "      <td>CartScreenAppear</td>\n",
       "      <td>3518123091307005509</td>\n",
       "      <td>1564054127</td>\n",
       "      <td>248</td>\n",
       "      <td>2019-07-25 11:28:47</td>\n",
       "      <td>2019-07-25</td>\n",
       "      <td>2019-07-01</td>\n",
       "    </tr>\n",
       "    <tr>\n",
       "      <th>4</th>\n",
       "      <td>PaymentScreenSuccessful</td>\n",
       "      <td>6217807653094995999</td>\n",
       "      <td>1564055322</td>\n",
       "      <td>248</td>\n",
       "      <td>2019-07-25 11:48:42</td>\n",
       "      <td>2019-07-25</td>\n",
       "      <td>2019-07-01</td>\n",
       "    </tr>\n",
       "  </tbody>\n",
       "</table>\n",
       "</div>"
      ],
      "text/plain": [
       "                event_name              user_id  event_timestamp  exp_id  \\\n",
       "0         MainScreenAppear  4575588528974610257       1564029816     246   \n",
       "1         MainScreenAppear  7416695313311560658       1564053102     246   \n",
       "2  PaymentScreenSuccessful  3518123091307005509       1564054127     248   \n",
       "3         CartScreenAppear  3518123091307005509       1564054127     248   \n",
       "4  PaymentScreenSuccessful  6217807653094995999       1564055322     248   \n",
       "\n",
       "       event_datetime  event_date event_month  \n",
       "0 2019-07-25 04:43:36  2019-07-25  2019-07-01  \n",
       "1 2019-07-25 11:11:42  2019-07-25  2019-07-01  \n",
       "2 2019-07-25 11:28:47  2019-07-25  2019-07-01  \n",
       "3 2019-07-25 11:28:47  2019-07-25  2019-07-01  \n",
       "4 2019-07-25 11:48:42  2019-07-25  2019-07-01  "
      ]
     },
     "execution_count": 15,
     "metadata": {},
     "output_type": "execute_result"
    }
   ],
   "source": [
    "# очистка датафрейма от аномалий\n",
    "df_clean = df.loc[~(df['user_id'].isin(\n",
    "    events_by_users.loc[events_by_users['number_of_events'] > 90,\n",
    "                        'user_id']))]\n",
    "df_clean.head()"
   ]
  },
  {
   "cell_type": "markdown",
   "metadata": {},
   "source": [
    "Определим, данными за какой период мы располагаем."
   ]
  },
  {
   "cell_type": "code",
   "execution_count": 16,
   "metadata": {},
   "outputs": [
    {
     "name": "stdout",
     "output_type": "stream",
     "text": [
      "Минимальная дата: 2019-07-25\n",
      "Максимальная дата: 2019-08-07\n"
     ]
    }
   ],
   "source": [
    "print ('Минимальная дата:', df_clean['event_date'].min())\n",
    "print ('Максимальная дата:', df_clean['event_date'].max())"
   ]
  },
  {
   "cell_type": "markdown",
   "metadata": {},
   "source": [
    "По итогу мы располагаем данными за две недели. Построим гистограмму по дате и времени."
   ]
  },
  {
   "cell_type": "code",
   "execution_count": 17,
   "metadata": {},
   "outputs": [
    {
     "data": {
      "image/png": "[encoded data removed]",
      "text/plain": [
       "<Figure size 1584x720 with 1 Axes>"
      ]
     },
     "metadata": {
      "needs_background": "light"
     },
     "output_type": "display_data"
    }
   ],
   "source": [
    "plt.figure(figsize=(22,10))\n",
    "df_clean['event_datetime'].hist(bins=50)\n",
    "plt.title('Гистограмма по дате и времени', fontsize=20)\n",
    "plt.ylabel('Частота', fontsize=18)\n",
    "plt.tick_params(labelsize=16)\n",
    "plt.xlabel('Дата', fontsize=18)\n",
    "plt.xticks(rotation=45)\n",
    "plt.show()"
   ]
  },
  {
   "cell_type": "markdown",
   "metadata": {},
   "source": [
    "Согласно гистограмме у нас отсутствуют данные за первую неделю. В этой связи будет корректнее \"отсечь\" данные за июль и использовать только данные только по августу."
   ]
  },
  {
   "cell_type": "code",
   "execution_count": 18,
   "metadata": {},
   "outputs": [
    {
     "data": {
      "text/html": [
       "<div>\n",
       "<style scoped>\n",
       "    .dataframe tbody tr th:only-of-type {\n",
       "        vertical-align: middle;\n",
       "    }\n",
       "\n",
       "    .dataframe tbody tr th {\n",
       "        vertical-align: top;\n",
       "    }\n",
       "\n",
       "    .dataframe thead th {\n",
       "        text-align: right;\n",
       "    }\n",
       "</style>\n",
       "<table border=\"1\" class=\"dataframe\">\n",
       "  <thead>\n",
       "    <tr style=\"text-align: right;\">\n",
       "      <th></th>\n",
       "      <th>event_name</th>\n",
       "      <th>user_id</th>\n",
       "      <th>event_timestamp</th>\n",
       "      <th>exp_id</th>\n",
       "      <th>event_datetime</th>\n",
       "      <th>event_date</th>\n",
       "      <th>event_month</th>\n",
       "    </tr>\n",
       "  </thead>\n",
       "  <tbody>\n",
       "    <tr>\n",
       "      <th>2826</th>\n",
       "      <td>Tutorial</td>\n",
       "      <td>3737462046622621720</td>\n",
       "      <td>1564618048</td>\n",
       "      <td>246</td>\n",
       "      <td>2019-08-01 00:07:28</td>\n",
       "      <td>2019-08-01</td>\n",
       "      <td>2019-08-01</td>\n",
       "    </tr>\n",
       "    <tr>\n",
       "      <th>2827</th>\n",
       "      <td>MainScreenAppear</td>\n",
       "      <td>3737462046622621720</td>\n",
       "      <td>1564618080</td>\n",
       "      <td>246</td>\n",
       "      <td>2019-08-01 00:08:00</td>\n",
       "      <td>2019-08-01</td>\n",
       "      <td>2019-08-01</td>\n",
       "    </tr>\n",
       "    <tr>\n",
       "      <th>2828</th>\n",
       "      <td>MainScreenAppear</td>\n",
       "      <td>3737462046622621720</td>\n",
       "      <td>1564618135</td>\n",
       "      <td>246</td>\n",
       "      <td>2019-08-01 00:08:55</td>\n",
       "      <td>2019-08-01</td>\n",
       "      <td>2019-08-01</td>\n",
       "    </tr>\n",
       "    <tr>\n",
       "      <th>2829</th>\n",
       "      <td>OffersScreenAppear</td>\n",
       "      <td>3737462046622621720</td>\n",
       "      <td>1564618138</td>\n",
       "      <td>246</td>\n",
       "      <td>2019-08-01 00:08:58</td>\n",
       "      <td>2019-08-01</td>\n",
       "      <td>2019-08-01</td>\n",
       "    </tr>\n",
       "    <tr>\n",
       "      <th>2830</th>\n",
       "      <td>MainScreenAppear</td>\n",
       "      <td>1433840883824088890</td>\n",
       "      <td>1564618139</td>\n",
       "      <td>247</td>\n",
       "      <td>2019-08-01 00:08:59</td>\n",
       "      <td>2019-08-01</td>\n",
       "      <td>2019-08-01</td>\n",
       "    </tr>\n",
       "  </tbody>\n",
       "</table>\n",
       "</div>"
      ],
      "text/plain": [
       "              event_name              user_id  event_timestamp  exp_id  \\\n",
       "2826            Tutorial  3737462046622621720       1564618048     246   \n",
       "2827    MainScreenAppear  3737462046622621720       1564618080     246   \n",
       "2828    MainScreenAppear  3737462046622621720       1564618135     246   \n",
       "2829  OffersScreenAppear  3737462046622621720       1564618138     246   \n",
       "2830    MainScreenAppear  1433840883824088890       1564618139     247   \n",
       "\n",
       "          event_datetime  event_date event_month  \n",
       "2826 2019-08-01 00:07:28  2019-08-01  2019-08-01  \n",
       "2827 2019-08-01 00:08:00  2019-08-01  2019-08-01  \n",
       "2828 2019-08-01 00:08:55  2019-08-01  2019-08-01  \n",
       "2829 2019-08-01 00:08:58  2019-08-01  2019-08-01  \n",
       "2830 2019-08-01 00:08:59  2019-08-01  2019-08-01  "
      ]
     },
     "execution_count": 18,
     "metadata": {},
     "output_type": "execute_result"
    }
   ],
   "source": [
    "# формирование вспомогательного датафрейма\n",
    "# с данными за август\n",
    "df_filtered = df_clean.loc[df['event_month'] == '2019-08-01']\n",
    "\n",
    "df_filtered.head()"
   ]
  },
  {
   "cell_type": "markdown",
   "metadata": {},
   "source": [
    "Ранее мы определили, что у нас 243713 событий в логе и 7551 уникальных пользователей. Выясним, много ли событий и пользователей мы потеряли, отбросив старые данные."
   ]
  },
  {
   "cell_type": "code",
   "execution_count": 19,
   "metadata": {},
   "outputs": [
    {
     "name": "stdout",
     "output_type": "stream",
     "text": [
      "Всего событий в логе после \"чистки\": 171321\n",
      "Количество уникальных пользователей приложения после \"чистки\": 7173\n"
     ]
    }
   ],
   "source": [
    "print('Всего событий в логе после \"чистки\":', df_filtered.shape[0])\n",
    "print('Количество уникальных пользователей приложения после \"чистки\":', df_filtered['user_id'].nunique())"
   ]
  },
  {
   "cell_type": "code",
   "execution_count": 20,
   "metadata": {},
   "outputs": [
    {
     "name": "stdout",
     "output_type": "stream",
     "text": [
      "Потери в количестве событий после \"чистки\": 2410\n",
      "Потери в количестве уникальных пользователей приложения после \"чистки\": 17\n"
     ]
    }
   ],
   "source": [
    "print('Потери в количестве событий после \"чистки\":', df_clean.shape[0] - df_filtered.shape[0])\n",
    "print('Потери в количестве уникальных пользователей приложения после \"чистки\":', \n",
    "      df_clean['user_id'].nunique() - df_filtered['user_id'].nunique())"
   ]
  },
  {
   "cell_type": "markdown",
   "metadata": {},
   "source": [
    "Потери в количестве событий и уникальных пользователей в датафрейме после \"чистки\" ничтожно малы, можно считать их несущественными.\n",
    "\n",
    "Проверим, что у нас есть пользователи из всех трёх экспериментальных групп."
   ]
  },
  {
   "cell_type": "code",
   "execution_count": 21,
   "metadata": {},
   "outputs": [
    {
     "data": {
      "text/html": [
       "<div>\n",
       "<style scoped>\n",
       "    .dataframe tbody tr th:only-of-type {\n",
       "        vertical-align: middle;\n",
       "    }\n",
       "\n",
       "    .dataframe tbody tr th {\n",
       "        vertical-align: top;\n",
       "    }\n",
       "\n",
       "    .dataframe thead th {\n",
       "        text-align: right;\n",
       "    }\n",
       "</style>\n",
       "<table border=\"1\" class=\"dataframe\">\n",
       "  <thead>\n",
       "    <tr style=\"text-align: right;\">\n",
       "      <th></th>\n",
       "      <th>number_of_users</th>\n",
       "    </tr>\n",
       "    <tr>\n",
       "      <th>exp_id</th>\n",
       "      <th></th>\n",
       "    </tr>\n",
       "  </thead>\n",
       "  <tbody>\n",
       "    <tr>\n",
       "      <th>246</th>\n",
       "      <td>2370</td>\n",
       "    </tr>\n",
       "    <tr>\n",
       "      <th>247</th>\n",
       "      <td>2406</td>\n",
       "    </tr>\n",
       "    <tr>\n",
       "      <th>248</th>\n",
       "      <td>2414</td>\n",
       "    </tr>\n",
       "  </tbody>\n",
       "</table>\n",
       "</div>"
      ],
      "text/plain": [
       "        number_of_users\n",
       "exp_id                 \n",
       "246                2370\n",
       "247                2406\n",
       "248                2414"
      ]
     },
     "execution_count": 21,
     "metadata": {},
     "output_type": "execute_result"
    }
   ],
   "source": [
    "# вывод количества пользователей\n",
    "# по группам тестирования\n",
    "(\n",
    "    df_clean\n",
    "    .groupby('exp_id')\n",
    "    .agg({'user_id': 'nunique'})\n",
    "    .rename(columns={'user_id':'number_of_users'})\n",
    ")"
   ]
  },
  {
   "cell_type": "markdown",
   "metadata": {},
   "source": [
    "**Выводы**\n",
    "\n",
    "Выборка была немного укорочена, оставлены для анализа данные только за первую неделю августа 2019. Присутствуют пользователи по всем трём группам тестирования. Данные изучены, проверены и очищены от аномалий. Теперь можно приступить к анализу."
   ]
  },
  {
   "cell_type": "markdown",
   "metadata": {},
   "source": [
    "## Анализ воронки событий\n",
    "Приступим к изучению воронки событий и начнем со знакомства с самими событиями. Посмотрим, какие события есть в логах, как часто они встречаются. Отсортируем события по частоте."
   ]
  },
  {
   "cell_type": "code",
   "execution_count": 22,
   "metadata": {},
   "outputs": [
    {
     "data": {
      "text/html": [
       "<div>\n",
       "<style scoped>\n",
       "    .dataframe tbody tr th:only-of-type {\n",
       "        vertical-align: middle;\n",
       "    }\n",
       "\n",
       "    .dataframe tbody tr th {\n",
       "        vertical-align: top;\n",
       "    }\n",
       "\n",
       "    .dataframe thead th {\n",
       "        text-align: right;\n",
       "    }\n",
       "</style>\n",
       "<table border=\"1\" class=\"dataframe\">\n",
       "  <thead>\n",
       "    <tr style=\"text-align: right;\">\n",
       "      <th></th>\n",
       "      <th>number_of_events</th>\n",
       "    </tr>\n",
       "    <tr>\n",
       "      <th>event_name</th>\n",
       "      <th></th>\n",
       "    </tr>\n",
       "  </thead>\n",
       "  <tbody>\n",
       "    <tr>\n",
       "      <th>MainScreenAppear</th>\n",
       "      <td>99416</td>\n",
       "    </tr>\n",
       "    <tr>\n",
       "      <th>OffersScreenAppear</th>\n",
       "      <td>32187</td>\n",
       "    </tr>\n",
       "    <tr>\n",
       "      <th>CartScreenAppear</th>\n",
       "      <td>22124</td>\n",
       "    </tr>\n",
       "    <tr>\n",
       "      <th>PaymentScreenSuccessful</th>\n",
       "      <td>16667</td>\n",
       "    </tr>\n",
       "    <tr>\n",
       "      <th>Tutorial</th>\n",
       "      <td>927</td>\n",
       "    </tr>\n",
       "  </tbody>\n",
       "</table>\n",
       "</div>"
      ],
      "text/plain": [
       "                         number_of_events\n",
       "event_name                               \n",
       "MainScreenAppear                    99416\n",
       "OffersScreenAppear                  32187\n",
       "CartScreenAppear                    22124\n",
       "PaymentScreenSuccessful             16667\n",
       "Tutorial                              927"
      ]
     },
     "execution_count": 22,
     "metadata": {},
     "output_type": "execute_result"
    }
   ],
   "source": [
    "# формирование сводной таблицы\n",
    "events_count = (\n",
    "    df_filtered\n",
    "    .pivot_table(index='event_name', values='user_id', aggfunc='count')\n",
    "    .sort_values(by='user_id', ascending=False)\n",
    "    .rename(columns={'user_id': 'number_of_events'})\n",
    ")\n",
    "events_count"
   ]
  },
  {
   "cell_type": "markdown",
   "metadata": {},
   "source": [
    "В логе представлено пять различных вариантов событий:\n",
    "\n",
    "   * `MainScreenAppear` - появление главного экрана;\n",
    "   * `OffersScreenAppear` - появление экрана с продуктами;\n",
    "   * `CartScreenAppear` - появление экрана с корзиной;\n",
    "   * `PaymentScreenSuccessful` - появление экрана с подтверждением оплаты;\n",
    "   * `Tutorial` - появление экрана с обучением.\n",
    "   \n",
    "Посчитаем, сколько пользователей совершали каждое из этих событий."
   ]
  },
  {
   "cell_type": "code",
   "execution_count": 23,
   "metadata": {},
   "outputs": [
    {
     "name": "stdout",
     "output_type": "stream",
     "text": [
      "Количество пользователей, которые совершили каждое из событий: 406\n"
     ]
    }
   ],
   "source": [
    "# формирование вспомогательной таблицы\n",
    "number_of_events_by_users = (\n",
    "    df_filtered\n",
    "    .groupby('user_id')['event_name']\n",
    "    .nunique()\n",
    "    .reset_index()\n",
    ")\n",
    "print('Количество пользователей, которые совершили каждое из событий:',\n",
    "      number_of_events_by_users[number_of_events_by_users['event_name'] > 4]['user_id']\n",
    "      .count())"
   ]
  },
  {
   "cell_type": "markdown",
   "metadata": {},
   "source": [
    "Отсортируем события по числу пользователей."
   ]
  },
  {
   "cell_type": "code",
   "execution_count": 24,
   "metadata": {},
   "outputs": [
    {
     "data": {
      "text/html": [
       "<div>\n",
       "<style scoped>\n",
       "    .dataframe tbody tr th:only-of-type {\n",
       "        vertical-align: middle;\n",
       "    }\n",
       "\n",
       "    .dataframe tbody tr th {\n",
       "        vertical-align: top;\n",
       "    }\n",
       "\n",
       "    .dataframe thead th {\n",
       "        text-align: right;\n",
       "    }\n",
       "</style>\n",
       "<table border=\"1\" class=\"dataframe\">\n",
       "  <thead>\n",
       "    <tr style=\"text-align: right;\">\n",
       "      <th></th>\n",
       "      <th>event_name</th>\n",
       "      <th>number_of_users</th>\n",
       "    </tr>\n",
       "  </thead>\n",
       "  <tbody>\n",
       "    <tr>\n",
       "      <th>0</th>\n",
       "      <td>MainScreenAppear</td>\n",
       "      <td>7063</td>\n",
       "    </tr>\n",
       "    <tr>\n",
       "      <th>1</th>\n",
       "      <td>OffersScreenAppear</td>\n",
       "      <td>4245</td>\n",
       "    </tr>\n",
       "    <tr>\n",
       "      <th>2</th>\n",
       "      <td>CartScreenAppear</td>\n",
       "      <td>3397</td>\n",
       "    </tr>\n",
       "    <tr>\n",
       "      <th>3</th>\n",
       "      <td>PaymentScreenSuccessful</td>\n",
       "      <td>3205</td>\n",
       "    </tr>\n",
       "    <tr>\n",
       "      <th>4</th>\n",
       "      <td>Tutorial</td>\n",
       "      <td>776</td>\n",
       "    </tr>\n",
       "  </tbody>\n",
       "</table>\n",
       "</div>"
      ],
      "text/plain": [
       "                event_name  number_of_users\n",
       "0         MainScreenAppear             7063\n",
       "1       OffersScreenAppear             4245\n",
       "2         CartScreenAppear             3397\n",
       "3  PaymentScreenSuccessful             3205\n",
       "4                 Tutorial              776"
      ]
     },
     "execution_count": 24,
     "metadata": {},
     "output_type": "execute_result"
    }
   ],
   "source": [
    "# формирование вспомогательной таблицы\n",
    "funnel = (\n",
    "    df_filtered\n",
    "    .groupby('event_name')['user_id']\n",
    "    .nunique()\n",
    "    .sort_values(ascending=False)\n",
    "    .reset_index()\n",
    "    .rename(columns={'user_id': 'number_of_users'})\n",
    ")\n",
    "funnel"
   ]
  },
  {
   "cell_type": "markdown",
   "metadata": {},
   "source": [
    "Посчитаем долю пользователей, которые хоть раз совершали событие."
   ]
  },
  {
   "cell_type": "code",
   "execution_count": 25,
   "metadata": {},
   "outputs": [
    {
     "name": "stdout",
     "output_type": "stream",
     "text": [
      "Доля пользователей, которые совершили только одно событие: 0.38\n"
     ]
    }
   ],
   "source": [
    "print('Доля пользователей, которые совершили только одно событие:', \n",
    "      round(number_of_events_by_users[number_of_events_by_users['event_name'] == 1]['user_id']\n",
    "      .count() / df_filtered['user_id'].nunique(), 2))"
   ]
  },
  {
   "cell_type": "markdown",
   "metadata": {},
   "source": [
    "Попробуем разобраться, в каком же порядке происходят события. Попробуем сделать это на примере наших пользователей с одним событием. Посмотрим, какой же единственное событие у них было."
   ]
  },
  {
   "cell_type": "code",
   "execution_count": 26,
   "metadata": {},
   "outputs": [
    {
     "data": {
      "text/plain": [
       "array(['MainScreenAppear', 'OffersScreenAppear', 'Tutorial'], dtype=object)"
      ]
     },
     "execution_count": 26,
     "metadata": {},
     "output_type": "execute_result"
    }
   ],
   "source": [
    "# вывод списка событий у пользователей,\n",
    "# которые совершили одно событие\n",
    "df_filtered.loc[df_filtered['user_id'].\n",
    "                isin(number_of_events_by_users[number_of_events_by_users['event_name'] == 1]['user_id']),\n",
    "                'event_name'].unique()"
   ]
  },
  {
   "cell_type": "markdown",
   "metadata": {},
   "source": [
    "Можно увидеть, что кроме `MainScreenAppear` первыми событиями могут быть `OffersScreenAppear` и `Tutorial`. Если с `Tutorial` можно предположить, что возможность пройти обучение есть в самом начале пользования приложением, то с `OffersScreenAppear` всё не так однозначно. Проверим гипотезу, что появление экрана с продуктами первым событием связано с тем, что мы это логи с более раннего периода (те самые, которые мы ранее \"отсекли\")."
   ]
  },
  {
   "cell_type": "code",
   "execution_count": 27,
   "metadata": {},
   "outputs": [
    {
     "data": {
      "text/plain": [
       "31"
      ]
     },
     "execution_count": 27,
     "metadata": {},
     "output_type": "execute_result"
    }
   ],
   "source": [
    "# вывод количества раз, когда 'OffersScreenAppear' \n",
    "# является первым событием\n",
    "len(\n",
    "    df_filtered\n",
    "    .loc[(df_filtered['user_id']\n",
    "          .isin(number_of_events_by_users[number_of_events_by_users['event_name'] == 1]['user_id'])) \n",
    "         & (df_filtered['event_name'] == 'OffersScreenAppear')])"
   ]
  },
  {
   "cell_type": "markdown",
   "metadata": {},
   "source": [
    "Всего 31 запись в логе, поэтому ими можно пренебречь. И это косвенно подтверждает гипотезу о связи с логами с более раннего периода (данные за июль). События в большинстве случаев происходят по следующему сценарию:\n",
    "\n",
    "   * `MainScreenAppear` - появление главного экрана, пользователь заходит в приложение;\n",
    "   * `OffersScreenAppear` - появление экрана с продуктами, пользователь ознакамливается с продуктами, производит выбор;\n",
    "   * `CartScreenAppear` - появление экрана с корзиной, пользователь добавляет продукты в корзину;\n",
    "   * `PaymentScreenSuccessful` - появление экрана с подтверждением оплаты, пользователь оплачивает покупку.\n",
    "   \n",
    "`Tutorial` - появление экрана с обучением происходит скорее всего опционально, в зависимости от желания пользователя. Он может как только посмотреть обучение бз совершения дополнительных действий, так и перейти к обучению на любом этапе пользования приложением. Еще раз построим воронку, без учета \"обучения\" и посчитаем доли тех кто перешел на следующий шаг."
   ]
  },
  {
   "cell_type": "code",
   "execution_count": 28,
   "metadata": {},
   "outputs": [
    {
     "data": {
      "text/html": [
       "<div>\n",
       "<style scoped>\n",
       "    .dataframe tbody tr th:only-of-type {\n",
       "        vertical-align: middle;\n",
       "    }\n",
       "\n",
       "    .dataframe tbody tr th {\n",
       "        vertical-align: top;\n",
       "    }\n",
       "\n",
       "    .dataframe thead th {\n",
       "        text-align: right;\n",
       "    }\n",
       "</style>\n",
       "<table border=\"1\" class=\"dataframe\">\n",
       "  <thead>\n",
       "    <tr style=\"text-align: right;\">\n",
       "      <th></th>\n",
       "      <th>event_name</th>\n",
       "      <th>number_of_users</th>\n",
       "      <th>ratio</th>\n",
       "    </tr>\n",
       "  </thead>\n",
       "  <tbody>\n",
       "    <tr>\n",
       "      <th>0</th>\n",
       "      <td>MainScreenAppear</td>\n",
       "      <td>7063</td>\n",
       "      <td>1.00</td>\n",
       "    </tr>\n",
       "    <tr>\n",
       "      <th>1</th>\n",
       "      <td>OffersScreenAppear</td>\n",
       "      <td>4245</td>\n",
       "      <td>0.60</td>\n",
       "    </tr>\n",
       "    <tr>\n",
       "      <th>2</th>\n",
       "      <td>CartScreenAppear</td>\n",
       "      <td>3397</td>\n",
       "      <td>0.80</td>\n",
       "    </tr>\n",
       "    <tr>\n",
       "      <th>3</th>\n",
       "      <td>PaymentScreenSuccessful</td>\n",
       "      <td>3205</td>\n",
       "      <td>0.94</td>\n",
       "    </tr>\n",
       "  </tbody>\n",
       "</table>\n",
       "</div>"
      ],
      "text/plain": [
       "                event_name  number_of_users  ratio\n",
       "0         MainScreenAppear             7063   1.00\n",
       "1       OffersScreenAppear             4245   0.60\n",
       "2         CartScreenAppear             3397   0.80\n",
       "3  PaymentScreenSuccessful             3205   0.94"
      ]
     },
     "execution_count": 28,
     "metadata": {},
     "output_type": "execute_result"
    }
   ],
   "source": [
    "# формирование вспомогательной таблицы\n",
    "funnel_w_o_tutorial = (\n",
    "    df_filtered\n",
    "    .groupby('event_name')['user_id']\n",
    "    .nunique()\n",
    "    .sort_values(ascending=False)\n",
    "    .reset_index()\n",
    "    .rename(columns={'user_id': 'number_of_users'})\n",
    "    .drop(4)\n",
    ")\n",
    "funnel_w_o_tutorial['ratio'] = round(funnel_w_o_tutorial['number_of_users'] / \n",
    "                                     funnel_w_o_tutorial['number_of_users']\n",
    "                                     .shift(periods=1, fill_value=1*7063), 2)\n",
    "funnel_w_o_tutorial"
   ]
  },
  {
   "cell_type": "markdown",
   "metadata": {},
   "source": [
    "По результатам видно, что около 40% пользователей не пошли дальше первого шага. Рассчитаем процент пользователей, которые дошли от первого шага до успешной покупки."
   ]
  },
  {
   "cell_type": "code",
   "execution_count": 29,
   "metadata": {},
   "outputs": [
    {
     "name": "stdout",
     "output_type": "stream",
     "text": [
      "Процент пользователей, которые дошли от первого шага до успешной покупки: 45.38 %\n"
     ]
    }
   ],
   "source": [
    "print('Процент пользователей, которые дошли от первого шага до успешной покупки:',\n",
    "      round((funnel_w_o_tutorial.iloc[3,1] / funnel_w_o_tutorial.iloc[0,1]) * 100, 2), '%')"
   ]
  },
  {
   "cell_type": "markdown",
   "metadata": {},
   "source": [
    "**Выводы**\n",
    "\n",
    "Таким образом, мы выяснили следующее:\n",
    "* Всего 406 пользователей прошли все пять событий.;\n",
    "* После составления воронки обнаружили, что после первого шага \"отваливается\" около 40% пользователей, после последующих шагов потери существенно меньше;\n",
    "* Положив товар в корзину пользователь почти наверняка совершит покупку."
   ]
  },
  {
   "cell_type": "markdown",
   "metadata": {},
   "source": [
    "## Анализ результатов эксперимента\n",
    "Приступим к изучению результатов эксперимента. Для начала, определим сколько пользователей в каждой экспериментальной группе."
   ]
  },
  {
   "cell_type": "code",
   "execution_count": 30,
   "metadata": {},
   "outputs": [
    {
     "data": {
      "text/html": [
       "<div>\n",
       "<style scoped>\n",
       "    .dataframe tbody tr th:only-of-type {\n",
       "        vertical-align: middle;\n",
       "    }\n",
       "\n",
       "    .dataframe tbody tr th {\n",
       "        vertical-align: top;\n",
       "    }\n",
       "\n",
       "    .dataframe thead th {\n",
       "        text-align: right;\n",
       "    }\n",
       "</style>\n",
       "<table border=\"1\" class=\"dataframe\">\n",
       "  <thead>\n",
       "    <tr style=\"text-align: right;\">\n",
       "      <th></th>\n",
       "      <th>exp_id</th>\n",
       "      <th>number_of_users</th>\n",
       "    </tr>\n",
       "  </thead>\n",
       "  <tbody>\n",
       "    <tr>\n",
       "      <th>0</th>\n",
       "      <td>246</td>\n",
       "      <td>2365</td>\n",
       "    </tr>\n",
       "    <tr>\n",
       "      <th>1</th>\n",
       "      <td>247</td>\n",
       "      <td>2399</td>\n",
       "    </tr>\n",
       "    <tr>\n",
       "      <th>2</th>\n",
       "      <td>248</td>\n",
       "      <td>2409</td>\n",
       "    </tr>\n",
       "  </tbody>\n",
       "</table>\n",
       "</div>"
      ],
      "text/plain": [
       "   exp_id  number_of_users\n",
       "0     246             2365\n",
       "1     247             2399\n",
       "2     248             2409"
      ]
     },
     "execution_count": 30,
     "metadata": {},
     "output_type": "execute_result"
    }
   ],
   "source": [
    "# вывод количества пользователей\n",
    "# по группам тестирования\n",
    "number_of_users_filtered = (\n",
    "    df_filtered\n",
    "    .groupby('exp_id')\n",
    "    .agg({'user_id': 'nunique'})\n",
    "    .reset_index()\n",
    "    .rename(columns={'user_id':'number_of_users'})\n",
    ")\n",
    "number_of_users_filtered"
   ]
  },
  {
   "cell_type": "markdown",
   "metadata": {},
   "source": [
    "Проверим, находят ли статистические критерии разницу между выборками 246 и 247. Для этого сформируем таблицу с информацией по событиям по каждой группе."
   ]
  },
  {
   "cell_type": "code",
   "execution_count": 31,
   "metadata": {},
   "outputs": [
    {
     "data": {
      "text/html": [
       "<div>\n",
       "<style scoped>\n",
       "    .dataframe tbody tr th:only-of-type {\n",
       "        vertical-align: middle;\n",
       "    }\n",
       "\n",
       "    .dataframe tbody tr th {\n",
       "        vertical-align: top;\n",
       "    }\n",
       "\n",
       "    .dataframe thead th {\n",
       "        text-align: right;\n",
       "    }\n",
       "</style>\n",
       "<table border=\"1\" class=\"dataframe\">\n",
       "  <thead>\n",
       "    <tr style=\"text-align: right;\">\n",
       "      <th>event_name</th>\n",
       "      <th>exp_id</th>\n",
       "      <th>CartScreenAppear</th>\n",
       "      <th>MainScreenAppear</th>\n",
       "      <th>OffersScreenAppear</th>\n",
       "      <th>PaymentScreenSuccessful</th>\n",
       "      <th>Tutorial</th>\n",
       "      <th>number_of_users</th>\n",
       "    </tr>\n",
       "  </thead>\n",
       "  <tbody>\n",
       "    <tr>\n",
       "      <th>0</th>\n",
       "      <td>246</td>\n",
       "      <td>1154</td>\n",
       "      <td>2332</td>\n",
       "      <td>1427</td>\n",
       "      <td>1088</td>\n",
       "      <td>253</td>\n",
       "      <td>2365</td>\n",
       "    </tr>\n",
       "    <tr>\n",
       "      <th>1</th>\n",
       "      <td>247</td>\n",
       "      <td>1134</td>\n",
       "      <td>2365</td>\n",
       "      <td>1411</td>\n",
       "      <td>1055</td>\n",
       "      <td>268</td>\n",
       "      <td>2399</td>\n",
       "    </tr>\n",
       "    <tr>\n",
       "      <th>2</th>\n",
       "      <td>248</td>\n",
       "      <td>1109</td>\n",
       "      <td>2366</td>\n",
       "      <td>1407</td>\n",
       "      <td>1062</td>\n",
       "      <td>255</td>\n",
       "      <td>2409</td>\n",
       "    </tr>\n",
       "  </tbody>\n",
       "</table>\n",
       "</div>"
      ],
      "text/plain": [
       "event_name  exp_id  CartScreenAppear  MainScreenAppear  OffersScreenAppear  \\\n",
       "0              246              1154              2332                1427   \n",
       "1              247              1134              2365                1411   \n",
       "2              248              1109              2366                1407   \n",
       "\n",
       "event_name  PaymentScreenSuccessful  Tutorial  number_of_users  \n",
       "0                              1088       253             2365  \n",
       "1                              1055       268             2399  \n",
       "2                              1062       255             2409  "
      ]
     },
     "execution_count": 31,
     "metadata": {},
     "output_type": "execute_result"
    }
   ],
   "source": [
    "# формирование вспомогательной таблицы\n",
    "users_by_events = (\n",
    "    df_filtered\n",
    "    .pivot_table(index = 'exp_id',\n",
    "                 columns = 'event_name',\n",
    "                 values = 'user_id',\n",
    "                 aggfunc = 'nunique')\n",
    "    .reset_index()\n",
    ")\n",
    "\n",
    "# добавим столбец с количеством \n",
    "# пользователей в группах\n",
    "users_by_events['number_of_users'] = number_of_users_filtered['number_of_users']\n",
    "\n",
    "users_by_events"
   ]
  },
  {
   "cell_type": "markdown",
   "metadata": {},
   "source": [
    "Cравним доли клиентов групп 246 и 247, оплативших заказ. Из 2365 пользователей группы 246, заказ оплатили 1088 человек; а из 2399 пользователей группы 247 — 1055. Попробуем сделать вывод о разнице в конверсии для этих групп. Для начала сформулируем гипотезы:\n",
    "   * H₀ - различий в долях клиентов, оплативших заказ между группами нет;\n",
    "   * H₁ - различия в долях клиентов, оплативших заказ между группами есть.\n",
    "   \n",
    "Сформируем функцию."
   ]
  },
  {
   "cell_type": "code",
   "execution_count": 32,
   "metadata": {},
   "outputs": [],
   "source": [
    "# формирование вспомогательной функции\n",
    "# для вывода результатов теста\n",
    "def result(value_1, value_2):\n",
    "    if value_1 < value_2:\n",
    "        print('Отвергаем нулевую гипотезу: между долями есть значимая разница')\n",
    "    else:\n",
    "        print('Не получилось отвергнуть нулевую гипотезу, нет оснований считать доли разными')\n",
    "\n",
    "# формирование функции\n",
    "def hypo_test (trials_1, trials_2, successes_1, successes_2, alpha):\n",
    "    \n",
    "    # пропорция успехов в первой группе\n",
    "    p1 = successes_1/trials_1\n",
    "    \n",
    "    # пропорция успехов во второй группе\n",
    "    p2 = successes_2/trials_2\n",
    "\n",
    "    # пропорция успехов в комбинированном датасете\n",
    "    p_combined = (successes_1 + \n",
    "                  successes_2) / (trials_1 + \n",
    "                                 trials_2)\n",
    "\n",
    "    # разница пропорций в датасетах\n",
    "    difference = p1 - p2 \n",
    "\n",
    "    # считаем статистику в ст.отклонениях стандартного нормального распределения\n",
    "    z_value = difference / mth.sqrt(p_combined * \n",
    "                                    (1 - p_combined) * \n",
    "                                    (1 / trials_1 + 1 / trials_2))\n",
    "\n",
    "    # задаем стандартное нормальное распределение (среднее 0, ст.отклонение 1)\n",
    "    distr = stats.norm(0, 1)\n",
    "\n",
    "    p_value = (1 - distr.cdf(abs(z_value))) * 2\n",
    "    \n",
    "    pr_1 = print('p-значение: ', p_value)\n",
    "    \n",
    "    pr_2 = result(p_value, alpha)\n",
    "    \n",
    "    return pr_1, pr_2"
   ]
  },
  {
   "cell_type": "markdown",
   "metadata": {},
   "source": [
    "Проведем проверку гипотез, запустив функцию для групп 246 и 247 и назначив критический уровень статистической значимости равный 0.05."
   ]
  },
  {
   "cell_type": "code",
   "execution_count": 33,
   "metadata": {},
   "outputs": [
    {
     "name": "stdout",
     "output_type": "stream",
     "text": [
      "**Проверка гипотезы о различиях в долях клиентов по событию PaymentScreenSuccessful в группах 246 и 247**\n",
      "p-значение:  0.15956763723683043\n",
      "Не получилось отвергнуть нулевую гипотезу, нет оснований считать доли разными\n"
     ]
    },
    {
     "data": {
      "text/plain": [
       "(None, None)"
      ]
     },
     "execution_count": 33,
     "metadata": {},
     "output_type": "execute_result"
    }
   ],
   "source": [
    "print('**Проверка гипотезы о различиях в долях клиентов по событию', \n",
    "      users_by_events.columns[4], 'в группах 246 и 247**')\n",
    "hypo_test (users_by_events.iloc[0,6],\n",
    "           users_by_events.iloc[1,6],\n",
    "           users_by_events.iloc[0,4],\n",
    "           users_by_events.iloc[1,4], 0.05)"
   ]
  },
  {
   "cell_type": "markdown",
   "metadata": {},
   "source": [
    "Тест проведен корректно - статистически значимых различий между двумя А-группами не обнаружено. \n",
    "\n",
    "Выберем самое популярное событие. Cудя по таблице `users_by_events` самым популярным событием ожидаемо является `MainScreenAppear` - появление главного экрана. Количество пользователей в группах, совершивших данное событие мы определили, осталось посчитать доли от общего количества пользователей по группам. Для удобства сформируем вспомогательную таблицу и выведем ее на экран."
   ]
  },
  {
   "cell_type": "code",
   "execution_count": 34,
   "metadata": {},
   "outputs": [
    {
     "data": {
      "text/html": [
       "<div>\n",
       "<style scoped>\n",
       "    .dataframe tbody tr th:only-of-type {\n",
       "        vertical-align: middle;\n",
       "    }\n",
       "\n",
       "    .dataframe tbody tr th {\n",
       "        vertical-align: top;\n",
       "    }\n",
       "\n",
       "    .dataframe thead th {\n",
       "        text-align: right;\n",
       "    }\n",
       "</style>\n",
       "<table border=\"1\" class=\"dataframe\">\n",
       "  <thead>\n",
       "    <tr style=\"text-align: right;\">\n",
       "      <th>event_name</th>\n",
       "      <th>exp_id</th>\n",
       "      <th>MainScreenAppear</th>\n",
       "      <th>number_of_users</th>\n",
       "      <th>ratio</th>\n",
       "    </tr>\n",
       "  </thead>\n",
       "  <tbody>\n",
       "    <tr>\n",
       "      <th>0</th>\n",
       "      <td>246</td>\n",
       "      <td>2332</td>\n",
       "      <td>2365</td>\n",
       "      <td>0.986</td>\n",
       "    </tr>\n",
       "    <tr>\n",
       "      <th>1</th>\n",
       "      <td>247</td>\n",
       "      <td>2365</td>\n",
       "      <td>2399</td>\n",
       "      <td>0.986</td>\n",
       "    </tr>\n",
       "    <tr>\n",
       "      <th>2</th>\n",
       "      <td>248</td>\n",
       "      <td>2366</td>\n",
       "      <td>2409</td>\n",
       "      <td>0.982</td>\n",
       "    </tr>\n",
       "  </tbody>\n",
       "</table>\n",
       "</div>"
      ],
      "text/plain": [
       "event_name  exp_id  MainScreenAppear  number_of_users  ratio\n",
       "0              246              2332             2365  0.986\n",
       "1              247              2365             2399  0.986\n",
       "2              248              2366             2409  0.982"
      ]
     },
     "execution_count": 34,
     "metadata": {},
     "output_type": "execute_result"
    }
   ],
   "source": [
    "# формирование вспомогательной таблицы\n",
    "top_event = users_by_events[['exp_id', 'MainScreenAppear', 'number_of_users']].copy()\n",
    "top_event['ratio'] = round(top_event['MainScreenAppear'] / top_event['number_of_users'], 3)\n",
    "top_event"
   ]
  },
  {
   "cell_type": "markdown",
   "metadata": {},
   "source": [
    "Подавляющее большинство пользователей в каждой из групп (98-99%) проходили через главный экран приложения.\n",
    "\n",
    "Проверим, будет ли отличие между группами 246 и 247 статистически достоверным. "
   ]
  },
  {
   "cell_type": "code",
   "execution_count": 35,
   "metadata": {},
   "outputs": [
    {
     "name": "stdout",
     "output_type": "stream",
     "text": [
      "**Проверка гипотезы о различиях в долях клиентов по событию MainScreenAppear в группах 246 и 247**\n",
      "p-значение:  0.9488058453077359\n",
      "Не получилось отвергнуть нулевую гипотезу, нет оснований считать доли разными\n"
     ]
    },
    {
     "data": {
      "text/plain": [
       "(None, None)"
      ]
     },
     "execution_count": 35,
     "metadata": {},
     "output_type": "execute_result"
    }
   ],
   "source": [
    "print('**Проверка гипотезы о различиях в долях клиентов по событию', \n",
    "      users_by_events.columns[2], 'в группах 246 и 247**')\n",
    "hypo_test (users_by_events.iloc[0,6], \n",
    "           users_by_events.iloc[1,6], \n",
    "           users_by_events.iloc[0,2], \n",
    "           users_by_events.iloc[1,2], 0.05)"
   ]
  },
  {
   "cell_type": "markdown",
   "metadata": {},
   "source": [
    "Cтатистически значимых различий между группами 246 и 247 по результатам проверки различий в долях клиентов, взаимодействующих с главным экраном, не обнаружено.\n",
    "\n",
    "Проведем проверку по остальным событиям. Пойдем по порядку: `OffersScreenAppear`, `CartScreenAppear` и `Tutorial`."
   ]
  },
  {
   "cell_type": "code",
   "execution_count": 36,
   "metadata": {},
   "outputs": [
    {
     "name": "stdout",
     "output_type": "stream",
     "text": [
      "**Проверка гипотезы о различиях в долях клиентов по событию OffersScreenAppear в группах 246 и 247**\n",
      "p-значение:  0.2844644518221826\n",
      "Не получилось отвергнуть нулевую гипотезу, нет оснований считать доли разными\n",
      "\n",
      "\n",
      "**Проверка гипотезы о различиях в долях клиентов по событию CartScreenAppear в группах 246 и 247**\n",
      "p-значение:  0.2920961972474885\n",
      "Не получилось отвергнуть нулевую гипотезу, нет оснований считать доли разными\n",
      "\n",
      "\n",
      "**Проверка гипотезы о различиях в долях клиентов по событию Tutorial в группах 246 и 247**\n",
      "p-значение:  0.6004592136258189\n",
      "Не получилось отвергнуть нулевую гипотезу, нет оснований считать доли разными\n",
      "\n",
      "\n"
     ]
    }
   ],
   "source": [
    "# воспользуемся циклом\n",
    "column_list = [3, 1, 5]\n",
    "for column_number in column_list:\n",
    "    print('**Проверка гипотезы о различиях в долях клиентов по событию', \n",
    "      users_by_events.columns[column_number], 'в группах 246 и 247**')\n",
    "    hypo_test (users_by_events.iloc[0,6],\n",
    "               users_by_events.iloc[1,6],\n",
    "               users_by_events.iloc[0,column_number],\n",
    "               users_by_events.iloc[1,column_number], 0.05)\n",
    "    print('\\n')"
   ]
  },
  {
   "cell_type": "markdown",
   "metadata": {},
   "source": [
    "По результатам проверок можно сделать общий вывод, что статистически значимых различий между группами 246 и 247 нет и группы разбиты корректно.\n",
    "\n",
    "Сравним результаты группы 248 с каждой из групп 246 и 247 в отдельности по каждому событию."
   ]
  },
  {
   "cell_type": "code",
   "execution_count": 37,
   "metadata": {},
   "outputs": [
    {
     "name": "stdout",
     "output_type": "stream",
     "text": [
      "**Проверка гипотезы о различиях в долях клиентов по событию MainScreenAppear в группах 246 и 248**\n",
      "p-значение:  0.2822092595945087\n",
      "Не получилось отвергнуть нулевую гипотезу, нет оснований считать доли разными\n",
      "\n",
      "\n",
      "**Проверка гипотезы о различиях в долях клиентов по событию MainScreenAppear в группах 247 и 248**\n",
      "p-значение:  0.30983823318398684\n",
      "Не получилось отвергнуть нулевую гипотезу, нет оснований считать доли разными\n",
      "\n",
      "\n",
      "\n",
      "\n",
      "**Проверка гипотезы о различиях в долях клиентов по событию OffersScreenAppear в группах 246 и 248**\n",
      "p-значение:  0.17411984437962635\n",
      "Не получилось отвергнуть нулевую гипотезу, нет оснований считать доли разными\n",
      "\n",
      "\n",
      "**Проверка гипотезы о различиях в долях клиентов по событию OffersScreenAppear в группах 247 и 248**\n",
      "p-значение:  0.7727788233190573\n",
      "Не получилось отвергнуть нулевую гипотезу, нет оснований считать доли разными\n",
      "\n",
      "\n",
      "\n",
      "\n",
      "**Проверка гипотезы о различиях в долях клиентов по событию CartScreenAppear в группах 246 и 248**\n",
      "p-значение:  0.05626720797991558\n",
      "Не получилось отвергнуть нулевую гипотезу, нет оснований считать доли разными\n",
      "\n",
      "\n",
      "**Проверка гипотезы о различиях в долях клиентов по событию CartScreenAppear в группах 247 и 248**\n",
      "p-значение:  0.3911281023781876\n",
      "Не получилось отвергнуть нулевую гипотезу, нет оснований считать доли разными\n",
      "\n",
      "\n",
      "\n",
      "\n",
      "**Проверка гипотезы о различиях в долях клиентов по событию PaymentScreenSuccessful в группах 246 и 248**\n",
      "p-значение:  0.18258984074768403\n",
      "Не получилось отвергнуть нулевую гипотезу, нет оснований считать доли разными\n",
      "\n",
      "\n",
      "**Проверка гипотезы о различиях в долях клиентов по событию PaymentScreenSuccessful в группах 247 и 248**\n",
      "p-значение:  0.939861444239728\n",
      "Не получилось отвергнуть нулевую гипотезу, нет оснований считать доли разными\n",
      "\n",
      "\n",
      "\n",
      "\n",
      "**Проверка гипотезы о различиях в долях клиентов по событию Tutorial в группах 246 и 248**\n",
      "p-значение:  0.8998214332207524\n",
      "Не получилось отвергнуть нулевую гипотезу, нет оснований считать доли разными\n",
      "\n",
      "\n",
      "**Проверка гипотезы о различиях в долях клиентов по событию Tutorial в группах 247 и 248**\n",
      "p-значение:  0.514060593022434\n",
      "Не получилось отвергнуть нулевую гипотезу, нет оснований считать доли разными\n",
      "\n",
      "\n",
      "\n",
      "\n"
     ]
    }
   ],
   "source": [
    "# воспользуемся циклом\n",
    "column_list = [2, 3, 1, 4, 5]\n",
    "for column_number in column_list:\n",
    "    print('**Проверка гипотезы о различиях в долях клиентов по событию', \n",
    "      users_by_events.columns[column_number], 'в группах 246 и 248**')\n",
    "    hypo_test (users_by_events.iloc[0,6],\n",
    "               users_by_events.iloc[2,6],\n",
    "               users_by_events.iloc[0,column_number],\n",
    "               users_by_events.iloc[2,column_number], 0.05)\n",
    "    print('\\n')\n",
    "    print('**Проверка гипотезы о различиях в долях клиентов по событию', \n",
    "      users_by_events.columns[column_number], 'в группах 247 и 248**')\n",
    "    hypo_test (users_by_events.iloc[1,6],\n",
    "               users_by_events.iloc[2,6],\n",
    "               users_by_events.iloc[1,column_number],\n",
    "               users_by_events.iloc[2,column_number], 0.05)\n",
    "    print('\\n')\n",
    "    print('\\n')"
   ]
  },
  {
   "cell_type": "markdown",
   "metadata": {},
   "source": [
    "По результатам проверок можно сделать общий вывод, что статистически значимых различий между группами 246, 247 и 248 нет. Предварительно можно сделать вывод, что замена шрифта не повлияла на пользователей.\n",
    "\n",
    "Далее добавим в таблицу `users_by_events` строку с данными по объединённой контрольной группе 246_247 для сравнения результатов с группой 248."
   ]
  },
  {
   "cell_type": "code",
   "execution_count": 38,
   "metadata": {},
   "outputs": [
    {
     "data": {
      "text/html": [
       "<div>\n",
       "<style scoped>\n",
       "    .dataframe tbody tr th:only-of-type {\n",
       "        vertical-align: middle;\n",
       "    }\n",
       "\n",
       "    .dataframe tbody tr th {\n",
       "        vertical-align: top;\n",
       "    }\n",
       "\n",
       "    .dataframe thead th {\n",
       "        text-align: right;\n",
       "    }\n",
       "</style>\n",
       "<table border=\"1\" class=\"dataframe\">\n",
       "  <thead>\n",
       "    <tr style=\"text-align: right;\">\n",
       "      <th>event_name</th>\n",
       "      <th>exp_id</th>\n",
       "      <th>CartScreenAppear</th>\n",
       "      <th>MainScreenAppear</th>\n",
       "      <th>OffersScreenAppear</th>\n",
       "      <th>PaymentScreenSuccessful</th>\n",
       "      <th>Tutorial</th>\n",
       "      <th>number_of_users</th>\n",
       "    </tr>\n",
       "  </thead>\n",
       "  <tbody>\n",
       "    <tr>\n",
       "      <th>0</th>\n",
       "      <td>246</td>\n",
       "      <td>1154</td>\n",
       "      <td>2332</td>\n",
       "      <td>1427</td>\n",
       "      <td>1088</td>\n",
       "      <td>253</td>\n",
       "      <td>2365</td>\n",
       "    </tr>\n",
       "    <tr>\n",
       "      <th>1</th>\n",
       "      <td>247</td>\n",
       "      <td>1134</td>\n",
       "      <td>2365</td>\n",
       "      <td>1411</td>\n",
       "      <td>1055</td>\n",
       "      <td>268</td>\n",
       "      <td>2399</td>\n",
       "    </tr>\n",
       "    <tr>\n",
       "      <th>2</th>\n",
       "      <td>248</td>\n",
       "      <td>1109</td>\n",
       "      <td>2366</td>\n",
       "      <td>1407</td>\n",
       "      <td>1062</td>\n",
       "      <td>255</td>\n",
       "      <td>2409</td>\n",
       "    </tr>\n",
       "    <tr>\n",
       "      <th>3</th>\n",
       "      <td>246_247</td>\n",
       "      <td>2288</td>\n",
       "      <td>4697</td>\n",
       "      <td>2838</td>\n",
       "      <td>2143</td>\n",
       "      <td>521</td>\n",
       "      <td>4764</td>\n",
       "    </tr>\n",
       "  </tbody>\n",
       "</table>\n",
       "</div>"
      ],
      "text/plain": [
       "event_name   exp_id  CartScreenAppear  MainScreenAppear  OffersScreenAppear  \\\n",
       "0               246              1154              2332                1427   \n",
       "1               247              1134              2365                1411   \n",
       "2               248              1109              2366                1407   \n",
       "3           246_247              2288              4697                2838   \n",
       "\n",
       "event_name  PaymentScreenSuccessful  Tutorial  number_of_users  \n",
       "0                              1088       253             2365  \n",
       "1                              1055       268             2399  \n",
       "2                              1062       255             2409  \n",
       "3                              2143       521             4764  "
      ]
     },
     "execution_count": 38,
     "metadata": {},
     "output_type": "execute_result"
    }
   ],
   "source": [
    "# дополнение таблицы информацией по объединенной контрольной группе\n",
    "new_row = users_by_events.loc[0] + users_by_events.loc[1]\n",
    "users_by_events_all = users_by_events.copy()\n",
    "users_by_events_all = users_by_events_all.append([new_row]).reset_index(drop=True)\n",
    "users_by_events_all.iloc[3,0] = '246_247'\n",
    "users_by_events_all"
   ]
  },
  {
   "cell_type": "markdown",
   "metadata": {},
   "source": [
    "Сравним результаты группы 248 с объединённой контрольной группой 246_247 в отдельности по каждому событию."
   ]
  },
  {
   "cell_type": "code",
   "execution_count": 39,
   "metadata": {},
   "outputs": [
    {
     "name": "stdout",
     "output_type": "stream",
     "text": [
      "**Проверка гипотезы о различиях в долях клиентов по событию MainScreenAppear в группах 246_247 и 248**\n",
      "p-значение:  0.2178174063864624\n",
      "Не получилось отвергнуть нулевую гипотезу, нет оснований считать доли разными\n",
      "\n",
      "\n",
      "**Проверка гипотезы о различиях в долях клиентов по событию OffersScreenAppear в группах 246_247 и 248**\n",
      "p-значение:  0.342740437463807\n",
      "Не получилось отвергнуть нулевую гипотезу, нет оснований считать доли разными\n",
      "\n",
      "\n",
      "**Проверка гипотезы о различиях в долях клиентов по событию CartScreenAppear в группах 246_247 и 248**\n",
      "p-значение:  0.11068078406757342\n",
      "Не получилось отвергнуть нулевую гипотезу, нет оснований считать доли разными\n",
      "\n",
      "\n",
      "**Проверка гипотезы о различиях в долях клиентов по событию PaymentScreenSuccessful в группах 246_247 и 248**\n",
      "p-значение:  0.46973441160530083\n",
      "Не получилось отвергнуть нулевую гипотезу, нет оснований считать доли разными\n",
      "\n",
      "\n",
      "**Проверка гипотезы о различиях в долях клиентов по событию Tutorial в группах 246_247 и 248**\n",
      "p-значение:  0.651374302235515\n",
      "Не получилось отвергнуть нулевую гипотезу, нет оснований считать доли разными\n",
      "\n",
      "\n"
     ]
    }
   ],
   "source": [
    "# воспользуемся циклом\n",
    "column_list = [2, 3, 1, 4, 5]\n",
    "for column_number in column_list:\n",
    "    print('**Проверка гипотезы о различиях в долях клиентов по событию', \n",
    "      users_by_events_all.columns[column_number], 'в группах 246_247 и 248**')\n",
    "    hypo_test (users_by_events_all.iloc[3,6],\n",
    "               users_by_events_all.iloc[2,6],\n",
    "               users_by_events_all.iloc[3,column_number],\n",
    "               users_by_events_all.iloc[2,column_number], 0.05)\n",
    "    print('\\n')"
   ]
  },
  {
   "cell_type": "markdown",
   "metadata": {},
   "source": [
    "По результатам проверок можно сделать общий вывод, что статистически значимых различий между группами 246_247 и 248 также нет.\n",
    "Подтвердим вывод, что что замена шрифта не повлияла на пользователей.\n",
    "\n",
    "При проверке статистических гипотез выше мы выбрали уровень значимости равный 0.05. Посчитаем, сколько проверок статистических гипотез мы сделали. Мы провели множественный тест, т.е. брали несколько выборок из одного и того же набора данных. Его особенность в том, что с каждой новой проверкой гипотезы растёт вероятность ошибки первого рода. При уровне значимости 0.1 каждый десятый раз можно получать ложный результат."
   ]
  },
  {
   "cell_type": "code",
   "execution_count": 40,
   "metadata": {},
   "outputs": [
    {
     "name": "stdout",
     "output_type": "stream",
     "text": [
      "Было сделано проверок статистических гипотез: 20\n"
     ]
    }
   ],
   "source": [
    "number_of_test = len(users_by_events_all['exp_id'].unique()) * len(df['event_name'].unique())\n",
    "print('Было сделано проверок статистических гипотез:', number_of_test)"
   ]
  },
  {
   "cell_type": "markdown",
   "metadata": {},
   "source": [
    "Определим, какой уровень значимости стоит применить. Выберем метод Шидака - он наиболее точен. Рассчитаем значение `p-value`. "
   ]
  },
  {
   "cell_type": "code",
   "execution_count": 41,
   "metadata": {},
   "outputs": [
    {
     "name": "stdout",
     "output_type": "stream",
     "text": [
      "Уточненый p-value: 0.0025613787765302876\n"
     ]
    }
   ],
   "source": [
    "p_value = 1 - (1 - 0.05)**(1 / number_of_test)\n",
    "print('Уточненый p-value:', p_value)"
   ]
  },
  {
   "cell_type": "markdown",
   "metadata": {},
   "source": [
    "Результаты не изменятся, уточненный p-value получился еще меньше. Внесённые нами изменения никак не повлияли на метрики и на поведения пользователей. Поэтому смысла в их применении ко всему ресурсу нет - они не принесут никакой выгоды бизнесу."
   ]
  },
  {
   "cell_type": "markdown",
   "metadata": {},
   "source": [
    "## Общий вывод\n",
    "\n",
    "В конечном итоге было проведено 20 проверок статистических гипотез. Результаты показали, что статистически значимых различий между группами 246, 247 и 248 нет, также нет различий между группами 246_247 и 248. Был использован уровень значимости равный 0.05, изменять который в нашем случае особого смысла нет, так как уточненное по методу Шидака значение оказалось еще меньше.\n",
    "\n",
    "На основе полученных данных можно утверждать, что гипотеза о том, что изменение шрифта на главной странице как-то повлияет на метрики конверсии, не подтвердилась. Тем не менее, учитывая то, что данные у нас только за 1 неделю, рекомендовано пособирать данные ещё за 1 неделю (чтобы иметь картину за 2 недели) и провести повторные подсчеты. Но ожидать того, что ситуация кардинально изменится и мы обнаружим статистически значимые различия между группами, не стоит, учитывая полученные величины p_value."
   ]
  }
 ],
 "metadata": {
  "ExecuteTimeLog": [
   {
    "duration": 1216,
    "start_time": "2022-06-20T09:31:36.592Z"
   },
   {
    "duration": 3,
    "start_time": "2022-06-20T09:32:13.626Z"
   },
   {
    "duration": 615,
    "start_time": "2022-06-20T09:32:26.262Z"
   },
   {
    "duration": 160,
    "start_time": "2022-06-20T09:36:36.753Z"
   },
   {
    "duration": 19,
    "start_time": "2022-06-20T09:37:23.829Z"
   },
   {
    "duration": 52,
    "start_time": "2022-06-20T09:38:05.414Z"
   },
   {
    "duration": 57,
    "start_time": "2022-06-20T09:39:05.902Z"
   },
   {
    "duration": 59,
    "start_time": "2022-06-20T09:39:43.035Z"
   },
   {
    "duration": 7,
    "start_time": "2022-06-20T09:58:21.054Z"
   },
   {
    "duration": 53,
    "start_time": "2022-06-20T10:00:58.722Z"
   },
   {
    "duration": 51,
    "start_time": "2022-06-20T10:01:03.861Z"
   },
   {
    "duration": 3,
    "start_time": "2022-06-20T11:08:36.112Z"
   },
   {
    "duration": 153,
    "start_time": "2022-06-20T11:08:36.121Z"
   },
   {
    "duration": 18,
    "start_time": "2022-06-20T11:08:36.276Z"
   },
   {
    "duration": 63,
    "start_time": "2022-06-20T11:08:36.296Z"
   },
   {
    "duration": 8,
    "start_time": "2022-06-20T11:08:36.360Z"
   },
   {
    "duration": 59,
    "start_time": "2022-06-20T11:08:36.370Z"
   },
   {
    "duration": 140,
    "start_time": "2022-06-20T11:08:39.922Z"
   },
   {
    "duration": 62,
    "start_time": "2022-06-20T11:09:08.709Z"
   },
   {
    "duration": 45,
    "start_time": "2022-06-20T11:09:44.194Z"
   },
   {
    "duration": 70,
    "start_time": "2022-06-20T11:09:57.013Z"
   },
   {
    "duration": 103,
    "start_time": "2022-06-20T11:10:47.950Z"
   },
   {
    "duration": 138,
    "start_time": "2022-06-20T11:15:54.170Z"
   },
   {
    "duration": 3,
    "start_time": "2022-06-20T11:16:08.013Z"
   },
   {
    "duration": 150,
    "start_time": "2022-06-20T11:16:08.021Z"
   },
   {
    "duration": 16,
    "start_time": "2022-06-20T11:16:08.173Z"
   },
   {
    "duration": 68,
    "start_time": "2022-06-20T11:16:08.190Z"
   },
   {
    "duration": 6,
    "start_time": "2022-06-20T11:16:08.260Z"
   },
   {
    "duration": 79,
    "start_time": "2022-06-20T11:16:08.268Z"
   },
   {
    "duration": 107,
    "start_time": "2022-06-20T11:16:08.348Z"
   },
   {
    "duration": 38,
    "start_time": "2022-06-20T11:16:11.219Z"
   },
   {
    "duration": 3,
    "start_time": "2022-06-20T11:16:22.960Z"
   },
   {
    "duration": 155,
    "start_time": "2022-06-20T11:16:22.967Z"
   },
   {
    "duration": 16,
    "start_time": "2022-06-20T11:16:23.123Z"
   },
   {
    "duration": 63,
    "start_time": "2022-06-20T11:16:23.141Z"
   },
   {
    "duration": 7,
    "start_time": "2022-06-20T11:16:23.206Z"
   },
   {
    "duration": 67,
    "start_time": "2022-06-20T11:16:23.215Z"
   },
   {
    "duration": 124,
    "start_time": "2022-06-20T11:16:23.284Z"
   },
   {
    "duration": 43,
    "start_time": "2022-06-20T11:16:27.272Z"
   },
   {
    "duration": 43,
    "start_time": "2022-06-20T11:16:36.641Z"
   },
   {
    "duration": 3,
    "start_time": "2022-06-20T11:16:43.416Z"
   },
   {
    "duration": 150,
    "start_time": "2022-06-20T11:16:43.421Z"
   },
   {
    "duration": 17,
    "start_time": "2022-06-20T11:16:43.572Z"
   },
   {
    "duration": 73,
    "start_time": "2022-06-20T11:16:43.591Z"
   },
   {
    "duration": 7,
    "start_time": "2022-06-20T11:16:43.666Z"
   },
   {
    "duration": 53,
    "start_time": "2022-06-20T11:16:43.675Z"
   },
   {
    "duration": 129,
    "start_time": "2022-06-20T11:16:43.729Z"
   },
   {
    "duration": 46,
    "start_time": "2022-06-20T11:16:46.107Z"
   },
   {
    "duration": 3,
    "start_time": "2022-06-20T11:24:06.472Z"
   },
   {
    "duration": 28,
    "start_time": "2022-06-20T11:25:36.200Z"
   },
   {
    "duration": 27,
    "start_time": "2022-06-20T11:25:46.496Z"
   },
   {
    "duration": 25,
    "start_time": "2022-06-20T11:26:50.560Z"
   },
   {
    "duration": 848,
    "start_time": "2022-06-20T11:27:10.968Z"
   },
   {
    "duration": 7,
    "start_time": "2022-06-20T11:27:43.730Z"
   },
   {
    "duration": 7,
    "start_time": "2022-06-20T11:30:05.674Z"
   },
   {
    "duration": 758,
    "start_time": "2022-06-20T11:30:25.305Z"
   },
   {
    "duration": 3,
    "start_time": "2022-06-20T11:30:37.261Z"
   },
   {
    "duration": 178,
    "start_time": "2022-06-20T11:30:37.269Z"
   },
   {
    "duration": 18,
    "start_time": "2022-06-20T11:30:37.450Z"
   },
   {
    "duration": 67,
    "start_time": "2022-06-20T11:30:37.470Z"
   },
   {
    "duration": 14,
    "start_time": "2022-06-20T11:30:37.539Z"
   },
   {
    "duration": 69,
    "start_time": "2022-06-20T11:30:37.555Z"
   },
   {
    "duration": 122,
    "start_time": "2022-06-20T11:30:37.626Z"
   },
   {
    "duration": 44,
    "start_time": "2022-06-20T11:30:37.752Z"
   },
   {
    "duration": 28,
    "start_time": "2022-06-20T11:30:37.798Z"
   },
   {
    "duration": 7,
    "start_time": "2022-06-20T11:30:39.744Z"
   },
   {
    "duration": 8,
    "start_time": "2022-06-20T12:36:51.524Z"
   },
   {
    "duration": 12,
    "start_time": "2022-06-20T12:36:57.436Z"
   },
   {
    "duration": 13,
    "start_time": "2022-06-20T12:38:11.316Z"
   },
   {
    "duration": 17,
    "start_time": "2022-06-20T12:38:27.303Z"
   },
   {
    "duration": 6,
    "start_time": "2022-06-20T12:40:46.685Z"
   },
   {
    "duration": 141,
    "start_time": "2022-06-20T12:41:00.983Z"
   },
   {
    "duration": 25,
    "start_time": "2022-06-20T12:41:04.427Z"
   },
   {
    "duration": 9,
    "start_time": "2022-06-20T12:51:16.997Z"
   },
   {
    "duration": 54,
    "start_time": "2022-06-20T12:51:44.692Z"
   },
   {
    "duration": 0,
    "start_time": "2022-06-20T12:52:57.784Z"
   },
   {
    "duration": 0,
    "start_time": "2022-06-20T12:52:57.788Z"
   },
   {
    "duration": 379,
    "start_time": "2022-06-20T12:52:59.827Z"
   },
   {
    "duration": 332,
    "start_time": "2022-06-20T12:53:15.211Z"
   },
   {
    "duration": 371,
    "start_time": "2022-06-20T12:53:27.955Z"
   },
   {
    "duration": 367,
    "start_time": "2022-06-20T12:54:41.119Z"
   },
   {
    "duration": 223,
    "start_time": "2022-06-20T13:03:19.798Z"
   },
   {
    "duration": 36,
    "start_time": "2022-06-20T13:04:16.493Z"
   },
   {
    "duration": 5,
    "start_time": "2022-06-20T13:05:29.689Z"
   },
   {
    "duration": 9,
    "start_time": "2022-06-20T13:07:48.885Z"
   },
   {
    "duration": 11,
    "start_time": "2022-06-20T13:15:58.683Z"
   },
   {
    "duration": 10,
    "start_time": "2022-06-20T13:16:15.710Z"
   },
   {
    "duration": 11,
    "start_time": "2022-06-20T13:16:31.032Z"
   },
   {
    "duration": 9,
    "start_time": "2022-06-20T13:22:07.144Z"
   },
   {
    "duration": 3,
    "start_time": "2022-06-20T13:22:18.496Z"
   },
   {
    "duration": 7,
    "start_time": "2022-06-20T13:27:06.624Z"
   },
   {
    "duration": 35,
    "start_time": "2022-06-20T13:30:45.132Z"
   },
   {
    "duration": 25,
    "start_time": "2022-06-20T14:47:49.997Z"
   },
   {
    "duration": 35,
    "start_time": "2022-06-20T14:49:26.333Z"
   },
   {
    "duration": 48,
    "start_time": "2022-06-20T14:49:59.463Z"
   },
   {
    "duration": 36,
    "start_time": "2022-06-20T14:50:17.135Z"
   },
   {
    "duration": 36,
    "start_time": "2022-06-20T14:50:32.462Z"
   },
   {
    "duration": 1375,
    "start_time": "2022-06-21T07:28:55.965Z"
   },
   {
    "duration": 543,
    "start_time": "2022-06-21T07:28:57.342Z"
   },
   {
    "duration": 20,
    "start_time": "2022-06-21T07:28:57.887Z"
   },
   {
    "duration": 64,
    "start_time": "2022-06-21T07:28:57.909Z"
   },
   {
    "duration": 13,
    "start_time": "2022-06-21T07:28:57.975Z"
   },
   {
    "duration": 75,
    "start_time": "2022-06-21T07:28:57.989Z"
   },
   {
    "duration": 155,
    "start_time": "2022-06-21T07:28:58.066Z"
   },
   {
    "duration": 161,
    "start_time": "2022-06-21T07:28:58.223Z"
   },
   {
    "duration": 4,
    "start_time": "2022-06-21T07:28:58.385Z"
   },
   {
    "duration": 9,
    "start_time": "2022-06-21T07:28:58.391Z"
   },
   {
    "duration": 48,
    "start_time": "2022-06-21T07:28:58.402Z"
   },
   {
    "duration": 36,
    "start_time": "2022-06-21T07:28:58.452Z"
   },
   {
    "duration": 431,
    "start_time": "2022-06-21T07:28:58.490Z"
   },
   {
    "duration": 52,
    "start_time": "2022-06-21T07:28:58.922Z"
   },
   {
    "duration": 11,
    "start_time": "2022-06-21T07:28:58.975Z"
   },
   {
    "duration": 11,
    "start_time": "2022-06-21T07:28:58.987Z"
   },
   {
    "duration": 63,
    "start_time": "2022-06-21T07:28:59.000Z"
   },
   {
    "duration": 43,
    "start_time": "2022-06-21T07:28:59.065Z"
   },
   {
    "duration": 56,
    "start_time": "2022-06-21T07:29:49.006Z"
   },
   {
    "duration": 776,
    "start_time": "2022-06-21T07:42:13.999Z"
   },
   {
    "duration": 53,
    "start_time": "2022-06-21T07:42:31.993Z"
   },
   {
    "duration": 160,
    "start_time": "2022-06-21T07:51:59.401Z"
   },
   {
    "duration": 61,
    "start_time": "2022-06-21T07:53:10.886Z"
   },
   {
    "duration": 61,
    "start_time": "2022-06-21T07:53:46.850Z"
   },
   {
    "duration": 56,
    "start_time": "2022-06-21T07:54:22.605Z"
   },
   {
    "duration": 53,
    "start_time": "2022-06-21T07:54:33.568Z"
   },
   {
    "duration": 57,
    "start_time": "2022-06-21T07:54:39.638Z"
   },
   {
    "duration": 57,
    "start_time": "2022-06-21T07:54:44.925Z"
   },
   {
    "duration": 58,
    "start_time": "2022-06-21T07:58:07.472Z"
   },
   {
    "duration": 53,
    "start_time": "2022-06-21T07:58:59.502Z"
   },
   {
    "duration": 54,
    "start_time": "2022-06-21T07:59:24.838Z"
   },
   {
    "duration": 53,
    "start_time": "2022-06-21T07:59:35.491Z"
   },
   {
    "duration": 73,
    "start_time": "2022-06-21T07:59:59.813Z"
   },
   {
    "duration": 11,
    "start_time": "2022-06-21T08:18:19.086Z"
   },
   {
    "duration": 8,
    "start_time": "2022-06-21T08:18:46.801Z"
   },
   {
    "duration": 17,
    "start_time": "2022-06-21T09:33:21.054Z"
   },
   {
    "duration": 15,
    "start_time": "2022-06-21T09:41:51.012Z"
   },
   {
    "duration": 22,
    "start_time": "2022-06-21T09:42:03.200Z"
   },
   {
    "duration": 60,
    "start_time": "2022-06-21T10:40:39.945Z"
   },
   {
    "duration": 60,
    "start_time": "2022-06-21T10:42:20.313Z"
   },
   {
    "duration": 65,
    "start_time": "2022-06-21T10:42:47.045Z"
   },
   {
    "duration": 65,
    "start_time": "2022-06-21T10:43:00.844Z"
   },
   {
    "duration": 13,
    "start_time": "2022-06-21T10:52:19.453Z"
   },
   {
    "duration": 8,
    "start_time": "2022-06-21T10:52:28.129Z"
   },
   {
    "duration": 3,
    "start_time": "2022-06-21T10:52:32.338Z"
   },
   {
    "duration": 4,
    "start_time": "2022-06-21T10:53:02.329Z"
   },
   {
    "duration": 62,
    "start_time": "2022-06-21T10:55:49.204Z"
   },
   {
    "duration": 88,
    "start_time": "2022-06-21T11:56:23.044Z"
   },
   {
    "duration": 10,
    "start_time": "2022-06-21T11:56:38.574Z"
   },
   {
    "duration": 32,
    "start_time": "2022-06-21T11:58:58.102Z"
   },
   {
    "duration": 23,
    "start_time": "2022-06-21T12:35:32.321Z"
   },
   {
    "duration": 27,
    "start_time": "2022-06-21T12:37:58.486Z"
   },
   {
    "duration": 32,
    "start_time": "2022-06-21T12:38:13.892Z"
   },
   {
    "duration": 39,
    "start_time": "2022-06-21T12:38:42.103Z"
   },
   {
    "duration": 97,
    "start_time": "2022-06-21T12:40:30.223Z"
   },
   {
    "duration": 38,
    "start_time": "2022-06-21T12:40:36.878Z"
   },
   {
    "duration": 44,
    "start_time": "2022-06-21T12:40:48.242Z"
   },
   {
    "duration": 32,
    "start_time": "2022-06-21T12:42:36.190Z"
   },
   {
    "duration": 43,
    "start_time": "2022-06-21T12:42:43.248Z"
   },
   {
    "duration": 35,
    "start_time": "2022-06-21T12:43:47.680Z"
   },
   {
    "duration": 38,
    "start_time": "2022-06-21T12:44:21.479Z"
   },
   {
    "duration": 3,
    "start_time": "2022-06-21T12:56:40.225Z"
   },
   {
    "duration": 424,
    "start_time": "2022-06-21T12:56:40.239Z"
   },
   {
    "duration": 15,
    "start_time": "2022-06-21T12:56:40.665Z"
   },
   {
    "duration": 41,
    "start_time": "2022-06-21T12:56:40.681Z"
   },
   {
    "duration": 6,
    "start_time": "2022-06-21T12:56:40.724Z"
   },
   {
    "duration": 69,
    "start_time": "2022-06-21T12:56:40.732Z"
   },
   {
    "duration": 100,
    "start_time": "2022-06-21T12:56:40.803Z"
   },
   {
    "duration": 152,
    "start_time": "2022-06-21T12:56:40.904Z"
   },
   {
    "duration": 4,
    "start_time": "2022-06-21T12:56:41.062Z"
   },
   {
    "duration": 9,
    "start_time": "2022-06-21T12:56:41.068Z"
   },
   {
    "duration": 14,
    "start_time": "2022-06-21T12:56:41.078Z"
   },
   {
    "duration": 22,
    "start_time": "2022-06-21T12:56:41.093Z"
   },
   {
    "duration": 316,
    "start_time": "2022-06-21T12:56:41.116Z"
   },
   {
    "duration": 28,
    "start_time": "2022-06-21T12:56:41.434Z"
   },
   {
    "duration": 6,
    "start_time": "2022-06-21T12:56:41.465Z"
   },
   {
    "duration": 15,
    "start_time": "2022-06-21T12:56:41.472Z"
   },
   {
    "duration": 32,
    "start_time": "2022-06-21T12:56:41.489Z"
   },
   {
    "duration": 41,
    "start_time": "2022-06-21T12:56:41.523Z"
   },
   {
    "duration": 48,
    "start_time": "2022-06-21T12:56:41.566Z"
   },
   {
    "duration": 65,
    "start_time": "2022-06-21T12:56:41.615Z"
   },
   {
    "duration": 8,
    "start_time": "2022-06-21T12:56:41.681Z"
   },
   {
    "duration": 17,
    "start_time": "2022-06-21T12:56:41.690Z"
   },
   {
    "duration": 18,
    "start_time": "2022-06-21T12:56:41.708Z"
   },
   {
    "duration": 73,
    "start_time": "2022-06-21T12:56:41.727Z"
   },
   {
    "duration": 3,
    "start_time": "2022-06-21T12:56:41.801Z"
   },
   {
    "duration": 32,
    "start_time": "2022-06-21T12:56:41.805Z"
   },
   {
    "duration": 90,
    "start_time": "2022-06-21T12:57:22.366Z"
   },
   {
    "duration": 11,
    "start_time": "2022-06-21T13:07:14.586Z"
   },
   {
    "duration": 7,
    "start_time": "2022-06-21T13:08:09.286Z"
   },
   {
    "duration": 8,
    "start_time": "2022-06-21T13:08:45.229Z"
   },
   {
    "duration": 7,
    "start_time": "2022-06-21T13:08:59.613Z"
   },
   {
    "duration": 10,
    "start_time": "2022-06-21T13:09:19.247Z"
   },
   {
    "duration": 8,
    "start_time": "2022-06-21T13:09:25.399Z"
   },
   {
    "duration": 7,
    "start_time": "2022-06-21T13:50:16.397Z"
   },
   {
    "duration": 31,
    "start_time": "2022-06-21T14:57:02.505Z"
   },
   {
    "duration": 841,
    "start_time": "2022-06-21T14:57:45.743Z"
   },
   {
    "duration": 6,
    "start_time": "2022-06-21T14:58:47.078Z"
   },
   {
    "duration": 805,
    "start_time": "2022-06-21T14:59:16.869Z"
   },
   {
    "duration": 7,
    "start_time": "2022-06-21T14:59:34.370Z"
   },
   {
    "duration": 5,
    "start_time": "2022-06-21T15:01:08.511Z"
   },
   {
    "duration": 6,
    "start_time": "2022-06-21T15:01:25.156Z"
   },
   {
    "duration": 6,
    "start_time": "2022-06-21T15:08:20.362Z"
   },
   {
    "duration": 5,
    "start_time": "2022-06-21T15:09:46.156Z"
   },
   {
    "duration": 30,
    "start_time": "2022-06-21T15:09:54.185Z"
   },
   {
    "duration": 6,
    "start_time": "2022-06-21T15:10:02.913Z"
   },
   {
    "duration": 5,
    "start_time": "2022-06-21T15:10:09.698Z"
   },
   {
    "duration": 4,
    "start_time": "2022-06-21T15:10:38.389Z"
   },
   {
    "duration": 4,
    "start_time": "2022-06-21T15:10:47.436Z"
   },
   {
    "duration": 3,
    "start_time": "2022-06-21T15:11:16.737Z"
   },
   {
    "duration": 4,
    "start_time": "2022-06-21T15:11:37.992Z"
   },
   {
    "duration": 44,
    "start_time": "2022-06-21T20:34:38.045Z"
   },
   {
    "duration": 1257,
    "start_time": "2022-06-21T20:34:42.897Z"
   },
   {
    "duration": 888,
    "start_time": "2022-06-21T20:34:44.156Z"
   },
   {
    "duration": 21,
    "start_time": "2022-06-21T20:34:45.045Z"
   },
   {
    "duration": 59,
    "start_time": "2022-06-21T20:34:45.068Z"
   },
   {
    "duration": 24,
    "start_time": "2022-06-21T20:34:45.129Z"
   },
   {
    "duration": 57,
    "start_time": "2022-06-21T20:34:45.155Z"
   },
   {
    "duration": 123,
    "start_time": "2022-06-21T20:34:45.214Z"
   },
   {
    "duration": 144,
    "start_time": "2022-06-21T20:34:45.339Z"
   },
   {
    "duration": 3,
    "start_time": "2022-06-21T20:34:45.485Z"
   },
   {
    "duration": 9,
    "start_time": "2022-06-21T20:34:45.489Z"
   },
   {
    "duration": 16,
    "start_time": "2022-06-21T20:34:45.499Z"
   },
   {
    "duration": 45,
    "start_time": "2022-06-21T20:34:45.517Z"
   },
   {
    "duration": 374,
    "start_time": "2022-06-21T20:34:45.563Z"
   },
   {
    "duration": 39,
    "start_time": "2022-06-21T20:34:45.939Z"
   },
   {
    "duration": 7,
    "start_time": "2022-06-21T20:34:45.980Z"
   },
   {
    "duration": 9,
    "start_time": "2022-06-21T20:34:45.989Z"
   },
   {
    "duration": 55,
    "start_time": "2022-06-21T20:34:45.999Z"
   },
   {
    "duration": 33,
    "start_time": "2022-06-21T20:34:46.055Z"
   },
   {
    "duration": 66,
    "start_time": "2022-06-21T20:34:46.089Z"
   },
   {
    "duration": 50,
    "start_time": "2022-06-21T20:34:46.157Z"
   },
   {
    "duration": 10,
    "start_time": "2022-06-21T20:34:46.208Z"
   },
   {
    "duration": 35,
    "start_time": "2022-06-21T20:34:46.220Z"
   },
   {
    "duration": 21,
    "start_time": "2022-06-21T20:34:46.257Z"
   },
   {
    "duration": 54,
    "start_time": "2022-06-21T20:34:46.279Z"
   },
   {
    "duration": 6,
    "start_time": "2022-06-21T20:34:46.352Z"
   },
   {
    "duration": 36,
    "start_time": "2022-06-21T20:34:46.359Z"
   },
   {
    "duration": 4,
    "start_time": "2022-06-21T20:34:46.397Z"
   },
   {
    "duration": 46,
    "start_time": "2022-06-21T20:34:50.897Z"
   },
   {
    "duration": 42,
    "start_time": "2022-06-21T20:35:32.032Z"
   },
   {
    "duration": 42,
    "start_time": "2022-06-21T20:35:58.928Z"
   },
   {
    "duration": 191,
    "start_time": "2022-06-21T20:49:33.502Z"
   },
   {
    "duration": 205,
    "start_time": "2022-06-21T20:50:57.380Z"
   },
   {
    "duration": 195,
    "start_time": "2022-06-21T20:51:06.119Z"
   },
   {
    "duration": 27,
    "start_time": "2022-06-21T21:03:52.096Z"
   },
   {
    "duration": 212,
    "start_time": "2022-06-21T21:04:08.047Z"
   },
   {
    "duration": 31,
    "start_time": "2022-06-21T21:06:18.433Z"
   },
   {
    "duration": 201,
    "start_time": "2022-06-21T21:06:59.610Z"
   },
   {
    "duration": 248,
    "start_time": "2022-06-21T21:07:12.992Z"
   },
   {
    "duration": 189,
    "start_time": "2022-06-21T21:07:25.815Z"
   },
   {
    "duration": 193,
    "start_time": "2022-06-21T21:07:36.527Z"
   },
   {
    "duration": 166,
    "start_time": "2022-06-21T21:07:45.712Z"
   },
   {
    "duration": 4,
    "start_time": "2022-06-21T21:15:07.419Z"
   },
   {
    "duration": 4,
    "start_time": "2022-06-21T21:18:34.543Z"
   },
   {
    "duration": 5,
    "start_time": "2022-06-21T21:21:51.584Z"
   },
   {
    "duration": 6,
    "start_time": "2022-06-21T21:22:13.300Z"
   },
   {
    "duration": 13,
    "start_time": "2022-06-21T21:22:24.000Z"
   },
   {
    "duration": 1196,
    "start_time": "2022-06-22T06:13:31.602Z"
   },
   {
    "duration": 572,
    "start_time": "2022-06-22T06:13:32.800Z"
   },
   {
    "duration": 27,
    "start_time": "2022-06-22T06:13:33.374Z"
   },
   {
    "duration": 62,
    "start_time": "2022-06-22T06:13:33.404Z"
   },
   {
    "duration": 13,
    "start_time": "2022-06-22T06:13:33.468Z"
   },
   {
    "duration": 76,
    "start_time": "2022-06-22T06:13:33.483Z"
   },
   {
    "duration": 126,
    "start_time": "2022-06-22T06:13:33.561Z"
   },
   {
    "duration": 145,
    "start_time": "2022-06-22T06:13:33.689Z"
   },
   {
    "duration": 4,
    "start_time": "2022-06-22T06:13:33.835Z"
   },
   {
    "duration": 10,
    "start_time": "2022-06-22T06:13:33.850Z"
   },
   {
    "duration": 27,
    "start_time": "2022-06-22T06:13:33.862Z"
   },
   {
    "duration": 34,
    "start_time": "2022-06-22T06:13:33.891Z"
   },
   {
    "duration": 397,
    "start_time": "2022-06-22T06:13:33.927Z"
   },
   {
    "duration": 43,
    "start_time": "2022-06-22T06:13:34.325Z"
   },
   {
    "duration": 14,
    "start_time": "2022-06-22T06:13:34.369Z"
   },
   {
    "duration": 20,
    "start_time": "2022-06-22T06:13:34.385Z"
   },
   {
    "duration": 59,
    "start_time": "2022-06-22T06:13:34.407Z"
   },
   {
    "duration": 41,
    "start_time": "2022-06-22T06:13:34.469Z"
   },
   {
    "duration": 98,
    "start_time": "2022-06-22T06:13:34.512Z"
   },
   {
    "duration": 83,
    "start_time": "2022-06-22T06:13:34.612Z"
   },
   {
    "duration": 11,
    "start_time": "2022-06-22T06:13:34.696Z"
   },
   {
    "duration": 18,
    "start_time": "2022-06-22T06:13:34.708Z"
   },
   {
    "duration": 45,
    "start_time": "2022-06-22T06:13:34.728Z"
   },
   {
    "duration": 53,
    "start_time": "2022-06-22T06:13:34.774Z"
   },
   {
    "duration": 4,
    "start_time": "2022-06-22T06:13:34.829Z"
   },
   {
    "duration": 34,
    "start_time": "2022-06-22T06:13:34.851Z"
   },
   {
    "duration": 82,
    "start_time": "2022-06-22T06:19:04.317Z"
   },
   {
    "duration": 18,
    "start_time": "2022-06-22T06:19:44.471Z"
   },
   {
    "duration": 7,
    "start_time": "2022-06-22T06:44:28.396Z"
   },
   {
    "duration": 16,
    "start_time": "2022-06-22T06:47:02.177Z"
   },
   {
    "duration": 7,
    "start_time": "2022-06-22T06:48:05.794Z"
   },
   {
    "duration": 6,
    "start_time": "2022-06-22T06:52:45.150Z"
   },
   {
    "duration": 15,
    "start_time": "2022-06-22T06:52:52.450Z"
   },
   {
    "duration": 112,
    "start_time": "2022-06-22T06:54:40.810Z"
   },
   {
    "duration": 35,
    "start_time": "2022-06-22T06:54:48.793Z"
   },
   {
    "duration": 14,
    "start_time": "2022-06-22T06:54:59.112Z"
   },
   {
    "duration": 13,
    "start_time": "2022-06-22T06:55:19.969Z"
   },
   {
    "duration": 7,
    "start_time": "2022-06-22T07:59:29.373Z"
   },
   {
    "duration": 8,
    "start_time": "2022-06-22T08:05:33.693Z"
   },
   {
    "duration": 9,
    "start_time": "2022-06-22T08:06:30.300Z"
   },
   {
    "duration": 75,
    "start_time": "2022-06-22T08:07:43.348Z"
   },
   {
    "duration": 69,
    "start_time": "2022-06-22T08:09:39.011Z"
   },
   {
    "duration": 54,
    "start_time": "2022-06-22T08:09:57.874Z"
   },
   {
    "duration": 5,
    "start_time": "2022-06-22T08:15:46.842Z"
   },
   {
    "duration": 74,
    "start_time": "2022-06-22T08:17:14.043Z"
   },
   {
    "duration": 19,
    "start_time": "2022-06-22T08:20:46.168Z"
   },
   {
    "duration": 9,
    "start_time": "2022-06-22T08:21:20.434Z"
   },
   {
    "duration": 10,
    "start_time": "2022-06-22T08:21:23.120Z"
   },
   {
    "duration": 94,
    "start_time": "2022-06-22T08:23:29.241Z"
   },
   {
    "duration": 10,
    "start_time": "2022-06-22T08:31:18.785Z"
   },
   {
    "duration": 35,
    "start_time": "2022-06-22T08:32:15.665Z"
   },
   {
    "duration": 12,
    "start_time": "2022-06-22T08:46:40.420Z"
   },
   {
    "duration": 26,
    "start_time": "2022-06-22T08:52:07.651Z"
   },
   {
    "duration": 8,
    "start_time": "2022-06-22T08:52:32.687Z"
   },
   {
    "duration": 12,
    "start_time": "2022-06-22T08:53:15.780Z"
   },
   {
    "duration": 15,
    "start_time": "2022-06-22T08:53:26.181Z"
   },
   {
    "duration": 20,
    "start_time": "2022-06-22T08:55:00.796Z"
   },
   {
    "duration": 38,
    "start_time": "2022-06-22T08:55:23.349Z"
   },
   {
    "duration": 18,
    "start_time": "2022-06-22T09:05:33.463Z"
   },
   {
    "duration": 14,
    "start_time": "2022-06-22T09:51:41.233Z"
   },
   {
    "duration": 19,
    "start_time": "2022-06-22T09:53:18.685Z"
   },
   {
    "duration": 12,
    "start_time": "2022-06-22T09:58:17.680Z"
   },
   {
    "duration": 14,
    "start_time": "2022-06-22T10:01:54.005Z"
   },
   {
    "duration": 31,
    "start_time": "2022-06-22T10:16:10.611Z"
   },
   {
    "duration": 28,
    "start_time": "2022-06-22T10:23:52.277Z"
   },
   {
    "duration": 24,
    "start_time": "2022-06-22T10:25:37.718Z"
   },
   {
    "duration": 19,
    "start_time": "2022-06-22T10:26:17.205Z"
   },
   {
    "duration": 38,
    "start_time": "2022-06-22T10:33:41.289Z"
   },
   {
    "duration": 25,
    "start_time": "2022-06-22T10:35:08.197Z"
   },
   {
    "duration": 49,
    "start_time": "2022-06-22T10:45:03.141Z"
   },
   {
    "duration": 43,
    "start_time": "2022-06-22T10:45:49.067Z"
   },
   {
    "duration": 51,
    "start_time": "2022-06-22T10:45:55.939Z"
   },
   {
    "duration": 32,
    "start_time": "2022-06-22T10:46:52.948Z"
   },
   {
    "duration": 32,
    "start_time": "2022-06-22T10:48:40.602Z"
   },
   {
    "duration": 5,
    "start_time": "2022-06-22T11:08:20.833Z"
   },
   {
    "duration": 9,
    "start_time": "2022-06-22T11:11:04.152Z"
   },
   {
    "duration": 38,
    "start_time": "2022-06-22T11:11:40.943Z"
   },
   {
    "duration": 10,
    "start_time": "2022-06-22T11:11:52.175Z"
   },
   {
    "duration": 4,
    "start_time": "2022-06-22T11:12:22.792Z"
   },
   {
    "duration": 9,
    "start_time": "2022-06-22T11:15:56.514Z"
   },
   {
    "duration": 22,
    "start_time": "2022-06-22T11:25:47.783Z"
   },
   {
    "duration": 6,
    "start_time": "2022-06-22T11:25:50.277Z"
   },
   {
    "duration": 4,
    "start_time": "2022-06-22T11:31:32.903Z"
   },
   {
    "duration": 205,
    "start_time": "2022-06-22T11:31:32.910Z"
   },
   {
    "duration": 45,
    "start_time": "2022-06-22T11:31:33.117Z"
   },
   {
    "duration": 57,
    "start_time": "2022-06-22T11:31:33.170Z"
   },
   {
    "duration": 8,
    "start_time": "2022-06-22T11:31:33.229Z"
   },
   {
    "duration": 71,
    "start_time": "2022-06-22T11:31:33.260Z"
   },
   {
    "duration": 159,
    "start_time": "2022-06-22T11:31:33.334Z"
   },
   {
    "duration": 204,
    "start_time": "2022-06-22T11:31:33.495Z"
   },
   {
    "duration": 5,
    "start_time": "2022-06-22T11:31:33.701Z"
   },
   {
    "duration": 15,
    "start_time": "2022-06-22T11:31:33.710Z"
   },
   {
    "duration": 48,
    "start_time": "2022-06-22T11:31:33.728Z"
   },
   {
    "duration": 30,
    "start_time": "2022-06-22T11:31:33.778Z"
   },
   {
    "duration": 454,
    "start_time": "2022-06-22T11:31:33.810Z"
   },
   {
    "duration": 41,
    "start_time": "2022-06-22T11:31:34.270Z"
   },
   {
    "duration": 12,
    "start_time": "2022-06-22T11:31:34.313Z"
   },
   {
    "duration": 24,
    "start_time": "2022-06-22T11:31:34.330Z"
   },
   {
    "duration": 63,
    "start_time": "2022-06-22T11:31:34.356Z"
   },
   {
    "duration": 59,
    "start_time": "2022-06-22T11:31:34.422Z"
   },
   {
    "duration": 103,
    "start_time": "2022-06-22T11:31:34.484Z"
   },
   {
    "duration": 101,
    "start_time": "2022-06-22T11:31:34.590Z"
   },
   {
    "duration": 15,
    "start_time": "2022-06-22T11:31:34.693Z"
   },
   {
    "duration": 44,
    "start_time": "2022-06-22T11:31:34.711Z"
   },
   {
    "duration": 33,
    "start_time": "2022-06-22T11:31:34.759Z"
   },
   {
    "duration": 104,
    "start_time": "2022-06-22T11:31:34.794Z"
   },
   {
    "duration": 6,
    "start_time": "2022-06-22T11:31:34.901Z"
   },
   {
    "duration": 72,
    "start_time": "2022-06-22T11:31:34.909Z"
   },
   {
    "duration": 128,
    "start_time": "2022-06-22T11:31:34.983Z"
   },
   {
    "duration": 6,
    "start_time": "2022-06-22T11:31:35.115Z"
   },
   {
    "duration": 33,
    "start_time": "2022-06-22T11:31:35.124Z"
   },
   {
    "duration": 35,
    "start_time": "2022-06-22T11:31:35.159Z"
   },
   {
    "duration": 14,
    "start_time": "2022-06-22T11:31:35.196Z"
   },
   {
    "duration": 20,
    "start_time": "2022-06-22T11:31:35.212Z"
   },
   {
    "duration": 48,
    "start_time": "2022-06-22T11:31:35.234Z"
   },
   {
    "duration": 15,
    "start_time": "2022-06-22T11:31:35.283Z"
   },
   {
    "duration": 66,
    "start_time": "2022-06-22T11:31:35.300Z"
   },
   {
    "duration": 23,
    "start_time": "2022-06-22T11:31:35.368Z"
   },
   {
    "duration": 5,
    "start_time": "2022-06-22T11:31:35.394Z"
   },
   {
    "duration": 42,
    "start_time": "2022-06-22T11:37:27.971Z"
   },
   {
    "duration": 146,
    "start_time": "2022-06-22T11:38:44.777Z"
   },
   {
    "duration": 13,
    "start_time": "2022-06-22T11:39:37.113Z"
   },
   {
    "duration": 37,
    "start_time": "2022-06-22T11:39:46.137Z"
   },
   {
    "duration": 5734,
    "start_time": "2022-06-22T11:40:20.705Z"
   },
   {
    "duration": 685,
    "start_time": "2022-06-22T11:40:26.442Z"
   },
   {
    "duration": 166,
    "start_time": "2022-06-22T11:40:30.642Z"
   },
   {
    "duration": 178,
    "start_time": "2022-06-22T11:40:32.210Z"
   },
   {
    "duration": 246,
    "start_time": "2022-06-22T11:41:21.551Z"
   },
   {
    "duration": 9,
    "start_time": "2022-06-22T11:42:17.948Z"
   },
   {
    "duration": 202,
    "start_time": "2022-06-22T11:42:17.967Z"
   },
   {
    "duration": 30,
    "start_time": "2022-06-22T11:42:18.172Z"
   },
   {
    "duration": 77,
    "start_time": "2022-06-22T11:42:18.204Z"
   },
   {
    "duration": 11,
    "start_time": "2022-06-22T11:42:18.283Z"
   },
   {
    "duration": 88,
    "start_time": "2022-06-22T11:42:18.297Z"
   },
   {
    "duration": 140,
    "start_time": "2022-06-22T11:42:18.387Z"
   },
   {
    "duration": 200,
    "start_time": "2022-06-22T11:42:18.530Z"
   },
   {
    "duration": 4,
    "start_time": "2022-06-22T11:42:18.732Z"
   },
   {
    "duration": 24,
    "start_time": "2022-06-22T11:42:18.738Z"
   },
   {
    "duration": 28,
    "start_time": "2022-06-22T11:42:18.769Z"
   },
   {
    "duration": 43,
    "start_time": "2022-06-22T11:42:18.799Z"
   },
   {
    "duration": 410,
    "start_time": "2022-06-22T11:42:18.861Z"
   },
   {
    "duration": 37,
    "start_time": "2022-06-22T11:42:19.274Z"
   },
   {
    "duration": 11,
    "start_time": "2022-06-22T11:42:19.315Z"
   },
   {
    "duration": 27,
    "start_time": "2022-06-22T11:42:19.328Z"
   },
   {
    "duration": 46,
    "start_time": "2022-06-22T11:42:19.357Z"
   },
   {
    "duration": 69,
    "start_time": "2022-06-22T11:42:19.405Z"
   },
   {
    "duration": 97,
    "start_time": "2022-06-22T11:42:19.477Z"
   },
   {
    "duration": 62,
    "start_time": "2022-06-22T11:42:19.577Z"
   },
   {
    "duration": 12,
    "start_time": "2022-06-22T11:42:19.651Z"
   },
   {
    "duration": 133,
    "start_time": "2022-06-22T11:42:19.665Z"
   },
   {
    "duration": 35,
    "start_time": "2022-06-22T11:42:19.800Z"
   },
   {
    "duration": 82,
    "start_time": "2022-06-22T11:42:19.837Z"
   },
   {
    "duration": 5,
    "start_time": "2022-06-22T11:42:19.921Z"
   },
   {
    "duration": 107,
    "start_time": "2022-06-22T11:42:19.929Z"
   },
   {
    "duration": 90,
    "start_time": "2022-06-22T11:42:20.039Z"
   },
   {
    "duration": 10,
    "start_time": "2022-06-22T11:42:20.131Z"
   },
   {
    "duration": 36,
    "start_time": "2022-06-22T11:42:20.144Z"
   },
   {
    "duration": 25,
    "start_time": "2022-06-22T11:42:20.182Z"
   },
   {
    "duration": 11,
    "start_time": "2022-06-22T11:42:20.209Z"
   },
   {
    "duration": 20,
    "start_time": "2022-06-22T11:42:20.223Z"
   },
   {
    "duration": 79,
    "start_time": "2022-06-22T11:42:20.246Z"
   },
   {
    "duration": 18,
    "start_time": "2022-06-22T11:42:20.328Z"
   },
   {
    "duration": 38,
    "start_time": "2022-06-22T11:42:20.350Z"
   },
   {
    "duration": 36,
    "start_time": "2022-06-22T11:42:20.390Z"
   },
   {
    "duration": 5,
    "start_time": "2022-06-22T11:42:20.428Z"
   },
   {
    "duration": 1217,
    "start_time": "2022-06-23T06:45:33.402Z"
   },
   {
    "duration": 521,
    "start_time": "2022-06-23T06:45:34.621Z"
   },
   {
    "duration": 26,
    "start_time": "2022-06-23T06:45:35.144Z"
   },
   {
    "duration": 102,
    "start_time": "2022-06-23T06:45:35.173Z"
   },
   {
    "duration": 13,
    "start_time": "2022-06-23T06:45:35.277Z"
   },
   {
    "duration": 100,
    "start_time": "2022-06-23T06:45:35.292Z"
   },
   {
    "duration": 129,
    "start_time": "2022-06-23T06:45:35.394Z"
   },
   {
    "duration": 159,
    "start_time": "2022-06-23T06:45:35.524Z"
   },
   {
    "duration": 3,
    "start_time": "2022-06-23T06:45:35.685Z"
   },
   {
    "duration": 31,
    "start_time": "2022-06-23T06:45:35.690Z"
   },
   {
    "duration": 16,
    "start_time": "2022-06-23T06:45:39.482Z"
   },
   {
    "duration": 18,
    "start_time": "2022-06-23T06:46:54.515Z"
   },
   {
    "duration": 55,
    "start_time": "2022-06-23T06:47:46.699Z"
   },
   {
    "duration": 9097,
    "start_time": "2022-06-23T06:48:28.683Z"
   },
   {
    "duration": 20,
    "start_time": "2022-06-23T06:50:24.605Z"
   },
   {
    "duration": 29,
    "start_time": "2022-06-23T06:57:24.841Z"
   },
   {
    "duration": 27,
    "start_time": "2022-06-23T07:18:05.335Z"
   },
   {
    "duration": 7,
    "start_time": "2022-06-23T07:19:01.234Z"
   },
   {
    "duration": 981,
    "start_time": "2022-06-23T07:19:21.843Z"
   },
   {
    "duration": 22,
    "start_time": "2022-06-23T07:19:42.243Z"
   },
   {
    "duration": 5,
    "start_time": "2022-06-23T07:20:00.300Z"
   },
   {
    "duration": 11,
    "start_time": "2022-06-23T07:20:06.581Z"
   },
   {
    "duration": 20,
    "start_time": "2022-06-23T07:22:57.325Z"
   },
   {
    "duration": 11,
    "start_time": "2022-06-23T07:23:00.987Z"
   },
   {
    "duration": 4,
    "start_time": "2022-06-23T07:23:18.540Z"
   },
   {
    "duration": 9,
    "start_time": "2022-06-23T07:23:33.339Z"
   },
   {
    "duration": 5,
    "start_time": "2022-06-23T07:23:45.372Z"
   },
   {
    "duration": 10,
    "start_time": "2022-06-23T07:24:35.709Z"
   },
   {
    "duration": 10,
    "start_time": "2022-06-23T07:25:02.253Z"
   },
   {
    "duration": 8,
    "start_time": "2022-06-23T07:26:03.458Z"
   },
   {
    "duration": 8,
    "start_time": "2022-06-23T07:26:09.947Z"
   },
   {
    "duration": 8,
    "start_time": "2022-06-23T07:26:46.697Z"
   },
   {
    "duration": 41,
    "start_time": "2022-06-23T07:30:30.162Z"
   },
   {
    "duration": 15,
    "start_time": "2022-06-23T07:31:10.531Z"
   },
   {
    "duration": 16,
    "start_time": "2022-06-23T07:31:33.993Z"
   },
   {
    "duration": 15,
    "start_time": "2022-06-23T07:31:49.266Z"
   },
   {
    "duration": 27,
    "start_time": "2022-06-23T07:34:51.131Z"
   },
   {
    "duration": 392,
    "start_time": "2022-06-23T08:01:28.260Z"
   },
   {
    "duration": 21,
    "start_time": "2022-06-23T08:01:34.938Z"
   },
   {
    "duration": 9,
    "start_time": "2022-06-23T08:01:49.940Z"
   },
   {
    "duration": 10,
    "start_time": "2022-06-23T08:01:54.978Z"
   },
   {
    "duration": 32,
    "start_time": "2022-06-23T08:02:02.978Z"
   },
   {
    "duration": 40,
    "start_time": "2022-06-23T08:02:09.811Z"
   },
   {
    "duration": 41,
    "start_time": "2022-06-23T08:02:14.031Z"
   },
   {
    "duration": 41,
    "start_time": "2022-06-23T08:02:21.797Z"
   },
   {
    "duration": 9,
    "start_time": "2022-06-23T08:02:24.451Z"
   },
   {
    "duration": 14,
    "start_time": "2022-06-23T08:02:31.651Z"
   },
   {
    "duration": 17,
    "start_time": "2022-06-23T08:02:36.787Z"
   },
   {
    "duration": 40,
    "start_time": "2022-06-23T08:02:44.675Z"
   },
   {
    "duration": 62,
    "start_time": "2022-06-23T08:02:52.571Z"
   },
   {
    "duration": 43,
    "start_time": "2022-06-23T08:03:08.275Z"
   },
   {
    "duration": 43,
    "start_time": "2022-06-23T08:03:47.660Z"
   },
   {
    "duration": 46,
    "start_time": "2022-06-23T08:04:03.635Z"
   },
   {
    "duration": 44,
    "start_time": "2022-06-23T08:04:27.907Z"
   },
   {
    "duration": 44,
    "start_time": "2022-06-23T08:04:38.355Z"
   },
   {
    "duration": 50,
    "start_time": "2022-06-23T08:04:50.163Z"
   },
   {
    "duration": 49,
    "start_time": "2022-06-23T08:07:10.435Z"
   },
   {
    "duration": 42,
    "start_time": "2022-06-23T08:07:18.771Z"
   },
   {
    "duration": 43,
    "start_time": "2022-06-23T08:07:25.831Z"
   },
   {
    "duration": 41,
    "start_time": "2022-06-23T08:07:34.756Z"
   },
   {
    "duration": 43,
    "start_time": "2022-06-23T08:07:46.250Z"
   },
   {
    "duration": 42,
    "start_time": "2022-06-23T08:07:58.433Z"
   },
   {
    "duration": 60,
    "start_time": "2022-06-23T08:08:06.016Z"
   },
   {
    "duration": 45,
    "start_time": "2022-06-23T08:08:39.281Z"
   },
   {
    "duration": 67,
    "start_time": "2022-06-23T08:09:52.363Z"
   },
   {
    "duration": 4,
    "start_time": "2022-06-23T08:12:17.481Z"
   },
   {
    "duration": 29,
    "start_time": "2022-06-23T08:12:36.384Z"
   },
   {
    "duration": 57,
    "start_time": "2022-06-23T08:12:41.905Z"
   },
   {
    "duration": 6,
    "start_time": "2022-06-23T08:13:20.321Z"
   },
   {
    "duration": 8,
    "start_time": "2022-06-23T08:13:25.224Z"
   },
   {
    "duration": 12,
    "start_time": "2022-06-23T08:13:33.532Z"
   },
   {
    "duration": 7,
    "start_time": "2022-06-23T08:13:48.858Z"
   },
   {
    "duration": 13,
    "start_time": "2022-06-23T08:13:54.861Z"
   },
   {
    "duration": 31,
    "start_time": "2022-06-23T08:14:00.089Z"
   },
   {
    "duration": 12,
    "start_time": "2022-06-23T08:14:10.920Z"
   },
   {
    "duration": 17,
    "start_time": "2022-06-23T08:14:14.464Z"
   },
   {
    "duration": 10,
    "start_time": "2022-06-23T08:17:32.008Z"
   },
   {
    "duration": 9,
    "start_time": "2022-06-23T08:17:53.001Z"
   },
   {
    "duration": 17,
    "start_time": "2022-06-23T08:21:33.809Z"
   },
   {
    "duration": 22,
    "start_time": "2022-06-23T08:22:32.311Z"
   },
   {
    "duration": 22,
    "start_time": "2022-06-23T08:23:15.095Z"
   },
   {
    "duration": 8,
    "start_time": "2022-06-23T08:32:47.946Z"
   },
   {
    "duration": 4,
    "start_time": "2022-06-23T08:36:32.729Z"
   },
   {
    "duration": 8,
    "start_time": "2022-06-23T08:37:58.653Z"
   },
   {
    "duration": 7,
    "start_time": "2022-06-23T08:38:24.501Z"
   },
   {
    "duration": 8,
    "start_time": "2022-06-23T08:39:18.365Z"
   },
   {
    "duration": 10,
    "start_time": "2022-06-23T08:42:34.915Z"
   },
   {
    "duration": 9,
    "start_time": "2022-06-23T08:42:46.297Z"
   },
   {
    "duration": 11,
    "start_time": "2022-06-23T08:45:50.802Z"
   },
   {
    "duration": 29,
    "start_time": "2022-06-23T08:51:30.745Z"
   },
   {
    "duration": 18,
    "start_time": "2022-06-23T08:54:54.544Z"
   },
   {
    "duration": 20,
    "start_time": "2022-06-23T08:58:43.789Z"
   },
   {
    "duration": 5,
    "start_time": "2022-06-23T08:59:00.825Z"
   },
   {
    "duration": 9,
    "start_time": "2022-06-23T09:00:33.029Z"
   },
   {
    "duration": 21,
    "start_time": "2022-06-23T09:00:37.029Z"
   },
   {
    "duration": 23,
    "start_time": "2022-06-23T09:00:39.413Z"
   },
   {
    "duration": 320,
    "start_time": "2022-06-23T09:00:43.454Z"
   },
   {
    "duration": 20,
    "start_time": "2022-06-23T09:00:51.670Z"
   },
   {
    "duration": 33,
    "start_time": "2022-06-23T09:01:03.094Z"
   },
   {
    "duration": 12,
    "start_time": "2022-06-23T09:02:56.445Z"
   },
   {
    "duration": 1177,
    "start_time": "2022-06-23T09:19:31.347Z"
   },
   {
    "duration": 188,
    "start_time": "2022-06-23T09:19:32.530Z"
   },
   {
    "duration": 32,
    "start_time": "2022-06-23T09:19:32.720Z"
   },
   {
    "duration": 72,
    "start_time": "2022-06-23T09:19:32.755Z"
   },
   {
    "duration": 26,
    "start_time": "2022-06-23T09:19:32.830Z"
   },
   {
    "duration": 74,
    "start_time": "2022-06-23T09:19:32.858Z"
   },
   {
    "duration": 160,
    "start_time": "2022-06-23T09:19:32.934Z"
   },
   {
    "duration": 171,
    "start_time": "2022-06-23T09:19:33.096Z"
   },
   {
    "duration": 4,
    "start_time": "2022-06-23T09:19:33.269Z"
   },
   {
    "duration": 18,
    "start_time": "2022-06-23T09:19:33.274Z"
   },
   {
    "duration": 28,
    "start_time": "2022-06-23T09:19:33.294Z"
   },
   {
    "duration": 5,
    "start_time": "2022-06-23T09:19:33.324Z"
   },
   {
    "duration": 26,
    "start_time": "2022-06-23T09:19:33.333Z"
   },
   {
    "duration": 10,
    "start_time": "2022-06-23T09:19:33.361Z"
   },
   {
    "duration": 43,
    "start_time": "2022-06-23T09:19:33.373Z"
   },
   {
    "duration": 39,
    "start_time": "2022-06-23T09:19:33.418Z"
   },
   {
    "duration": 446,
    "start_time": "2022-06-23T09:19:33.459Z"
   },
   {
    "duration": 24,
    "start_time": "2022-06-23T09:19:33.907Z"
   },
   {
    "duration": 22,
    "start_time": "2022-06-23T09:19:33.932Z"
   },
   {
    "duration": 10,
    "start_time": "2022-06-23T09:19:33.956Z"
   },
   {
    "duration": 30,
    "start_time": "2022-06-23T09:19:33.967Z"
   },
   {
    "duration": 62,
    "start_time": "2022-06-23T09:19:33.999Z"
   },
   {
    "duration": 44,
    "start_time": "2022-06-23T09:19:34.063Z"
   },
   {
    "duration": 61,
    "start_time": "2022-06-23T09:19:34.109Z"
   },
   {
    "duration": 9,
    "start_time": "2022-06-23T09:19:34.173Z"
   },
   {
    "duration": 26,
    "start_time": "2022-06-23T09:19:34.184Z"
   },
   {
    "duration": 22,
    "start_time": "2022-06-23T09:19:34.213Z"
   },
   {
    "duration": 59,
    "start_time": "2022-06-23T09:19:34.237Z"
   },
   {
    "duration": 4,
    "start_time": "2022-06-23T09:19:34.298Z"
   },
   {
    "duration": 66,
    "start_time": "2022-06-23T09:19:34.304Z"
   },
   {
    "duration": 68,
    "start_time": "2022-06-23T09:19:34.372Z"
   },
   {
    "duration": 15,
    "start_time": "2022-06-23T09:19:34.442Z"
   },
   {
    "duration": 16,
    "start_time": "2022-06-23T09:19:34.458Z"
   },
   {
    "duration": 15,
    "start_time": "2022-06-23T09:19:34.476Z"
   },
   {
    "duration": 11,
    "start_time": "2022-06-23T09:19:34.493Z"
   },
   {
    "duration": 14,
    "start_time": "2022-06-23T09:19:34.506Z"
   },
   {
    "duration": 49,
    "start_time": "2022-06-23T09:19:34.522Z"
   },
   {
    "duration": 13,
    "start_time": "2022-06-23T09:19:34.572Z"
   },
   {
    "duration": 14,
    "start_time": "2022-06-23T09:19:34.587Z"
   },
   {
    "duration": 48,
    "start_time": "2022-06-23T09:19:34.605Z"
   },
   {
    "duration": 4,
    "start_time": "2022-06-23T09:19:34.656Z"
   }
  ],
  "kernelspec": {
   "display_name": "Python 3 (ipykernel)",
   "language": "python",
   "name": "python3"
  },
  "language_info": {
   "codemirror_mode": {
    "name": "ipython",
    "version": 3
   },
   "file_extension": ".py",
   "mimetype": "text/x-python",
   "name": "python",
   "nbconvert_exporter": "python",
   "pygments_lexer": "ipython3",
   "version": "3.9.7"
  },
  "toc": {
   "base_numbering": 1,
   "nav_menu": {},
   "number_sections": true,
   "sideBar": true,
   "skip_h1_title": true,
   "title_cell": "Содержание",
   "title_sidebar": "Contents",
   "toc_cell": false,
   "toc_position": {},
   "toc_section_display": true,
   "toc_window_display": true
  }
 },
 "nbformat": 4,
 "nbformat_minor": 2
}
