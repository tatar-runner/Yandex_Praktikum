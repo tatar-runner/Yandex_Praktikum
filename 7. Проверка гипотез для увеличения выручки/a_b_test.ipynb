{
 "cells": [
  {
   "cell_type": "markdown",
   "metadata": {},
   "source": [
    "# Проверка гипотез для увеличения выручки\n",
    "\n",
    "Вместе с отделом маркетинга крупного интернет-магазина был подготовилен список гипотез для увеличения выручки.\n",
    "Нам необходимо приоритизировать гипотезы, провести A/B-тест и проанализировать результаты.\n",
    "\n",
    "**План работы**\n",
    "\n",
    "- **Шаг 1. Откроем файлы с данными, изучим общую информацию и подготовим данные**\n",
    "\n",
    "    Путь к файлам:\n",
    "    -  /datasets/hypothesis.csv\n",
    "    -  /datasets/orders.csv\n",
    "    -  /datasets/visitors.csv\n",
    "     \n",
    "    \n",
    "- **Шаг 2. Проведем приоритизацию гипотез**\n",
    "\n",
    "    В файле /datasets/hypothesis.csv 9 гипотез по увеличению выручки интернет-магазина с указанными параметрами Reach, Impact, Confidence, Effort.\n",
    "    - Применим фреймворк ICE для приоритизации гипотез. Отсортируем их по убыванию приоритета;\n",
    "    - Применим фреймворк RICE для приоритизации гипотез. Отсортируем их по убыванию приоритета;\n",
    "    - Укажем, как изменилась приоритизация гипотез при применении RICE вместо ICE. Объясним, почему так произошло.\n",
    "    \n",
    "    \n",
    "- **Шаг 3. Анализ A/B-теста**\n",
    "\n",
    "    Мы провели A/B-тест и получили результаты, которые описаны в файлах /datasets/orders.csv и /datasets/visitors.csv.\n",
    "    Проанализируем A/B-тест:\n",
    "    - Построим график кумулятивной выручки по группам. Сделаем выводы и предположения;\n",
    "    - Построим график кумулятивного среднего чека по группам. Сделаем выводы и предположения;\n",
    "    - Построим график относительного изменения кумулятивного среднего чека группы B к группе A. Сделаем выводы и предположения;\n",
    "    - Построим график кумулятивной конверсии по группам. Сделаем выводы и предположения;\n",
    "    - Построим график относительного изменения кумулятивной конверсии группы B к группе A. Сделаем выводы и предположения;\n",
    "    - Построим точечный график количества заказов по пользователям. Сделаем выводы и предположения;\n",
    "    - Посчитаем 95-й и 99-й перцентили количества заказов на пользователя. Выберем границу для определения аномальных пользователей;\n",
    "    - Построим точечный график стоимостей заказов. Сделаем выводы и предположения;\n",
    "    - Посчитаем 95-й и 99-й перцентили стоимости заказов. Выберем границу для определения аномальных заказов;\n",
    "    - Посчитаем статистическую значимость различий в конверсии между группами по «сырым» данным. Сделаем выводы и предположения;\n",
    "    - Посчитаем статистическую значимость различий в среднем чеке заказа между группами по «сырым» данным. Сделаем выводы и предположения;\n",
    "    - Посчитаем статистическую значимость различий в конверсии между группами по «очищенным» данным. Сделаем выводы и предположения;\n",
    "    - Посчитаем статистическую значимость различий в среднем чеке заказа между группами по «очищенным» данным. Сделаем выводы и предположения;\n",
    "    - Примем решение по результатам теста и объясните его. Варианты решений: 1. Остановить тест, зафиксировать победу одной из групп. 2. Остановить тест, зафиксировать отсутствие различий между группами. 3. Продолжить тест.\n",
    "      \n",
    "      \n",
    "- **Шаг 4. Напишем общий вывод**\n",
    "\n",
    "\n",
    "- **Описание данных**\n",
    "\n",
    "   Файл `/datasets/hypothesis.csv` (гипотезы по увеличению выручки интернет-магазина):\n",
    "\n",
    "    - `Hypothesis` — краткое описание гипотезы\n",
    "    - `Reach` — охват пользователей по 10-балльной шкале\n",
    "    - `Impact` — влияние на пользователей по 10-балльной шкале\n",
    "    - `Confidence` — уверенность в гипотезе по 10-балльной шкале\n",
    "    - `Efforts` — затраты ресурсов на проверку гипотезы по 10-балльной шкале. Чем больше значение `Efforts`, тем дороже проверка гипотезы\n",
    "\n",
    "  Файл `/datasets/orders.csv` (результаты A/B-теста):\n",
    "\n",
    "    - `transactionId` — идентификатор заказа\n",
    "    - `visitorId` — идентификатор пользователя, совершившего заказ\n",
    "    - `date` — дата, когда был совершён заказ\n",
    "    - `revenue` — выручка заказа\n",
    "    - `group` — группа A/B-теста, в которую попал заказ\n",
    "\n",
    "  Файл `/datasets/visitors.csv` (результаты A/B-теста):\n",
    "\n",
    "    - `date` — дата\n",
    "    - `group` — группа A/B-теста\n",
    "    - `visitors` — количество пользователей в указанную дату в указанной группе A/B-теста\n"
   ]
  },
  {
   "cell_type": "markdown",
   "metadata": {},
   "source": [
    "## Загрузка данных и подготовка их к анализу\n",
    "Загрузим данные в переменные. Оптимизируем данные для анализа. Убедимся, что тип данных в каждой колонке — правильный. Путь к файлам:\n",
    "\n",
    " -   /datasets/hypothesis.csv. \n",
    " -   /datasets/orders.csv. \n",
    " -   /datasets/visitors.csv."
   ]
  },
  {
   "cell_type": "markdown",
   "metadata": {},
   "source": [
    "### Обзор данных\n",
    "\n",
    "Откроем таблицы и посмотрим общую информацию о них."
   ]
  },
  {
   "cell_type": "code",
   "execution_count": 1,
   "metadata": {},
   "outputs": [],
   "source": [
    "# импорт необходимых библиотек\n",
    "import pandas as pd \n",
    "import numpy as np\n",
    "import datetime as dt\n",
    "import matplotlib.pyplot as plt\n",
    "from pandas.plotting import register_matplotlib_converters\n",
    "import warnings\n",
    "import scipy.stats as stats"
   ]
  },
  {
   "cell_type": "code",
   "execution_count": 2,
   "metadata": {},
   "outputs": [
    {
     "data": {
      "text/html": [
       "<div>\n",
       "<style scoped>\n",
       "    .dataframe tbody tr th:only-of-type {\n",
       "        vertical-align: middle;\n",
       "    }\n",
       "\n",
       "    .dataframe tbody tr th {\n",
       "        vertical-align: top;\n",
       "    }\n",
       "\n",
       "    .dataframe thead th {\n",
       "        text-align: right;\n",
       "    }\n",
       "</style>\n",
       "<table border=\"1\" class=\"dataframe\">\n",
       "  <thead>\n",
       "    <tr style=\"text-align: right;\">\n",
       "      <th></th>\n",
       "      <th>Hypothesis</th>\n",
       "      <th>Reach</th>\n",
       "      <th>Impact</th>\n",
       "      <th>Confidence</th>\n",
       "      <th>Efforts</th>\n",
       "    </tr>\n",
       "  </thead>\n",
       "  <tbody>\n",
       "    <tr>\n",
       "      <th>0</th>\n",
       "      <td>Добавить два новых канала привлечения трафика,...</td>\n",
       "      <td>3</td>\n",
       "      <td>10</td>\n",
       "      <td>8</td>\n",
       "      <td>6</td>\n",
       "    </tr>\n",
       "    <tr>\n",
       "      <th>1</th>\n",
       "      <td>Запустить собственную службу доставки, что сок...</td>\n",
       "      <td>2</td>\n",
       "      <td>5</td>\n",
       "      <td>4</td>\n",
       "      <td>10</td>\n",
       "    </tr>\n",
       "    <tr>\n",
       "      <th>2</th>\n",
       "      <td>Добавить блоки рекомендаций товаров на сайт ин...</td>\n",
       "      <td>8</td>\n",
       "      <td>3</td>\n",
       "      <td>7</td>\n",
       "      <td>3</td>\n",
       "    </tr>\n",
       "    <tr>\n",
       "      <th>3</th>\n",
       "      <td>Изменить структура категорий, что увеличит кон...</td>\n",
       "      <td>8</td>\n",
       "      <td>3</td>\n",
       "      <td>3</td>\n",
       "      <td>8</td>\n",
       "    </tr>\n",
       "    <tr>\n",
       "      <th>4</th>\n",
       "      <td>Изменить цвет фона главной страницы, чтобы уве...</td>\n",
       "      <td>3</td>\n",
       "      <td>1</td>\n",
       "      <td>1</td>\n",
       "      <td>1</td>\n",
       "    </tr>\n",
       "  </tbody>\n",
       "</table>\n",
       "</div>"
      ],
      "text/plain": [
       "                                          Hypothesis  Reach  Impact  \\\n",
       "0  Добавить два новых канала привлечения трафика,...      3      10   \n",
       "1  Запустить собственную службу доставки, что сок...      2       5   \n",
       "2  Добавить блоки рекомендаций товаров на сайт ин...      8       3   \n",
       "3  Изменить структура категорий, что увеличит кон...      8       3   \n",
       "4  Изменить цвет фона главной страницы, чтобы уве...      3       1   \n",
       "\n",
       "   Confidence  Efforts  \n",
       "0           8        6  \n",
       "1           4       10  \n",
       "2           7        3  \n",
       "3           3        8  \n",
       "4           1        1  "
      ]
     },
     "metadata": {},
     "output_type": "display_data"
    },
    {
     "data": {
      "text/html": [
       "<div>\n",
       "<style scoped>\n",
       "    .dataframe tbody tr th:only-of-type {\n",
       "        vertical-align: middle;\n",
       "    }\n",
       "\n",
       "    .dataframe tbody tr th {\n",
       "        vertical-align: top;\n",
       "    }\n",
       "\n",
       "    .dataframe thead th {\n",
       "        text-align: right;\n",
       "    }\n",
       "</style>\n",
       "<table border=\"1\" class=\"dataframe\">\n",
       "  <thead>\n",
       "    <tr style=\"text-align: right;\">\n",
       "      <th></th>\n",
       "      <th>transactionId</th>\n",
       "      <th>visitorId</th>\n",
       "      <th>date</th>\n",
       "      <th>revenue</th>\n",
       "      <th>group</th>\n",
       "    </tr>\n",
       "  </thead>\n",
       "  <tbody>\n",
       "    <tr>\n",
       "      <th>0</th>\n",
       "      <td>3667963787</td>\n",
       "      <td>3312258926</td>\n",
       "      <td>2019-08-15</td>\n",
       "      <td>1650</td>\n",
       "      <td>B</td>\n",
       "    </tr>\n",
       "    <tr>\n",
       "      <th>1</th>\n",
       "      <td>2804400009</td>\n",
       "      <td>3642806036</td>\n",
       "      <td>2019-08-15</td>\n",
       "      <td>730</td>\n",
       "      <td>B</td>\n",
       "    </tr>\n",
       "    <tr>\n",
       "      <th>2</th>\n",
       "      <td>2961555356</td>\n",
       "      <td>4069496402</td>\n",
       "      <td>2019-08-15</td>\n",
       "      <td>400</td>\n",
       "      <td>A</td>\n",
       "    </tr>\n",
       "    <tr>\n",
       "      <th>3</th>\n",
       "      <td>3797467345</td>\n",
       "      <td>1196621759</td>\n",
       "      <td>2019-08-15</td>\n",
       "      <td>9759</td>\n",
       "      <td>B</td>\n",
       "    </tr>\n",
       "    <tr>\n",
       "      <th>4</th>\n",
       "      <td>2282983706</td>\n",
       "      <td>2322279887</td>\n",
       "      <td>2019-08-15</td>\n",
       "      <td>2308</td>\n",
       "      <td>B</td>\n",
       "    </tr>\n",
       "  </tbody>\n",
       "</table>\n",
       "</div>"
      ],
      "text/plain": [
       "   transactionId   visitorId        date  revenue group\n",
       "0     3667963787  3312258926  2019-08-15     1650     B\n",
       "1     2804400009  3642806036  2019-08-15      730     B\n",
       "2     2961555356  4069496402  2019-08-15      400     A\n",
       "3     3797467345  1196621759  2019-08-15     9759     B\n",
       "4     2282983706  2322279887  2019-08-15     2308     B"
      ]
     },
     "metadata": {},
     "output_type": "display_data"
    },
    {
     "data": {
      "text/html": [
       "<div>\n",
       "<style scoped>\n",
       "    .dataframe tbody tr th:only-of-type {\n",
       "        vertical-align: middle;\n",
       "    }\n",
       "\n",
       "    .dataframe tbody tr th {\n",
       "        vertical-align: top;\n",
       "    }\n",
       "\n",
       "    .dataframe thead th {\n",
       "        text-align: right;\n",
       "    }\n",
       "</style>\n",
       "<table border=\"1\" class=\"dataframe\">\n",
       "  <thead>\n",
       "    <tr style=\"text-align: right;\">\n",
       "      <th></th>\n",
       "      <th>date</th>\n",
       "      <th>group</th>\n",
       "      <th>visitors</th>\n",
       "    </tr>\n",
       "  </thead>\n",
       "  <tbody>\n",
       "    <tr>\n",
       "      <th>0</th>\n",
       "      <td>2019-08-01</td>\n",
       "      <td>A</td>\n",
       "      <td>719</td>\n",
       "    </tr>\n",
       "    <tr>\n",
       "      <th>1</th>\n",
       "      <td>2019-08-02</td>\n",
       "      <td>A</td>\n",
       "      <td>619</td>\n",
       "    </tr>\n",
       "    <tr>\n",
       "      <th>2</th>\n",
       "      <td>2019-08-03</td>\n",
       "      <td>A</td>\n",
       "      <td>507</td>\n",
       "    </tr>\n",
       "    <tr>\n",
       "      <th>3</th>\n",
       "      <td>2019-08-04</td>\n",
       "      <td>A</td>\n",
       "      <td>717</td>\n",
       "    </tr>\n",
       "    <tr>\n",
       "      <th>4</th>\n",
       "      <td>2019-08-05</td>\n",
       "      <td>A</td>\n",
       "      <td>756</td>\n",
       "    </tr>\n",
       "  </tbody>\n",
       "</table>\n",
       "</div>"
      ],
      "text/plain": [
       "         date group  visitors\n",
       "0  2019-08-01     A       719\n",
       "1  2019-08-02     A       619\n",
       "2  2019-08-03     A       507\n",
       "3  2019-08-04     A       717\n",
       "4  2019-08-05     A       756"
      ]
     },
     "metadata": {},
     "output_type": "display_data"
    }
   ],
   "source": [
    "# чтение файлов с данными и сохранение в переменных\n",
    "try:\n",
    "    hypothesis = pd.read_csv('/datasets/hypothesis.csv')\n",
    "except:\n",
    "    hypothesis = pd.read_csv('C:/Users/tatar/downloads/hypothesis.csv')\n",
    "    \n",
    "try:\n",
    "    orders = pd.read_csv('/datasets/orders.csv')\n",
    "except:\n",
    "    orders = pd.read_csv('C:/Users/tatar/downloads/orders.csv')\n",
    "    \n",
    "try:\n",
    "    visitors = pd.read_csv('/datasets/visitors.csv')\n",
    "except:\n",
    "    visitors = pd.read_csv('C:/Users/tatar/downloads/visitors.csv')\n",
    "\n",
    "# вывод первых 5 строк таблиц\n",
    "display(hypothesis.head())\n",
    "display(orders.head())\n",
    "display(visitors.head())"
   ]
  },
  {
   "cell_type": "code",
   "execution_count": 3,
   "metadata": {},
   "outputs": [
    {
     "name": "stdout",
     "output_type": "stream",
     "text": [
      "<class 'pandas.core.frame.DataFrame'>\n",
      "RangeIndex: 9 entries, 0 to 8\n",
      "Data columns (total 5 columns):\n",
      " #   Column      Non-Null Count  Dtype \n",
      "---  ------      --------------  ----- \n",
      " 0   Hypothesis  9 non-null      object\n",
      " 1   Reach       9 non-null      int64 \n",
      " 2   Impact      9 non-null      int64 \n",
      " 3   Confidence  9 non-null      int64 \n",
      " 4   Efforts     9 non-null      int64 \n",
      "dtypes: int64(4), object(1)\n",
      "memory usage: 488.0+ bytes\n",
      "\n",
      "\n",
      "<class 'pandas.core.frame.DataFrame'>\n",
      "RangeIndex: 1197 entries, 0 to 1196\n",
      "Data columns (total 5 columns):\n",
      " #   Column         Non-Null Count  Dtype \n",
      "---  ------         --------------  ----- \n",
      " 0   transactionId  1197 non-null   int64 \n",
      " 1   visitorId      1197 non-null   int64 \n",
      " 2   date           1197 non-null   object\n",
      " 3   revenue        1197 non-null   int64 \n",
      " 4   group          1197 non-null   object\n",
      "dtypes: int64(3), object(2)\n",
      "memory usage: 46.9+ KB\n",
      "\n",
      "\n",
      "<class 'pandas.core.frame.DataFrame'>\n",
      "RangeIndex: 62 entries, 0 to 61\n",
      "Data columns (total 3 columns):\n",
      " #   Column    Non-Null Count  Dtype \n",
      "---  ------    --------------  ----- \n",
      " 0   date      62 non-null     object\n",
      " 1   group     62 non-null     object\n",
      " 2   visitors  62 non-null     int64 \n",
      "dtypes: int64(1), object(2)\n",
      "memory usage: 1.6+ KB\n"
     ]
    }
   ],
   "source": [
    "# получение общей информации о данных\n",
    "hypothesis.info()\n",
    "print('\\n')\n",
    "orders.info()\n",
    "print('\\n')\n",
    "visitors.info()"
   ]
  },
  {
   "cell_type": "code",
   "execution_count": 4,
   "metadata": {},
   "outputs": [
    {
     "name": "stdout",
     "output_type": "stream",
     "text": [
      "0\n",
      "0\n",
      "0\n"
     ]
    }
   ],
   "source": [
    "# подсчет дубликатов в таблицах\n",
    "print(hypothesis.duplicated().sum()) \n",
    "print(orders.duplicated().sum())\n",
    "print(visitors.duplicated().sum())"
   ]
  },
  {
   "cell_type": "markdown",
   "metadata": {},
   "source": [
    "**Выводы**\n",
    "\n",
    "* Необходимо заменить названия столбцов, привести их к нижнему регистру и правильному стилю;\n",
    "* Необходимо привести к правильному типу данные в столбцах, содержащих информацию о дате и времени;\n",
    "* Пропуски отсутствуют;\n",
    "* Дубликаты отсутствуют."
   ]
  },
  {
   "cell_type": "markdown",
   "metadata": {},
   "source": [
    "### Предобработка данных\n",
    "\n",
    "Заменим названия столбцов, приведём к нижнему регистру и правильному стилю."
   ]
  },
  {
   "cell_type": "code",
   "execution_count": 5,
   "metadata": {},
   "outputs": [
    {
     "name": "stdout",
     "output_type": "stream",
     "text": [
      "Index(['hypothesis', 'reach', 'impact', 'confidence', 'efforts'], dtype='object')\n",
      "Index(['transaction_id', 'visitor_id', 'date', 'revenue', 'group'], dtype='object')\n"
     ]
    }
   ],
   "source": [
    "# переименование столбцов\n",
    "hypothesis.rename(str.lower, axis='columns', inplace=True) \n",
    "orders = orders.rename(columns={'transactionId': 'transaction_id', 'visitorId': 'visitor_id'}) \n",
    "\n",
    "# проверка\n",
    "print(hypothesis.columns) \n",
    "print(orders.columns) "
   ]
  },
  {
   "cell_type": "markdown",
   "metadata": {},
   "source": [
    "Преобразуем данные, содержащие информацию о дате и времени в формат `datetime`."
   ]
  },
  {
   "cell_type": "code",
   "execution_count": 6,
   "metadata": {},
   "outputs": [
    {
     "name": "stdout",
     "output_type": "stream",
     "text": [
      "datetime64[ns]\n",
      "datetime64[ns]\n"
     ]
    }
   ],
   "source": [
    "# изменение типа данных, содержащих информацию о дате и времени\n",
    "orders['date'] = pd.to_datetime(orders['date'])\n",
    "visitors['date'] = pd.to_datetime(visitors['date'])\n",
    "\n",
    "# проверка\n",
    "print(orders['date'].dtypes)\n",
    "print(visitors['date'].dtypes) "
   ]
  },
  {
   "cell_type": "markdown",
   "metadata": {},
   "source": [
    "**Выводы**\n",
    "\n",
    "Таким образом, мы сделали следующее:\n",
    "* Заменили названия столбцов, привели их к нижнему регистру и правильному типу;\n",
    "* Привели к правильному типу данные в столбцах, содержащих информацию о дате и времени."
   ]
  },
  {
   "cell_type": "markdown",
   "metadata": {},
   "source": [
    "## Приоритизация гипотез\n",
    "\n",
    "Проведем приоритизацию гипотез, изпользуя фреймворки `ICE` и `RICE`.\n",
    "\n",
    "Применим фреймворк ICE для приоритизации гипотез. Добавим в таблицу hypothesis столбец с результатами расчета ICE и отсортируем гипотезы по убыванию приоритета."
   ]
  },
  {
   "cell_type": "code",
   "execution_count": 7,
   "metadata": {},
   "outputs": [
    {
     "data": {
      "text/html": [
       "<div>\n",
       "<style scoped>\n",
       "    .dataframe tbody tr th:only-of-type {\n",
       "        vertical-align: middle;\n",
       "    }\n",
       "\n",
       "    .dataframe tbody tr th {\n",
       "        vertical-align: top;\n",
       "    }\n",
       "\n",
       "    .dataframe thead th {\n",
       "        text-align: right;\n",
       "    }\n",
       "</style>\n",
       "<table border=\"1\" class=\"dataframe\">\n",
       "  <thead>\n",
       "    <tr style=\"text-align: right;\">\n",
       "      <th></th>\n",
       "      <th>hypothesis</th>\n",
       "      <th>ice</th>\n",
       "    </tr>\n",
       "  </thead>\n",
       "  <tbody>\n",
       "    <tr>\n",
       "      <th>8</th>\n",
       "      <td>Запустить акцию, дающую скидку на товар в день рождения</td>\n",
       "      <td>16.200</td>\n",
       "    </tr>\n",
       "    <tr>\n",
       "      <th>0</th>\n",
       "      <td>Добавить два новых канала привлечения трафика, что позволит привлекать на 30% больше пользователей</td>\n",
       "      <td>13.333</td>\n",
       "    </tr>\n",
       "    <tr>\n",
       "      <th>7</th>\n",
       "      <td>Добавить форму подписки на все основные страницы, чтобы собрать базу клиентов для email-рассылок</td>\n",
       "      <td>11.200</td>\n",
       "    </tr>\n",
       "    <tr>\n",
       "      <th>6</th>\n",
       "      <td>Показать на главной странице баннеры с актуальными акциями и распродажами, чтобы увеличить конверсию</td>\n",
       "      <td>8.000</td>\n",
       "    </tr>\n",
       "    <tr>\n",
       "      <th>2</th>\n",
       "      <td>Добавить блоки рекомендаций товаров на сайт интернет магазина, чтобы повысить конверсию и средний чек заказа</td>\n",
       "      <td>7.000</td>\n",
       "    </tr>\n",
       "    <tr>\n",
       "      <th>1</th>\n",
       "      <td>Запустить собственную службу доставки, что сократит срок доставки заказов</td>\n",
       "      <td>2.000</td>\n",
       "    </tr>\n",
       "    <tr>\n",
       "      <th>5</th>\n",
       "      <td>Добавить страницу отзывов клиентов о магазине, что позволит увеличить количество заказов</td>\n",
       "      <td>1.333</td>\n",
       "    </tr>\n",
       "    <tr>\n",
       "      <th>3</th>\n",
       "      <td>Изменить структура категорий, что увеличит конверсию, т.к. пользователи быстрее найдут нужный товар</td>\n",
       "      <td>1.125</td>\n",
       "    </tr>\n",
       "    <tr>\n",
       "      <th>4</th>\n",
       "      <td>Изменить цвет фона главной страницы, чтобы увеличить вовлеченность пользователей</td>\n",
       "      <td>1.000</td>\n",
       "    </tr>\n",
       "  </tbody>\n",
       "</table>\n",
       "</div>"
      ],
      "text/plain": [
       "                                                                                                     hypothesis  \\\n",
       "8                                                       Запустить акцию, дающую скидку на товар в день рождения   \n",
       "0            Добавить два новых канала привлечения трафика, что позволит привлекать на 30% больше пользователей   \n",
       "7              Добавить форму подписки на все основные страницы, чтобы собрать базу клиентов для email-рассылок   \n",
       "6          Показать на главной странице баннеры с актуальными акциями и распродажами, чтобы увеличить конверсию   \n",
       "2  Добавить блоки рекомендаций товаров на сайт интернет магазина, чтобы повысить конверсию и средний чек заказа   \n",
       "1                                     Запустить собственную службу доставки, что сократит срок доставки заказов   \n",
       "5                      Добавить страницу отзывов клиентов о магазине, что позволит увеличить количество заказов   \n",
       "3           Изменить структура категорий, что увеличит конверсию, т.к. пользователи быстрее найдут нужный товар   \n",
       "4                              Изменить цвет фона главной страницы, чтобы увеличить вовлеченность пользователей   \n",
       "\n",
       "      ice  \n",
       "8  16.200  \n",
       "0  13.333  \n",
       "7  11.200  \n",
       "6   8.000  \n",
       "2   7.000  \n",
       "1   2.000  \n",
       "5   1.333  \n",
       "3   1.125  \n",
       "4   1.000  "
      ]
     },
     "metadata": {},
     "output_type": "display_data"
    }
   ],
   "source": [
    "pd.set_option('display.max_colwidth', None) # настройка отображения ширины столбца по содержимому\n",
    "\n",
    "hypothesis['ice'] = round((hypothesis['impact'] * hypothesis['confidence'])/hypothesis['efforts'], 3)\n",
    "display(hypothesis[['hypothesis', 'ice']].sort_values(by='ice', ascending=False))"
   ]
  },
  {
   "cell_type": "markdown",
   "metadata": {},
   "source": [
    "**Наиболее перспективные гипотезы по ICE:**\n",
    "\n",
    "* 8 - Запустить акцию, дающую скидку на товар в день рождения;\n",
    "* 0 - Добавить два новых канала привлечения трафика, что позволит привлекать на 30% больше пользователей;\n",
    "* 7 - Добавить форму подписки на все основные страницы, чтобы собрать базу клиентов для email-рассылок\n",
    "* 6 - Показать на главной странице баннеры с актуальными акциями и распродажами, чтобы увеличить конверсию."
   ]
  },
  {
   "cell_type": "markdown",
   "metadata": {},
   "source": [
    "Применим фреймворк RICE для приоритизации гипотез. Добавим в таблицу hypothesis столбец с результатами расчета RICE и отсортируем гипотезы по убыванию приоритета."
   ]
  },
  {
   "cell_type": "code",
   "execution_count": 8,
   "metadata": {},
   "outputs": [
    {
     "data": {
      "text/html": [
       "<div>\n",
       "<style scoped>\n",
       "    .dataframe tbody tr th:only-of-type {\n",
       "        vertical-align: middle;\n",
       "    }\n",
       "\n",
       "    .dataframe tbody tr th {\n",
       "        vertical-align: top;\n",
       "    }\n",
       "\n",
       "    .dataframe thead th {\n",
       "        text-align: right;\n",
       "    }\n",
       "</style>\n",
       "<table border=\"1\" class=\"dataframe\">\n",
       "  <thead>\n",
       "    <tr style=\"text-align: right;\">\n",
       "      <th></th>\n",
       "      <th>hypothesis</th>\n",
       "      <th>rice</th>\n",
       "    </tr>\n",
       "  </thead>\n",
       "  <tbody>\n",
       "    <tr>\n",
       "      <th>7</th>\n",
       "      <td>Добавить форму подписки на все основные страницы, чтобы собрать базу клиентов для email-рассылок</td>\n",
       "      <td>112.0</td>\n",
       "    </tr>\n",
       "    <tr>\n",
       "      <th>2</th>\n",
       "      <td>Добавить блоки рекомендаций товаров на сайт интернет магазина, чтобы повысить конверсию и средний чек заказа</td>\n",
       "      <td>56.0</td>\n",
       "    </tr>\n",
       "    <tr>\n",
       "      <th>0</th>\n",
       "      <td>Добавить два новых канала привлечения трафика, что позволит привлекать на 30% больше пользователей</td>\n",
       "      <td>40.0</td>\n",
       "    </tr>\n",
       "    <tr>\n",
       "      <th>6</th>\n",
       "      <td>Показать на главной странице баннеры с актуальными акциями и распродажами, чтобы увеличить конверсию</td>\n",
       "      <td>40.0</td>\n",
       "    </tr>\n",
       "    <tr>\n",
       "      <th>8</th>\n",
       "      <td>Запустить акцию, дающую скидку на товар в день рождения</td>\n",
       "      <td>16.2</td>\n",
       "    </tr>\n",
       "    <tr>\n",
       "      <th>3</th>\n",
       "      <td>Изменить структура категорий, что увеличит конверсию, т.к. пользователи быстрее найдут нужный товар</td>\n",
       "      <td>9.0</td>\n",
       "    </tr>\n",
       "    <tr>\n",
       "      <th>1</th>\n",
       "      <td>Запустить собственную службу доставки, что сократит срок доставки заказов</td>\n",
       "      <td>4.0</td>\n",
       "    </tr>\n",
       "    <tr>\n",
       "      <th>5</th>\n",
       "      <td>Добавить страницу отзывов клиентов о магазине, что позволит увеличить количество заказов</td>\n",
       "      <td>4.0</td>\n",
       "    </tr>\n",
       "    <tr>\n",
       "      <th>4</th>\n",
       "      <td>Изменить цвет фона главной страницы, чтобы увеличить вовлеченность пользователей</td>\n",
       "      <td>3.0</td>\n",
       "    </tr>\n",
       "  </tbody>\n",
       "</table>\n",
       "</div>"
      ],
      "text/plain": [
       "                                                                                                     hypothesis  \\\n",
       "7              Добавить форму подписки на все основные страницы, чтобы собрать базу клиентов для email-рассылок   \n",
       "2  Добавить блоки рекомендаций товаров на сайт интернет магазина, чтобы повысить конверсию и средний чек заказа   \n",
       "0            Добавить два новых канала привлечения трафика, что позволит привлекать на 30% больше пользователей   \n",
       "6          Показать на главной странице баннеры с актуальными акциями и распродажами, чтобы увеличить конверсию   \n",
       "8                                                       Запустить акцию, дающую скидку на товар в день рождения   \n",
       "3           Изменить структура категорий, что увеличит конверсию, т.к. пользователи быстрее найдут нужный товар   \n",
       "1                                     Запустить собственную службу доставки, что сократит срок доставки заказов   \n",
       "5                      Добавить страницу отзывов клиентов о магазине, что позволит увеличить количество заказов   \n",
       "4                              Изменить цвет фона главной страницы, чтобы увеличить вовлеченность пользователей   \n",
       "\n",
       "    rice  \n",
       "7  112.0  \n",
       "2   56.0  \n",
       "0   40.0  \n",
       "6   40.0  \n",
       "8   16.2  \n",
       "3    9.0  \n",
       "1    4.0  \n",
       "5    4.0  \n",
       "4    3.0  "
      ]
     },
     "metadata": {},
     "output_type": "display_data"
    }
   ],
   "source": [
    "hypothesis['rice'] = round((hypothesis['reach'] * hypothesis['impact'] * hypothesis['confidence'])/hypothesis['efforts'], 3)\n",
    "display(hypothesis[['hypothesis', 'rice']].sort_values(by='rice', ascending=False))"
   ]
  },
  {
   "cell_type": "markdown",
   "metadata": {},
   "source": [
    "**Наиболее перспективные гипотезы по RICE:**\n",
    "\n",
    "* 7 - Добавить форму подписки на все основные страницы, чтобы собрать базу клиентов для email-рассылок;\n",
    "* 2 - Добавить блоки рекомендаций товаров на сайт интернет магазина, чтобы повысить конверсию и средний чек заказа;\n",
    "* 0 - Добавить два новых канала привлечения трафика, что позволит привлекать на 30% больше пользователей;\n",
    "* 6 - Показать на главной странице баннеры с актуальными акциями и распродажами, чтобы увеличить конверсию."
   ]
  },
  {
   "cell_type": "markdown",
   "metadata": {},
   "source": [
    "**Выводы**\n",
    "\n",
    "- Наболее перспективная гипотеза по ICE под номером 8 оказалась на пятом месте при расчете RICE. Это можно объяснить значением показателя `reach` - количество пользователей, которое затронет изменение. Этот фактор оказал влияние и на другие гипотезы;\n",
    "- Тем не менее, комплексно учитывая результаты обеих приоритизаций гипотез можно выделить наиболее важные из них:\n",
    "    * 7 - Добавить форму подписки на все основные страницы, чтобы собрать базу клиентов для email-рассылок;\n",
    "    * 0 - Добавить два новых канала привлечения трафика, что позволит привлекать на 30% больше пользователей;\n",
    "    * 6 - Показать на главной странице баннеры с актуальными акциями и распродажами, чтобы увеличить конверсию."
   ]
  },
  {
   "cell_type": "markdown",
   "metadata": {},
   "source": [
    "## Анализ A/B-теста\n",
    "\n",
    "Мы провели A/B-тест и получили результаты, которые описаны в файлах `/datasets/orders.csv` и `/datasets/visitors.csv`. \n",
    "\n",
    "Проведем анализ результатов A/B-теста.\n",
    "\n",
    "Для начала проверим сколько групп у нас в A/B-тесте."
   ]
  },
  {
   "cell_type": "code",
   "execution_count": 9,
   "metadata": {},
   "outputs": [
    {
     "name": "stdout",
     "output_type": "stream",
     "text": [
      "['B' 'A']\n",
      "['A' 'B']\n"
     ]
    }
   ],
   "source": [
    "print(orders['group'].unique())\n",
    "print(visitors['group'].unique())"
   ]
  },
  {
   "cell_type": "markdown",
   "metadata": {},
   "source": [
    "В результатах A/B-теста 2 группы (А и В).\n",
    "\n",
    "Теперь определим даты начала и окончания A/B-теста."
   ]
  },
  {
   "cell_type": "code",
   "execution_count": 10,
   "metadata": {},
   "outputs": [
    {
     "name": "stdout",
     "output_type": "stream",
     "text": [
      "Дата начала A/B-теста по таблице orders: 2019-08-01\n",
      "Дата окончания A/B-теста по таблице orders: 2019-08-31\n",
      "\n",
      "\n",
      "Дата начала A/B-теста по таблице visitors: 2019-08-01\n",
      "Дата окончания A/B-теста по таблице visitors: 2019-08-31\n"
     ]
    }
   ],
   "source": [
    "print('Дата начала A/B-теста по таблице orders:', min(orders['date'].dt.date))\n",
    "print('Дата окончания A/B-теста по таблице orders:', max(orders['date'].dt.date))\n",
    "print('\\n')\n",
    "print('Дата начала A/B-теста по таблице visitors:', min(visitors['date'].dt.date))\n",
    "print('Дата окончания A/B-теста по таблице visitors:', max(visitors['date'].dt.date))"
   ]
  },
  {
   "cell_type": "markdown",
   "metadata": {},
   "source": [
    "Период тестирования совпадает по обеим таблицам.\n",
    "\n",
    "Определим количество пользователей в каждой группе. Для этого сформируем вспомогательный датафрейм `orders_by_group` на базе таблицы `orders`, в ктором будут колонки со следующими столбцами: `unique_group_size` - количество уникальных пользователей в группе, `group_size` - общее количество пользователей в группе, `both_groups_size` - количество пользователей, входящих в обе группы."
   ]
  },
  {
   "cell_type": "code",
   "execution_count": 11,
   "metadata": {},
   "outputs": [
    {
     "data": {
      "text/html": [
       "<div>\n",
       "<style scoped>\n",
       "    .dataframe tbody tr th:only-of-type {\n",
       "        vertical-align: middle;\n",
       "    }\n",
       "\n",
       "    .dataframe tbody tr th {\n",
       "        vertical-align: top;\n",
       "    }\n",
       "\n",
       "    .dataframe thead th {\n",
       "        text-align: right;\n",
       "    }\n",
       "</style>\n",
       "<table border=\"1\" class=\"dataframe\">\n",
       "  <thead>\n",
       "    <tr style=\"text-align: right;\">\n",
       "      <th></th>\n",
       "      <th>unique_group_size</th>\n",
       "      <th>group_size</th>\n",
       "      <th>both_groups_size</th>\n",
       "    </tr>\n",
       "    <tr>\n",
       "      <th>group</th>\n",
       "      <th></th>\n",
       "      <th></th>\n",
       "      <th></th>\n",
       "    </tr>\n",
       "  </thead>\n",
       "  <tbody>\n",
       "    <tr>\n",
       "      <th>A</th>\n",
       "      <td>503</td>\n",
       "      <td>557</td>\n",
       "      <td>54</td>\n",
       "    </tr>\n",
       "    <tr>\n",
       "      <th>B</th>\n",
       "      <td>586</td>\n",
       "      <td>640</td>\n",
       "      <td>54</td>\n",
       "    </tr>\n",
       "  </tbody>\n",
       "</table>\n",
       "</div>"
      ],
      "text/plain": [
       "       unique_group_size  group_size  both_groups_size\n",
       "group                                                 \n",
       "A                    503         557                54\n",
       "B                    586         640                54"
      ]
     },
     "execution_count": 11,
     "metadata": {},
     "output_type": "execute_result"
    }
   ],
   "source": [
    "orders_by_group = (\n",
    "    orders.groupby('group')\n",
    "    .agg({'visitor_id': ['nunique', 'count']})\n",
    ")\n",
    "orders_by_group.columns = ['unique_group_size', 'group_size']\n",
    "orders_by_group['both_groups_size'] = orders_by_group['group_size'] - orders_by_group['unique_group_size']\n",
    "orders_by_group"
   ]
  },
  {
   "cell_type": "markdown",
   "metadata": {},
   "source": [
    "**Выводы**\n",
    "\n",
    "По предварительному анализу результатов A/B-теста:\n",
    "- Проверили, что групп по тестированию две, А и В;\n",
    "- Определили, что тест проходил в интервале с 01-08-2019 по 31-08-2019;\n",
    "- Определили размеры групп, в группе А - 503 пользователя, в В - 586 пользователей, 54 пользователя входят в обе группы."
   ]
  },
  {
   "cell_type": "markdown",
   "metadata": {},
   "source": [
    "### График кумулятивной выручки по группам\n",
    "\n",
    "Чтобы построить графики, нужно собрать кумулятивные данные. Сформируем датафрейм `cumulative_data` со столбцами:\n",
    "\n",
    "- `date` — дата;\n",
    "- `group` — группа A/B-теста (A или B);\n",
    "- `orders` — кумулятивное количество заказов на указанную дату в указанной группе;\n",
    "- `buyers` — кумулятивное количество пользователей, совершивших хотя бы один заказ, на указанную дату в указанной группе;\n",
    "- `revenue` — кумулятивная выручка на указанную дату в указанной группе (средний чек);\n",
    "- `visitors` — кумулятивное количество посетителей интернет-магазина на указанную дату в определённой группе."
   ]
  },
  {
   "cell_type": "code",
   "execution_count": 12,
   "metadata": {},
   "outputs": [
    {
     "data": {
      "text/html": [
       "<div>\n",
       "<style scoped>\n",
       "    .dataframe tbody tr th:only-of-type {\n",
       "        vertical-align: middle;\n",
       "    }\n",
       "\n",
       "    .dataframe tbody tr th {\n",
       "        vertical-align: top;\n",
       "    }\n",
       "\n",
       "    .dataframe thead th {\n",
       "        text-align: right;\n",
       "    }\n",
       "</style>\n",
       "<table border=\"1\" class=\"dataframe\">\n",
       "  <thead>\n",
       "    <tr style=\"text-align: right;\">\n",
       "      <th></th>\n",
       "      <th>date</th>\n",
       "      <th>group</th>\n",
       "      <th>orders</th>\n",
       "      <th>buyers</th>\n",
       "      <th>revenue</th>\n",
       "      <th>visitors</th>\n",
       "    </tr>\n",
       "  </thead>\n",
       "  <tbody>\n",
       "    <tr>\n",
       "      <th>0</th>\n",
       "      <td>2019-08-01</td>\n",
       "      <td>A</td>\n",
       "      <td>24</td>\n",
       "      <td>20</td>\n",
       "      <td>148579</td>\n",
       "      <td>719</td>\n",
       "    </tr>\n",
       "    <tr>\n",
       "      <th>1</th>\n",
       "      <td>2019-08-01</td>\n",
       "      <td>B</td>\n",
       "      <td>21</td>\n",
       "      <td>20</td>\n",
       "      <td>101217</td>\n",
       "      <td>713</td>\n",
       "    </tr>\n",
       "    <tr>\n",
       "      <th>2</th>\n",
       "      <td>2019-08-02</td>\n",
       "      <td>A</td>\n",
       "      <td>44</td>\n",
       "      <td>38</td>\n",
       "      <td>242401</td>\n",
       "      <td>1338</td>\n",
       "    </tr>\n",
       "    <tr>\n",
       "      <th>3</th>\n",
       "      <td>2019-08-02</td>\n",
       "      <td>B</td>\n",
       "      <td>45</td>\n",
       "      <td>43</td>\n",
       "      <td>266748</td>\n",
       "      <td>1294</td>\n",
       "    </tr>\n",
       "    <tr>\n",
       "      <th>4</th>\n",
       "      <td>2019-08-03</td>\n",
       "      <td>A</td>\n",
       "      <td>68</td>\n",
       "      <td>62</td>\n",
       "      <td>354874</td>\n",
       "      <td>1845</td>\n",
       "    </tr>\n",
       "  </tbody>\n",
       "</table>\n",
       "</div>"
      ],
      "text/plain": [
       "        date group  orders  buyers  revenue  visitors\n",
       "0 2019-08-01     A      24      20   148579       719\n",
       "1 2019-08-01     B      21      20   101217       713\n",
       "2 2019-08-02     A      44      38   242401      1338\n",
       "3 2019-08-02     B      45      43   266748      1294\n",
       "4 2019-08-03     A      68      62   354874      1845"
      ]
     },
     "metadata": {},
     "output_type": "display_data"
    }
   ],
   "source": [
    "# создаем массив уникальных пар значений дат и групп теста\n",
    "dates_groups = orders[['date','group']].drop_duplicates()\n",
    "\n",
    "# получаем агрегированные кумулятивные по дням данные о заказах \n",
    "orders_aggregated = dates_groups.apply(lambda x:\n",
    "                                       orders[np.logical_and(\n",
    "                                           orders['date'] <= x['date'],\n",
    "                                           orders['group'] == x['group'])]\n",
    "                                       .agg({'date' : 'max',\n",
    "                                             'group' : 'max',\n",
    "                                             'transaction_id' : 'nunique',\n",
    "                                             'visitor_id' : 'nunique',\n",
    "                                             'revenue' : 'sum'}),\n",
    "                                       axis=1).sort_values(by=['date','group'])\n",
    "\n",
    "# получаем агрегированные кумулятивные по дням данные о посетителях интернет-магазина \n",
    "visitors_aggregated = dates_groups.apply(lambda x:\n",
    "                                         visitors[np.logical_and(\n",
    "                                             visitors['date'] <= x['date'],\n",
    "                                             visitors['group'] == x['group'])]\n",
    "                                         .agg({'date' : 'max',\n",
    "                                               'group' : 'max',\n",
    "                                               'visitors' : 'sum'}),\n",
    "                                         axis=1).sort_values(by=['date','group'])\n",
    "\n",
    "# объединяем кумулятивные данные в одной таблице и присваиваем ее столбцам понятные названия\n",
    "cumulative_data = orders_aggregated.merge(visitors_aggregated, left_on=['date', 'group'], right_on=['date', 'group'])\n",
    "cumulative_data.columns = ['date', 'group', 'orders', 'buyers', 'revenue', 'visitors']\n",
    "\n",
    "display(cumulative_data.head())"
   ]
  },
  {
   "cell_type": "markdown",
   "metadata": {},
   "source": [
    "Построим графики кумулятивной выручки по дням и группам A/B-тестирования."
   ]
  },
  {
   "cell_type": "code",
   "execution_count": 13,
   "metadata": {},
   "outputs": [
    {
     "data": {
      "image/png": "[encoded data removed]",
      "text/plain": [
       "<Figure size 1080x720 with 1 Axes>"
      ]
     },
     "metadata": {
      "needs_background": "light"
     },
     "output_type": "display_data"
    }
   ],
   "source": [
    "# датафрейм с кумулятивным количеством заказов и кумулятивной выручкой по дням в группе А\n",
    "cumulative_revenue_a = cumulative_data[cumulative_data['group']=='A'][['date','revenue', 'orders']]\n",
    "\n",
    "# датафрейм с кумулятивным количеством заказов и кумулятивной выручкой по дням в группе B\n",
    "cumulative_revenue_b = cumulative_data[cumulative_data['group']=='B'][['date','revenue', 'orders']]\n",
    "\n",
    "# задаём размер для графиков\n",
    "plt.figure(figsize=(15, 10))\n",
    "\n",
    "# строим график выручки группы А\n",
    "plt.plot(cumulative_revenue_a['date'], cumulative_revenue_a['revenue'], label='A')\n",
    "\n",
    "# строим график выручки группы B\n",
    "plt.plot(cumulative_revenue_b['date'], cumulative_revenue_b['revenue'], label='B')\n",
    "\n",
    "plt.grid(visible=True)\n",
    "plt.title('Графики кумулятивной выручки по дням и группам A/B-тестирования', fontsize=14)\n",
    "plt.xlabel('Дата', fontsize=12)\n",
    "plt.ylabel('Выручка, ₽', fontsize=12)\n",
    "plt.legend() \n",
    "plt.show()"
   ]
  },
  {
   "cell_type": "markdown",
   "metadata": {},
   "source": [
    "**По графикам можно сделать такие выводы:**\n",
    "- Выручка почти равномерно увеличивается в течение всего теста в обеих группах.\n",
    "- Однако график выручки группы B в одной точке резко вырос. Это может сигнализировать о всплеске числа заказов, либо о появлении очень дорогих заказов в выборке в этот конкретный период."
   ]
  },
  {
   "cell_type": "markdown",
   "metadata": {},
   "source": [
    "### График кумулятивного среднего чека по группам\n",
    "\n",
    "Построим графики кумулятивного среднего чека по дням и группам A/B-тестирования.\n",
    "\n",
    "Для этого разделим кумулятивную выручку на кумулятивное число заказов."
   ]
  },
  {
   "cell_type": "code",
   "execution_count": 14,
   "metadata": {},
   "outputs": [
    {
     "data": {
      "image/png": "[encoded data removed]",
      "text/plain": [
       "<Figure size 1080x720 with 1 Axes>"
      ]
     },
     "metadata": {
      "needs_background": "light"
     },
     "output_type": "display_data"
    }
   ],
   "source": [
    "plt.figure(figsize=(15, 10))\n",
    "plt.plot(cumulative_revenue_a['date'], cumulative_revenue_a['revenue']/cumulative_revenue_a['orders'], label='A')\n",
    "plt.plot(cumulative_revenue_b['date'], cumulative_revenue_b['revenue']/cumulative_revenue_b['orders'], label='B')\n",
    "\n",
    "plt.grid(visible=True)\n",
    "plt.title('Графики кумулятивного среднего чека по дням и группам A/B-тестирования', fontsize=14)\n",
    "plt.xlabel('Дата', fontsize=12)\n",
    "plt.ylabel('Средний чек, ₽', fontsize=12)\n",
    "plt.legend() \n",
    "plt.show()"
   ]
  },
  {
   "cell_type": "markdown",
   "metadata": {},
   "source": [
    "**По графикам можно сделать такие выводы:**\n",
    "- Средний чек в группе А после падения и резкого роста стал более равномерным с тенденцией к росту.\n",
    "- Средний чек в группе B в одной точке резко вырос, как и выручка (предположение о крупных заказах). Имеется некоторая тенденция к снижению среднего чека в этой группе. Величины среднего чека обеих групп разные."
   ]
  },
  {
   "cell_type": "markdown",
   "metadata": {},
   "source": [
    "### График относительного изменения кумулятивного среднего чека группы B к группе A\n",
    "\n",
    "Построим график относительного различия для среднего чека."
   ]
  },
  {
   "cell_type": "code",
   "execution_count": 15,
   "metadata": {},
   "outputs": [
    {
     "data": {
      "image/png": "[encoded data removed]",
      "text/plain": [
       "<Figure size 1080x720 with 1 Axes>"
      ]
     },
     "metadata": {
      "needs_background": "light"
     },
     "output_type": "display_data"
    }
   ],
   "source": [
    "# собираем данные в одном датафрейме\n",
    "merged_cumulative_revenue = cumulative_revenue_a.merge(\n",
    "    cumulative_revenue_b,\n",
    "    left_on='date',\n",
    "    right_on='date',\n",
    "    how='left',\n",
    "    suffixes=['A', 'B'])\n",
    "\n",
    "# задаём размер для графика\n",
    "plt.figure(figsize=(15, 10))\n",
    "\n",
    "# cтроим отношение средних чеков\n",
    "plt.plot(merged_cumulative_revenue['date'],\n",
    "         (merged_cumulative_revenue['revenueB']/\n",
    "          merged_cumulative_revenue['ordersB'])/\n",
    "         (merged_cumulative_revenue['revenueA']/\n",
    "          merged_cumulative_revenue['ordersA'])-1)\n",
    "\n",
    "# добавляем ось X\n",
    "plt.axhline(y=0, color='black', linestyle='--')\n",
    "\n",
    "plt.grid(visible=True)\n",
    "plt.title('График относительного изменения кумулятивного среднего чека группы B к группе A', fontsize=14)\n",
    "plt.xlabel('Дата', fontsize=12)\n",
    "plt.ylabel('Отношение средних чеков', fontsize=12)\n",
    "plt.show()"
   ]
  },
  {
   "cell_type": "markdown",
   "metadata": {},
   "source": [
    "**По графику можно сделать такие выводы:**\n",
    "- В нескольких точках график различия между сегментами резко «скачет». Это говорит о наличии крупных заказов."
   ]
  },
  {
   "cell_type": "markdown",
   "metadata": {},
   "source": [
    "### График кумулятивной конверсии по группам\n",
    "\n",
    "Построим график кумулятивной конверсии по группам."
   ]
  },
  {
   "cell_type": "code",
   "execution_count": 16,
   "metadata": {},
   "outputs": [
    {
     "data": {
      "image/png": "[encoded data removed]",
      "text/plain": [
       "<Figure size 1080x720 with 1 Axes>"
      ]
     },
     "metadata": {
      "needs_background": "light"
     },
     "output_type": "display_data"
    }
   ],
   "source": [
    "# конвертеры, которые позволяют использовать типы pandas в matplotlib  \n",
    "register_matplotlib_converters()\n",
    "\n",
    "# считаем кумулятивную конверсию\n",
    "cumulative_data['conversion'] = cumulative_data['orders']/cumulative_data['visitors']\n",
    "\n",
    "# отделяем данные по группе A\n",
    "cumulative_data_a = cumulative_data[cumulative_data['group']=='A']\n",
    "\n",
    "# отделяем данные по группе B\n",
    "cumulative_data_b = cumulative_data[cumulative_data['group']=='B']\n",
    "\n",
    "# задаём размер для графиков\n",
    "plt.figure(figsize=(15, 10))\n",
    "\n",
    "# строим графики\n",
    "plt.plot(cumulative_data_a['date'], cumulative_data_a['conversion'], label='A')\n",
    "plt.plot(cumulative_data_b['date'], cumulative_data_b['conversion'], label='B')\n",
    "\n",
    "# задаем масштаб осей\n",
    "plt.axis([dt.datetime(2019, 8, 1), dt.datetime(2019, 8, 31), 0, 0.05]) \n",
    "\n",
    "plt.grid(visible=True)\n",
    "plt.title('График кумулятивной конверсии по группам', fontsize=14)\n",
    "plt.xlabel('Дата', fontsize=12)\n",
    "plt.ylabel('Конверсия', fontsize=12)\n",
    "plt.legend()\n",
    "plt.show()"
   ]
  },
  {
   "cell_type": "markdown",
   "metadata": {},
   "source": [
    "**По графику можно сделать такие выводы:**\n",
    "- Группы колебались около одного значения, но затем конверсия группы B вырвалась вперёд и зафиксировалась, а конверсия группы A просела и также зафиксировалась."
   ]
  },
  {
   "cell_type": "markdown",
   "metadata": {},
   "source": [
    "### График относительного изменения кумулятивной конверсии группы B к группе A\n",
    "\n",
    "Построим график относительного изменения кумулятивной конверсии группы B к группе A."
   ]
  },
  {
   "cell_type": "code",
   "execution_count": 17,
   "metadata": {},
   "outputs": [
    {
     "data": {
      "image/png": "[encoded data removed]",
      "text/plain": [
       "<Figure size 1080x720 with 1 Axes>"
      ]
     },
     "metadata": {
      "needs_background": "light"
     },
     "output_type": "display_data"
    }
   ],
   "source": [
    "# собираем данные в одном датафрейме\n",
    "merged_cumulative_conversions = cumulative_data_a[['date','conversion']].merge(\n",
    "    cumulative_data_b[['date','conversion']],\n",
    "    left_on='date',\n",
    "    right_on='date',\n",
    "    how='left',\n",
    "    suffixes=['A', 'B'])\n",
    "\n",
    "# задаём размер для графика\n",
    "plt.figure(figsize=(15, 10))\n",
    "\n",
    "# cтроим отношение конверсий\n",
    "plt.plot(merged_cumulative_conversions['date'],\n",
    "         merged_cumulative_conversions['conversionB']/\n",
    "         merged_cumulative_conversions['conversionA']-1)\n",
    "\n",
    "# добавляем оси X\n",
    "plt.axhline(y=0, color='black', linestyle='--')\n",
    "plt.axhline(y=0.14, color='grey', linestyle='--')\n",
    "\n",
    "# задаем масштаб осей\n",
    "plt.axis([dt.datetime(2019, 8, 1), dt.datetime(2019, 8, 31), -0.12, 0.22])\n",
    "\n",
    "plt.grid(visible=True)\n",
    "plt.title('График относительного изменения кумулятивной конверсии группы B к группе A', fontsize=14)\n",
    "plt.xlabel('Дата', fontsize=12)\n",
    "plt.ylabel('Отношение конверсий', fontsize=12)\n",
    "plt.show()"
   ]
  },
  {
   "cell_type": "markdown",
   "metadata": {},
   "source": [
    "**По графику можно сделать такие выводы:**\n",
    "- В начале теста группа B проигрывала группе A, затем вырвалась вперёд и постепенно растёт.\n",
    "- В целом отношение конверсии ещё не установилось, и сейчас делать какие-либо выводы по тесту нельзя. Необходимо проанализировать аномалии, возможно, они изменят картину."
   ]
  },
  {
   "cell_type": "markdown",
   "metadata": {},
   "source": [
    "### Точечный график количества заказов по пользователям\n",
    "\n",
    "Для начала сформируем датафрейм `orders_by_users` для того, чтобы посмотреть число заказов по пользователям."
   ]
  },
  {
   "cell_type": "code",
   "execution_count": 18,
   "metadata": {},
   "outputs": [
    {
     "data": {
      "text/html": [
       "<div>\n",
       "<style scoped>\n",
       "    .dataframe tbody tr th:only-of-type {\n",
       "        vertical-align: middle;\n",
       "    }\n",
       "\n",
       "    .dataframe tbody tr th {\n",
       "        vertical-align: top;\n",
       "    }\n",
       "\n",
       "    .dataframe thead th {\n",
       "        text-align: right;\n",
       "    }\n",
       "</style>\n",
       "<table border=\"1\" class=\"dataframe\">\n",
       "  <thead>\n",
       "    <tr style=\"text-align: right;\">\n",
       "      <th></th>\n",
       "      <th>visitor_id</th>\n",
       "      <th>orders</th>\n",
       "    </tr>\n",
       "  </thead>\n",
       "  <tbody>\n",
       "    <tr>\n",
       "      <th>1023</th>\n",
       "      <td>4256040402</td>\n",
       "      <td>11</td>\n",
       "    </tr>\n",
       "    <tr>\n",
       "      <th>591</th>\n",
       "      <td>2458001652</td>\n",
       "      <td>11</td>\n",
       "    </tr>\n",
       "    <tr>\n",
       "      <th>569</th>\n",
       "      <td>2378935119</td>\n",
       "      <td>9</td>\n",
       "    </tr>\n",
       "    <tr>\n",
       "      <th>487</th>\n",
       "      <td>2038680547</td>\n",
       "      <td>8</td>\n",
       "    </tr>\n",
       "    <tr>\n",
       "      <th>44</th>\n",
       "      <td>199603092</td>\n",
       "      <td>5</td>\n",
       "    </tr>\n",
       "    <tr>\n",
       "      <th>744</th>\n",
       "      <td>3062433592</td>\n",
       "      <td>5</td>\n",
       "    </tr>\n",
       "    <tr>\n",
       "      <th>55</th>\n",
       "      <td>237748145</td>\n",
       "      <td>5</td>\n",
       "    </tr>\n",
       "    <tr>\n",
       "      <th>917</th>\n",
       "      <td>3803269165</td>\n",
       "      <td>5</td>\n",
       "    </tr>\n",
       "    <tr>\n",
       "      <th>299</th>\n",
       "      <td>1230306981</td>\n",
       "      <td>5</td>\n",
       "    </tr>\n",
       "    <tr>\n",
       "      <th>897</th>\n",
       "      <td>3717692402</td>\n",
       "      <td>5</td>\n",
       "    </tr>\n",
       "  </tbody>\n",
       "</table>\n",
       "</div>"
      ],
      "text/plain": [
       "      visitor_id  orders\n",
       "1023  4256040402      11\n",
       "591   2458001652      11\n",
       "569   2378935119       9\n",
       "487   2038680547       8\n",
       "44     199603092       5\n",
       "744   3062433592       5\n",
       "55     237748145       5\n",
       "917   3803269165       5\n",
       "299   1230306981       5\n",
       "897   3717692402       5"
      ]
     },
     "metadata": {},
     "output_type": "display_data"
    }
   ],
   "source": [
    "orders_by_users = (\n",
    "    orders.groupby('visitor_id', as_index=False)\n",
    "    .agg({'transaction_id': 'nunique'})\n",
    "    .sort_values(by='transaction_id', ascending=False)\n",
    "    .rename(columns={'transaction_id': 'orders'})\n",
    ")\n",
    "\n",
    "display(orders_by_users.head(10))"
   ]
  },
  {
   "cell_type": "markdown",
   "metadata": {},
   "source": [
    "Мы определили, что существует несколько пользователей с большим количеством заказов.\n",
    "\n",
    "Построим гистрограмму распределения количества заказов на одного пользователя."
   ]
  },
  {
   "cell_type": "code",
   "execution_count": 19,
   "metadata": {},
   "outputs": [
    {
     "data": {
      "image/png": "[encoded data removed]",
      "text/plain": [
       "<Figure size 720x360 with 1 Axes>"
      ]
     },
     "metadata": {
      "needs_background": "light"
     },
     "output_type": "display_data"
    }
   ],
   "source": [
    "plt.figure(figsize=(10, 5))\n",
    "plt.hist(orders_by_users['orders']) \n",
    "plt.title('Гистрограмма распределения количества заказов на одного пользователя', fontsize=14)\n",
    "plt.ylabel('Количество заказов', fontsize=12)\n",
    "plt.show()"
   ]
  },
  {
   "cell_type": "markdown",
   "metadata": {},
   "source": [
    "Большинство покупателей заказывали только один раз. Однако есть пользователи с количеством заказов 2-4.\n",
    "\n",
    "Построим точечный график количества заказов по пользователям."
   ]
  },
  {
   "cell_type": "code",
   "execution_count": 20,
   "metadata": {},
   "outputs": [
    {
     "data": {
      "image/png": "[encoded data removed]",
      "text/plain": [
       "<Figure size 720x360 with 1 Axes>"
      ]
     },
     "metadata": {
      "needs_background": "light"
     },
     "output_type": "display_data"
    }
   ],
   "source": [
    "x_values = pd.Series(range(0,len(orders_by_users)))\n",
    "plt.figure(figsize=(10, 5))\n",
    "plt.scatter(x_values, orders_by_users['orders'], alpha=0.1)\n",
    "plt.title('Точечный график количества заказов по пользователям', fontsize=14)\n",
    "plt.ylabel('Количество заказов', fontsize=12)\n",
    "plt.show()"
   ]
  },
  {
   "cell_type": "markdown",
   "metadata": {},
   "source": [
    "**По графикам можно сделать такие выводы:**\n",
    "- Есть некоторое количество пользователей с количеством заказов 2-4. Их точная доля не ясна — непонятно, считать их аномалиями или нет."
   ]
  },
  {
   "cell_type": "markdown",
   "metadata": {},
   "source": [
    "### Расчет 95-й и 99-й перцентилей количества заказов на пользователя. Выбор границы для определения аномальных пользователей\n",
    "\n",
    "Рассчитаем 95-й и 99-й перцентили количества заказов на пользователя."
   ]
  },
  {
   "cell_type": "code",
   "execution_count": 21,
   "metadata": {},
   "outputs": [
    {
     "name": "stdout",
     "output_type": "stream",
     "text": [
      "[2. 4.]\n"
     ]
    }
   ],
   "source": [
    "print(np.percentile(orders_by_users['orders'], [95, 99]))"
   ]
  },
  {
   "cell_type": "markdown",
   "metadata": {},
   "source": [
    "**Выводы**\n",
    "* Не более 5% пользователей оформляли больше чем 2 заказа;\n",
    "* 1% пользователей заказывали более 4 раз;\n",
    "* Разумно выбрать 4 заказа на одного пользователя за нижнюю границу числа заказов, и отсеять аномальных пользователей по ней."
   ]
  },
  {
   "cell_type": "markdown",
   "metadata": {},
   "source": [
    "### Точечный график стоимостей заказов\n",
    "\n",
    "Для начала посмотрим на топ-10 самых дорогих заказов по стоимости."
   ]
  },
  {
   "cell_type": "code",
   "execution_count": 22,
   "metadata": {},
   "outputs": [
    {
     "data": {
      "text/html": [
       "<div>\n",
       "<style scoped>\n",
       "    .dataframe tbody tr th:only-of-type {\n",
       "        vertical-align: middle;\n",
       "    }\n",
       "\n",
       "    .dataframe tbody tr th {\n",
       "        vertical-align: top;\n",
       "    }\n",
       "\n",
       "    .dataframe thead th {\n",
       "        text-align: right;\n",
       "    }\n",
       "</style>\n",
       "<table border=\"1\" class=\"dataframe\">\n",
       "  <thead>\n",
       "    <tr style=\"text-align: right;\">\n",
       "      <th></th>\n",
       "      <th>transaction_id</th>\n",
       "      <th>visitor_id</th>\n",
       "      <th>date</th>\n",
       "      <th>revenue</th>\n",
       "      <th>group</th>\n",
       "    </tr>\n",
       "  </thead>\n",
       "  <tbody>\n",
       "    <tr>\n",
       "      <th>425</th>\n",
       "      <td>590470918</td>\n",
       "      <td>1920142716</td>\n",
       "      <td>2019-08-19</td>\n",
       "      <td>1294500</td>\n",
       "      <td>B</td>\n",
       "    </tr>\n",
       "    <tr>\n",
       "      <th>1196</th>\n",
       "      <td>3936777065</td>\n",
       "      <td>2108080724</td>\n",
       "      <td>2019-08-15</td>\n",
       "      <td>202740</td>\n",
       "      <td>B</td>\n",
       "    </tr>\n",
       "    <tr>\n",
       "      <th>858</th>\n",
       "      <td>192721366</td>\n",
       "      <td>1316129916</td>\n",
       "      <td>2019-08-27</td>\n",
       "      <td>93940</td>\n",
       "      <td>A</td>\n",
       "    </tr>\n",
       "    <tr>\n",
       "      <th>1136</th>\n",
       "      <td>666610489</td>\n",
       "      <td>1307669133</td>\n",
       "      <td>2019-08-13</td>\n",
       "      <td>92550</td>\n",
       "      <td>A</td>\n",
       "    </tr>\n",
       "    <tr>\n",
       "      <th>744</th>\n",
       "      <td>3668308183</td>\n",
       "      <td>888512513</td>\n",
       "      <td>2019-08-27</td>\n",
       "      <td>86620</td>\n",
       "      <td>B</td>\n",
       "    </tr>\n",
       "    <tr>\n",
       "      <th>682</th>\n",
       "      <td>1216533772</td>\n",
       "      <td>4266935830</td>\n",
       "      <td>2019-08-29</td>\n",
       "      <td>78990</td>\n",
       "      <td>B</td>\n",
       "    </tr>\n",
       "    <tr>\n",
       "      <th>662</th>\n",
       "      <td>1811671147</td>\n",
       "      <td>4266935830</td>\n",
       "      <td>2019-08-29</td>\n",
       "      <td>78990</td>\n",
       "      <td>A</td>\n",
       "    </tr>\n",
       "    <tr>\n",
       "      <th>743</th>\n",
       "      <td>3603576309</td>\n",
       "      <td>4133034833</td>\n",
       "      <td>2019-08-09</td>\n",
       "      <td>67990</td>\n",
       "      <td>A</td>\n",
       "    </tr>\n",
       "    <tr>\n",
       "      <th>1103</th>\n",
       "      <td>1348774318</td>\n",
       "      <td>1164614297</td>\n",
       "      <td>2019-08-12</td>\n",
       "      <td>66350</td>\n",
       "      <td>A</td>\n",
       "    </tr>\n",
       "    <tr>\n",
       "      <th>1099</th>\n",
       "      <td>316924019</td>\n",
       "      <td>148427295</td>\n",
       "      <td>2019-08-12</td>\n",
       "      <td>65710</td>\n",
       "      <td>A</td>\n",
       "    </tr>\n",
       "  </tbody>\n",
       "</table>\n",
       "</div>"
      ],
      "text/plain": [
       "      transaction_id  visitor_id       date  revenue group\n",
       "425        590470918  1920142716 2019-08-19  1294500     B\n",
       "1196      3936777065  2108080724 2019-08-15   202740     B\n",
       "858        192721366  1316129916 2019-08-27    93940     A\n",
       "1136       666610489  1307669133 2019-08-13    92550     A\n",
       "744       3668308183   888512513 2019-08-27    86620     B\n",
       "682       1216533772  4266935830 2019-08-29    78990     B\n",
       "662       1811671147  4266935830 2019-08-29    78990     A\n",
       "743       3603576309  4133034833 2019-08-09    67990     A\n",
       "1103      1348774318  1164614297 2019-08-12    66350     A\n",
       "1099       316924019   148427295 2019-08-12    65710     A"
      ]
     },
     "metadata": {},
     "output_type": "display_data"
    }
   ],
   "source": [
    "display(orders.sort_values(by='revenue', ascending=False).head(10))"
   ]
  },
  {
   "cell_type": "markdown",
   "metadata": {},
   "source": [
    "Мы определили, что несколько пользователей совершили заказы на большие суммы.\n",
    "\n",
    "Построим гистрограмму распределения стоимостей заказов."
   ]
  },
  {
   "cell_type": "code",
   "execution_count": 23,
   "metadata": {},
   "outputs": [
    {
     "data": {
      "image/png": "[encoded data removed]",
      "text/plain": [
       "<Figure size 720x360 with 1 Axes>"
      ]
     },
     "metadata": {
      "needs_background": "light"
     },
     "output_type": "display_data"
    }
   ],
   "source": [
    "plt.figure(figsize=(10, 5))\n",
    "plt.hist(orders['revenue'], bins=100) \n",
    "plt.title('Гистрограмма распределения стоимостей заказов', fontsize=14)\n",
    "plt.ylabel('Количество заказов', fontsize=12)\n",
    "plt.show()"
   ]
  },
  {
   "cell_type": "markdown",
   "metadata": {},
   "source": [
    "По такой гистограмме нельзя сделать выводы, поэтому построим точечный график распределения стоимостей заказов."
   ]
  },
  {
   "cell_type": "code",
   "execution_count": 24,
   "metadata": {},
   "outputs": [
    {
     "data": {
      "image/png": "[encoded data removed]",
      "text/plain": [
       "<Figure size 720x360 with 1 Axes>"
      ]
     },
     "metadata": {
      "needs_background": "light"
     },
     "output_type": "display_data"
    }
   ],
   "source": [
    "x_values = pd.Series(range(0,len(orders['revenue'])))\n",
    "plt.figure(figsize=(10, 5))\n",
    "plt.scatter(x_values, orders['revenue'], alpha=0.3)\n",
    "plt.title('Точечный график распределения стоимостей заказов', fontsize=14)\n",
    "plt.ylabel('Стоимость заказа, ₽', fontsize=12)\n",
    "plt.show()"
   ]
  },
  {
   "cell_type": "markdown",
   "metadata": {},
   "source": [
    "Для более детального анализа построим точечный график с измененным масштабом. "
   ]
  },
  {
   "cell_type": "code",
   "execution_count": 25,
   "metadata": {},
   "outputs": [
    {
     "data": {
      "image/png": "[encoded data removed]",
      "text/plain": [
       "<Figure size 720x360 with 1 Axes>"
      ]
     },
     "metadata": {
      "needs_background": "light"
     },
     "output_type": "display_data"
    }
   ],
   "source": [
    "plt.figure(figsize=(10, 5))\n",
    "plt.scatter(x_values, orders['revenue'], alpha=0.3)\n",
    "plt.ylim(0, 205000)\n",
    "plt.title('Точечный график распределения стоимостей заказов', fontsize=14)\n",
    "plt.ylabel('Стоимость заказа, ₽', fontsize=12)\n",
    "plt.show()"
   ]
  },
  {
   "cell_type": "markdown",
   "metadata": {},
   "source": [
    "**По графикам можно сделать такие выводы:**\n",
    "- Есть некоторое количество дорогих заказов. По графику можно выбрать границу аномальных заказов между 25 000 и 60 000 рублями. Их точная доля не ясна — непонятно, считать их аномалиями или нет."
   ]
  },
  {
   "cell_type": "markdown",
   "metadata": {},
   "source": [
    "### Расчет 95-й и 99-й перцентилей стоимости заказов. Выбор границы для определения аномальных пользователей\n",
    "\n",
    "Рассчитаем 95-й и 99-й перцентили стоимости заказов."
   ]
  },
  {
   "cell_type": "code",
   "execution_count": 26,
   "metadata": {},
   "outputs": [
    {
     "name": "stdout",
     "output_type": "stream",
     "text": [
      "[28000.  58233.2]\n"
     ]
    }
   ],
   "source": [
    "print(np.percentile(orders['revenue'], [95, 99])) "
   ]
  },
  {
   "cell_type": "markdown",
   "metadata": {},
   "source": [
    "**Выводы**\n",
    "* Не более 5% заказов имеют стоимость больше чем 28 000 рублей;\n",
    "* 1% заказов стоит более 58 233.2 рублей;\n",
    "* Разумно выбрать 28 000 рублей за нижнюю границу стоимости заказов, и отсеять аномальные заказы по ней."
   ]
  },
  {
   "cell_type": "markdown",
   "metadata": {},
   "source": [
    "### Расчет статистической значимости различий в конверсии между группами по «сырым» данным\n",
    "\n",
    "Сформулируем гипотезы:\n",
    "   * H₀ - различий в конверсии между группами нет;\n",
    "   * H₁ - различия в конверсии между группами есть.\n",
    "   \n",
    "Для расчета статистической значимости различий в конверсии между группами нам необходимо подготовить имеющиеся данные. Сформируем новый датафрейм `data` со следующими столбцами:\n",
    "\n",
    "- `date` - дата;\n",
    "- `orders_per_date_a` - количество заказов в выбранную дату в группе A;\n",
    "- `revenue_per_date_a` - суммарная выручка в выбранную дату в группе A;\n",
    "- `orders_per_date_b` - количество заказов в выбранную дату в группе B;\n",
    "- `revenue_per_date_b` - суммарная выручка в выбранную дату в группе B;\n",
    "- `orders_cummulative_a` - суммарное число заказов до выбранной даты включительно в группе A;\n",
    "- `revenue_cummulative_a` -  суммарная выручка до выбранной даты включительно в группе A;\n",
    "- `orders_cummulative_b` - суммарное число заказов до выбранной даты включительно в группе B;\n",
    "- `revenue_cummulative_b` -  суммарная выручка до выбранной даты включительно в группе B;\n",
    "- `visitors_per_date_a` - количество пользователей в выбранную дату в группе A;\n",
    "- `visitors_cummulative_a` -  количество пользователей до выбранной даты включительно в группе A;\n",
    "- `visitors_per_date_b` - количество пользователей в выбранную дату в группе B;\n",
    "- `visitors_cummulative_b` -  количество пользователей до выбранной даты включительно в группе B."
   ]
  },
  {
   "cell_type": "code",
   "execution_count": 27,
   "metadata": {},
   "outputs": [
    {
     "data": {
      "text/html": [
       "<div>\n",
       "<style scoped>\n",
       "    .dataframe tbody tr th:only-of-type {\n",
       "        vertical-align: middle;\n",
       "    }\n",
       "\n",
       "    .dataframe tbody tr th {\n",
       "        vertical-align: top;\n",
       "    }\n",
       "\n",
       "    .dataframe thead th {\n",
       "        text-align: right;\n",
       "    }\n",
       "</style>\n",
       "<table border=\"1\" class=\"dataframe\">\n",
       "  <thead>\n",
       "    <tr style=\"text-align: right;\">\n",
       "      <th></th>\n",
       "      <th>date</th>\n",
       "      <th>orders_per_date_a</th>\n",
       "      <th>revenue_per_date_a</th>\n",
       "      <th>orders_per_date_b</th>\n",
       "      <th>revenue_per_date_b</th>\n",
       "      <th>orders_cummulative_a</th>\n",
       "      <th>revenue_cummulative_a</th>\n",
       "      <th>orders_cummulative_b</th>\n",
       "      <th>revenue_cummulative_b</th>\n",
       "      <th>visitors_per_date_a</th>\n",
       "      <th>visitors_per_date_b</th>\n",
       "      <th>visitors_cummulative_a</th>\n",
       "      <th>visitors_cummulative_b</th>\n",
       "    </tr>\n",
       "  </thead>\n",
       "  <tbody>\n",
       "    <tr>\n",
       "      <th>0</th>\n",
       "      <td>2019-08-01</td>\n",
       "      <td>24</td>\n",
       "      <td>148579</td>\n",
       "      <td>21</td>\n",
       "      <td>101217</td>\n",
       "      <td>24</td>\n",
       "      <td>148579</td>\n",
       "      <td>21</td>\n",
       "      <td>101217</td>\n",
       "      <td>719</td>\n",
       "      <td>713</td>\n",
       "      <td>719</td>\n",
       "      <td>713</td>\n",
       "    </tr>\n",
       "    <tr>\n",
       "      <th>1</th>\n",
       "      <td>2019-08-02</td>\n",
       "      <td>20</td>\n",
       "      <td>93822</td>\n",
       "      <td>24</td>\n",
       "      <td>165531</td>\n",
       "      <td>44</td>\n",
       "      <td>242401</td>\n",
       "      <td>45</td>\n",
       "      <td>266748</td>\n",
       "      <td>619</td>\n",
       "      <td>581</td>\n",
       "      <td>1338</td>\n",
       "      <td>1294</td>\n",
       "    </tr>\n",
       "    <tr>\n",
       "      <th>2</th>\n",
       "      <td>2019-08-03</td>\n",
       "      <td>24</td>\n",
       "      <td>112473</td>\n",
       "      <td>16</td>\n",
       "      <td>114248</td>\n",
       "      <td>68</td>\n",
       "      <td>354874</td>\n",
       "      <td>61</td>\n",
       "      <td>380996</td>\n",
       "      <td>507</td>\n",
       "      <td>509</td>\n",
       "      <td>1845</td>\n",
       "      <td>1803</td>\n",
       "    </tr>\n",
       "    <tr>\n",
       "      <th>3</th>\n",
       "      <td>2019-08-04</td>\n",
       "      <td>16</td>\n",
       "      <td>70825</td>\n",
       "      <td>17</td>\n",
       "      <td>108571</td>\n",
       "      <td>84</td>\n",
       "      <td>425699</td>\n",
       "      <td>78</td>\n",
       "      <td>489567</td>\n",
       "      <td>717</td>\n",
       "      <td>770</td>\n",
       "      <td>2562</td>\n",
       "      <td>2573</td>\n",
       "    </tr>\n",
       "    <tr>\n",
       "      <th>4</th>\n",
       "      <td>2019-08-05</td>\n",
       "      <td>25</td>\n",
       "      <td>124218</td>\n",
       "      <td>23</td>\n",
       "      <td>92428</td>\n",
       "      <td>109</td>\n",
       "      <td>549917</td>\n",
       "      <td>101</td>\n",
       "      <td>581995</td>\n",
       "      <td>756</td>\n",
       "      <td>707</td>\n",
       "      <td>3318</td>\n",
       "      <td>3280</td>\n",
       "    </tr>\n",
       "  </tbody>\n",
       "</table>\n",
       "</div>"
      ],
      "text/plain": [
       "        date  orders_per_date_a  revenue_per_date_a  orders_per_date_b  \\\n",
       "0 2019-08-01                 24              148579                 21   \n",
       "1 2019-08-02                 20               93822                 24   \n",
       "2 2019-08-03                 24              112473                 16   \n",
       "3 2019-08-04                 16               70825                 17   \n",
       "4 2019-08-05                 25              124218                 23   \n",
       "\n",
       "   revenue_per_date_b  orders_cummulative_a  revenue_cummulative_a  \\\n",
       "0              101217                    24                 148579   \n",
       "1              165531                    44                 242401   \n",
       "2              114248                    68                 354874   \n",
       "3              108571                    84                 425699   \n",
       "4               92428                   109                 549917   \n",
       "\n",
       "   orders_cummulative_b  revenue_cummulative_b  visitors_per_date_a  \\\n",
       "0                    21                 101217                  719   \n",
       "1                    45                 266748                  619   \n",
       "2                    61                 380996                  507   \n",
       "3                    78                 489567                  717   \n",
       "4                   101                 581995                  756   \n",
       "\n",
       "   visitors_per_date_b  visitors_cummulative_a  visitors_cummulative_b  \n",
       "0                  713                     719                     713  \n",
       "1                  581                    1338                    1294  \n",
       "2                  509                    1845                    1803  \n",
       "3                  770                    2562                    2573  \n",
       "4                  707                    3318                    3280  "
      ]
     },
     "metadata": {},
     "output_type": "display_data"
    }
   ],
   "source": [
    "# расчет количества пользователей в выбранную дату в группе А\n",
    "visitors_a_daily = visitors[visitors['group'] == 'A'][['date', 'visitors']]\n",
    "visitors_a_daily.columns = ['date', 'visitors_per_date_a']\n",
    "\n",
    "# расчет количества пользователей до выбранной даты включительно в группе А\n",
    "visitors_a_cummulative = visitors_a_daily.apply(\n",
    "    lambda x: visitors_a_daily[visitors_a_daily['date'] <= x['date']].agg(\n",
    "        {'date': 'max', 'visitors_per_date_a': 'sum'}\n",
    "    ),\n",
    "    axis=1,\n",
    ")\n",
    "visitors_a_cummulative.columns = ['date', 'visitors_cummulative_a']\n",
    "\n",
    "# расчет количества пользователей в выбранную дату в группе В\n",
    "visitors_b_daily = visitors[visitors['group'] == 'B'][['date', 'visitors']]\n",
    "visitors_b_daily.columns = ['date', 'visitors_per_date_b']\n",
    "\n",
    "# расчет количества пользователей до выбранной даты включительно в группе В\n",
    "visitors_b_cummulative = visitors_b_daily.apply(\n",
    "    lambda x: visitors_b_daily[visitors_b_daily['date'] <= x['date']].agg(\n",
    "        {'date': 'max', 'visitors_per_date_b': 'sum'}\n",
    "    ),\n",
    "    axis=1,\n",
    ")\n",
    "visitors_b_cummulative.columns = ['date', 'visitors_cummulative_b']\n",
    "\n",
    "# расчет количества заказов и суммарной выручки в выбранную дату в группе A\n",
    "orders_a_daily = (\n",
    "    orders[orders['group'] == 'A'][['date', 'transaction_id', 'visitor_id', 'revenue']]\n",
    "    .groupby('date', as_index=False)\n",
    "    .agg({'transaction_id': pd.Series.nunique, 'revenue': 'sum'})\n",
    ")\n",
    "orders_a_daily.columns = ['date', 'orders_per_date_a', 'revenue_per_date_a']\n",
    "\n",
    "# расчет суммарного числа заказов до выбранной даты включительно в группе A\n",
    "orders_a_cummulative = orders_a_daily.apply(\n",
    "    lambda x: orders_a_daily[orders_a_daily['date'] <= x['date']].agg(\n",
    "        {'date': 'max', 'orders_per_date_a': 'sum', 'revenue_per_date_a': 'sum'}\n",
    "    ),\n",
    "    axis=1,\n",
    ").sort_values(by=['date'])\n",
    "orders_a_cummulative.columns = [\n",
    "    'date',\n",
    "    'orders_cummulative_a',\n",
    "    'revenue_cummulative_a',\n",
    "]\n",
    "\n",
    "# расчет количества заказов и суммарной выручки в выбранную дату в группе В\n",
    "orders_b_daily = (\n",
    "    orders[orders['group'] == 'B'][['date', 'transaction_id', 'visitor_id', 'revenue']]\n",
    "    .groupby('date', as_index=False)\n",
    "    .agg({'transaction_id': pd.Series.nunique, 'revenue': 'sum'})\n",
    ")\n",
    "orders_b_daily.columns = ['date', 'orders_per_date_b', 'revenue_per_date_b']\n",
    "\n",
    "# расчет суммарного числа заказов до выбранной даты включительно в группе В\n",
    "orders_b_cummulative = orders_b_daily.apply(\n",
    "    lambda x: orders_b_daily[orders_b_daily['date'] <= x['date']].agg(\n",
    "        {'date': 'max', 'orders_per_date_b': 'sum', 'revenue_per_date_b': 'sum'}\n",
    "    ),\n",
    "    axis=1,\n",
    ").sort_values(by=['date'])\n",
    "orders_b_cummulative.columns = [\n",
    "    'date',\n",
    "    'orders_cummulative_b',\n",
    "    'revenue_cummulative_b',\n",
    "]\n",
    "\n",
    "# объединение датафреймов в один общий\n",
    "data = (\n",
    "    orders_a_daily.merge(\n",
    "        orders_b_daily, left_on='date', right_on='date', how='left'\n",
    "    )\n",
    "    .merge(orders_a_cummulative, left_on='date', right_on='date', how='left')\n",
    "    .merge(orders_b_cummulative, left_on='date', right_on='date', how='left')\n",
    "    .merge(visitors_a_daily, left_on='date', right_on='date', how='left')\n",
    "    .merge(visitors_b_daily, left_on='date', right_on='date', how='left')\n",
    "    .merge(visitors_a_cummulative, left_on='date', right_on='date', how='left')\n",
    "    .merge(visitors_b_cummulative, left_on='date', right_on='date', how='left')\n",
    ")\n",
    "\n",
    "display(data.head())"
   ]
  },
  {
   "cell_type": "markdown",
   "metadata": {},
   "source": [
    "Создадим переменные `orders_by_users_a` и `orders_by_users_b` со столбцами `['visitor_id', 'orders']`. В них для пользователей, которые заказывали хотя бы 1 раз, укажем число совершённых заказов. Объявим переменные `sample_a` и `sample_b`, в которых пользователям с заказами будет соответствовать число заказов пользователя, а пользователям без заказов — нули. Посчитаем статистическую значимость различия конверсии по результатам месяца теста. Применим тест Манна-Уитни. Выведем p-value для сравнения конверсии между группами. Вычислим и выведем относительное различие в конверсии между группами."
   ]
  },
  {
   "cell_type": "code",
   "execution_count": 28,
   "metadata": {},
   "outputs": [
    {
     "name": "stdout",
     "output_type": "stream",
     "text": [
      "p-value = 0.017\n",
      "Относительное различие в средней конверсии между группами по «сырым» данным: 0.138\n"
     ]
    }
   ],
   "source": [
    "# формирование датафреймов в которых указано число совершённых заказов\n",
    "# для пользователей, которые заказывали хотя бы 1 раз\n",
    "orders_by_users_a = (\n",
    "    orders[orders['group'] == 'A']\n",
    "    .groupby('visitor_id', as_index=False)\n",
    "    .agg({'transaction_id': pd.Series.nunique})\n",
    ")\n",
    "orders_by_users_a.columns = ['visitor_id', 'orders']\n",
    "\n",
    "orders_by_users_b = (\n",
    "    orders[orders['group'] == 'B']\n",
    "    .groupby('visitor_id', as_index=False)\n",
    "    .agg({'transaction_id': pd.Series.nunique})\n",
    ")\n",
    "orders_by_users_b.columns = ['visitor_id', 'orders']\n",
    "\n",
    "# формирование переменных в которых пользователям с заказами\n",
    "# будет соответствовать число заказов пользователя,\n",
    "# а пользователям без заказов — нули\n",
    "sample_a = pd.concat([orders_by_users_a['orders'],\n",
    "                      pd.Series(0, index=np.arange(\n",
    "                          data['visitors_per_date_a'].sum() -\n",
    "                          len(orders_by_users_a['orders'])), name='orders')], axis=0)\n",
    "\n",
    "sample_b = pd.concat([orders_by_users_b['orders'],\n",
    "                      pd.Series(0, index=np.arange(\n",
    "                          data['visitors_per_date_b'].sum() -\n",
    "                          len(orders_by_users_b['orders'])), name='orders')], axis=0)\n",
    "\n",
    "# рассчет статистической значимости различия конверсии по результатам теста Манна-Уитни\n",
    "print('p-value =', '{0:.3f}'.format(stats.mannwhitneyu(sample_a, sample_b)[1]))\n",
    "\n",
    "# рассчет относительного различия в конверсии между группами\n",
    "print('Относительное различие в средней конверсии между группами по «сырым» данным:',\n",
    "      '{0:.3f}'.format(sample_b.mean() / sample_a.mean() - 1))"
   ]
  },
  {
   "cell_type": "markdown",
   "metadata": {},
   "source": [
    "**Выводы**\n",
    "* p-value = 0.017, что меньше 0.05. Это означает, что нулевую гипотезу об отсутствии различий по «сырым» данным в конверсии между группами можно отвергнуть. \n",
    "* Средняя конверсия группы В больше средней конверсии группы А."
   ]
  },
  {
   "cell_type": "markdown",
   "metadata": {},
   "source": [
    "### Расчет статистической значимости различий в среднем чеке заказа между группами по «сырым» данным\n",
    "\n",
    "Сформулируем гипотезы:\n",
    "   * H₀ - различий в среднем чеке между группами нет;\n",
    "   * H₁ - различия в среднем чеке между группами есть.\n",
    "   \n",
    "Чтобы рассчитать статистическую значимость различий в среднем чеке, передадим критерию `mannwhitneyu()` данные о выручке с заказов. А ещё найдём относительные различия в среднем чеке между группами."
   ]
  },
  {
   "cell_type": "code",
   "execution_count": 29,
   "metadata": {},
   "outputs": [
    {
     "name": "stdout",
     "output_type": "stream",
     "text": [
      "p-value = 0.729\n",
      "Относительное различие в среднем чеке между группами по «сырым» данным: 0.259\n"
     ]
    }
   ],
   "source": [
    "# рассчет статистической значимости различия среднего чека по результатам теста Манна-Уитни\n",
    "print('p-value =', '{0:.3f}'.format(stats.mannwhitneyu(\n",
    "    orders[orders['group']=='A']['revenue'],\n",
    "    orders[orders['group']=='B']['revenue'])[1]))\n",
    "\n",
    "# рассчет относительного различия в среднем чеке между группами\n",
    "print('Относительное различие в среднем чеке между группами по «сырым» данным:',\n",
    "      '{0:.3f}'.format(\n",
    "          orders[orders['group']=='B']['revenue'].mean()/\n",
    "          orders[orders['group']=='A']['revenue'].mean()-1)) "
   ]
  },
  {
   "cell_type": "markdown",
   "metadata": {},
   "source": [
    "**Выводы**\n",
    "* p-value = 0.729, что значительно больше 0.05. Это означает, что причин отвергать нулевую гипотезу и считать, что в среднем чеке есть различия, нет. \n",
    "* Средний чек группы В сильно больше среднего чека группы А."
   ]
  },
  {
   "cell_type": "markdown",
   "metadata": {},
   "source": [
    "### Расчет статистической значимости различий в конверсии между группами по «очищенным» данным\n",
    "\n",
    "Вспомним, что найденные ранее 95-й и 99-й перцентили средних чеков равны 28 000 и 58 233.2 рублям. А 95-й и 99-й перцентили количества заказов на одного пользователя равны 2 и 4 заказам на пользователя.\n",
    "\n",
    "Примем за аномальных пользователей тех, кто совершил от 2 заказов или совершил заказ дороже 28 000 рублей и запишем это в переменных `many_orders` и `expensive_orders`. Так мы уберём 5% пользователей с наибольшим числом заказов и от 1% до 5% пользователей с дорогими заказами. Сделаем срезы пользователей с числом заказов больше 2 — `users_with_many_orders` и пользователей, совершивших заказы дороже 28 000 — `users_with_expensive_orders`. Объединим их в таблице `abnormal_users`. А также узнаем, сколько всего аномальных пользователей методом `shape()`."
   ]
  },
  {
   "cell_type": "code",
   "execution_count": 30,
   "metadata": {},
   "outputs": [
    {
     "name": "stdout",
     "output_type": "stream",
     "text": [
      "1099    148427295\n",
      "18      199603092\n",
      "928     204675465\n",
      "23      237748145\n",
      "37      249864742\n",
      "Name: visitor_id, dtype: int64\n",
      "\n",
      "\n",
      "Количество аномальных пользователей: 74\n"
     ]
    }
   ],
   "source": [
    "many_orders = np.percentile(orders_by_users['orders'], 95)\n",
    "expensive_orders = np.percentile(orders['revenue'], 95)\n",
    "users_with_many_orders = pd.concat([\n",
    "    orders_by_users_a[orders_by_users_a['orders'] > many_orders]['visitor_id'],\n",
    "    orders_by_users_b[orders_by_users_b['orders'] > many_orders]['visitor_id']], axis=0)\n",
    "users_with_expensive_orders = orders[orders['revenue'] > expensive_orders]['visitor_id']\n",
    "abnormal_users = (pd.concat([\n",
    "    users_with_many_orders,\n",
    "    users_with_expensive_orders], axis=0)\n",
    "                  .drop_duplicates()\n",
    "                  .sort_values())\n",
    "\n",
    "print(abnormal_users.head())\n",
    "print('\\n')\n",
    "print('Количество аномальных пользователей:', abnormal_users.shape[0])"
   ]
  },
  {
   "cell_type": "markdown",
   "metadata": {},
   "source": [
    "Узнаем, как действия 74 пользователей повлияли на результаты теста. Посчитаем статистическую значимость различий в конверсии между группами теста по очищенным данным. Подготовим выборки количества заказов по пользователям по группам теста и применим статистический критерий Манна-Уитни к полученным выборкам.\n",
    "\n",
    "Гипотезы:\n",
    "   * H₀ - различий в конверсии между группами нет;\n",
    "   * H₁ - различия в конверсии между группами есть."
   ]
  },
  {
   "cell_type": "code",
   "execution_count": 31,
   "metadata": {},
   "outputs": [
    {
     "name": "stdout",
     "output_type": "stream",
     "text": [
      "p-value = 0.013\n",
      "Относительное различие в средней конверсии между группами по «очищенным» данным: 0.173\n"
     ]
    }
   ],
   "source": [
    "sample_a_filtered = pd.concat([\n",
    "    orders_by_users_a[np.logical_not(\n",
    "        orders_by_users_a['visitor_id']\n",
    "        .isin(abnormal_users))]['orders'],\n",
    "    pd.Series(0, index=np.arange(data['visitors_per_date_a'].sum() -\n",
    "                                 len(orders_by_users_a['orders'])), name='orders')], axis=0)\n",
    "\n",
    "sample_b_filtered = pd.concat([\n",
    "    orders_by_users_b[np.logical_not(\n",
    "        orders_by_users_b['visitor_id']\n",
    "        .isin(abnormal_users))]['orders'],\n",
    "    pd.Series(0, index=np.arange(data['visitors_per_date_b'].sum() -\n",
    "                                 len(orders_by_users_b['orders'])), name='orders')], axis=0)\n",
    "\n",
    "# рассчет статистической значимости различия конверсии по результатам теста Манна-Уитни\n",
    "print('p-value =', '{0:.3f}'.format(stats.mannwhitneyu(sample_a_filtered, sample_b_filtered)[1]))\n",
    "\n",
    "# рассчет относительного различия в конверсии между группами\n",
    "print('Относительное различие в средней конверсии между группами по «очищенным» данным:',\n",
    "      '{0:.3f}'.format(sample_b_filtered.mean()/sample_a_filtered.mean()-1))"
   ]
  },
  {
   "cell_type": "markdown",
   "metadata": {},
   "source": [
    "**Выводы**\n",
    "* p-value = 0.013, что меньше 0.05. Это означает, что нулевую гипотезу об отсутствии различий по «очищенным» данным в конверсии между группами можно отвергнуть. По «сырым» данным p-value был равен 0.017.\n",
    "* Средняя конверсия группы В больше средней конверсии группы А. Относительное различие в конверсии между группами по «сырым» данным было равно 0.138.\n",
    "* Результаты по «очищенным» данным незначительно отличаются от результатов по «сырым» данным."
   ]
  },
  {
   "cell_type": "markdown",
   "metadata": {},
   "source": [
    "### Расчет статистической значимости различий в среднем чеке заказа между группами по «очищенным» данным\n",
    "\n",
    "Сформулируем гипотезы:\n",
    "   * H₀ - различий в среднем чеке между группами нет;\n",
    "   * H₁ - различия в среднем чеке между группами есть.\n",
    "   \n",
    "Передадим критерию `mannwhitneyu()` данные о выручке с заказов без учета аномальных пользователей и также найдём относительные различия в среднем чеке между группами."
   ]
  },
  {
   "cell_type": "code",
   "execution_count": 32,
   "metadata": {},
   "outputs": [
    {
     "name": "stdout",
     "output_type": "stream",
     "text": [
      "p-value = 0.738\n",
      "Относительное различие в среднем чеке между группами по «очищенным» данным: -0.020\n"
     ]
    }
   ],
   "source": [
    "print('p-value =',\n",
    "      '{0:.3f}'.format(stats.mannwhitneyu(\n",
    "    orders[np.logical_and(\n",
    "        orders['group'] == 'A',\n",
    "        np.logical_not(orders['visitor_id']\n",
    "                       .isin(abnormal_users)))]['revenue'], \n",
    "    orders[np.logical_and(\n",
    "        orders['group'] == 'B',\n",
    "        np.logical_not(orders['visitor_id']\n",
    "                       .isin(abnormal_users)))]['revenue'])[1]))\n",
    "\n",
    "print('Относительное различие в среднем чеке между группами по «очищенным» данным:',\n",
    "      '{0:.3f}'.format(\n",
    "    orders[np.logical_and(\n",
    "        orders['group'] == 'B',\n",
    "        np.logical_not(orders['visitor_id']\n",
    "                       .isin(abnormal_users)))]['revenue'].mean() /\n",
    "    orders[np.logical_and(\n",
    "        orders['group'] == 'A',\n",
    "        np.logical_not(orders['visitor_id']\n",
    "                       .isin(abnormal_users)))]['revenue'].mean() - 1))"
   ]
  },
  {
   "cell_type": "markdown",
   "metadata": {},
   "source": [
    "**Выводы**\n",
    "* p-value = 0.738, что значительно больше 0.05. Это означает, что причин отвергать нулевую гипотезу и считать, что в среднем чеке по «очищенным» данным есть различия, нет. По «сырым» данным p-value был равен 0.729.\n",
    "* Однако по «очищенным» данным средний чек группы А больше среднего чека группы В. По «сырым» данным было наоборот, относительное различие в среднем чеке между группами составляло 0.259."
   ]
  },
  {
   "cell_type": "markdown",
   "metadata": {},
   "source": [
    "## Общий вывод\n",
    "\n",
    "Основной задачей исследования было приоритизировать гипотезы, запустить A/B-тест и проанализировать результаты. \n",
    "\n",
    "Для проведения корректного анализа, пришлось обработать имеющиеся данные:\n",
    "\n",
    "* Заменить названия столбцов, привести их к нижнему регистру и правильному стилю;\n",
    "* Привести к правильному типу данные в столбцах, содержащих информацию о дате и времени.\n",
    "\n",
    "В ходе приоритизирования гипотез по фреймворкам ICE и RICE удалось определить наиболее важные из них:\n",
    "\n",
    "* Добавить форму подписки на все основные страницы, чтобы собрать базу клиентов для email-рассылок(гипотеза №7);\n",
    "* Добавить два новых канала привлечения трафика, что позволит привлекать на 30% больше пользователей(гипотеза №0);\n",
    "* Показать на главной странице баннеры с актуальными акциями и распродажами, чтобы увеличить конверсию(гипотеза №6).\n",
    "\n",
    "Выделим основные тезисы анализа результатов A/B-теста:\n",
    "\n",
    "* Кумулятивный средний чек группы В выше среднего чека группы А на 25.9% к концу теста;\n",
    "* Кумулятивная конверсия группы В выше конверсии группы А на 13.8% к концу теста;\n",
    "* Не более 5% от всех пользователей оформляли больше чем 2 заказа, 1% пользователей заказывали более 4 раз;\n",
    "* Не более 5% от всех заказов имеют стоимость больше чем 28 000 рублей, 1% заказов стоит более 58 233.2 рублей;\n",
    "* Статистически значимое различие по конверсии между группами присутствует и по «сырым» данным, и по данным после фильтрации аномалий. Относительное различие в средней конверсии между группами (отношение средней конверсии группы В к средней конверсии группы А): 0.138 по «сырым» данным и 0.173 по «очищенным» данным;\n",
    "* Нет статистически значимого различия по среднему чеку между группами ни по «сырым», ни по данным после фильтрации аномалий. Относительное различие в среднем чеке между группами (отношение среднего чека группы В к среднему чеку группы А): 0.259 по «сырым» данным и -0.020 по «очищенным» данным;\n",
    "* График различия конверсии между группами сообщает, что результаты группы B лучше группы A и есть значительная тенденция к улучшению.\n",
    "* График различия среднего чека говорит о том, что результаты группы B несмотря на попытки роста имеют некоторую тенденцию к снижению, сказалось в том числе влияние крупных заказов. По «очищенным» данным средний чек группы А оказался больше среднего чека группы В.\n",
    "* Исходя из обнаруженных фактов, тест следует продолжить. Несмотря на то, что конверсия сегмента B лучше сегмента A, есть основания полагать, что пристутствует тенденция к снижению среднего чека сегмента В. Необходимо её отследить, а для это потребуется больше времени. Исходя из зарождающейся тендеции роста на графике различия конверсии между группами приблизительно за две недели до окончания теста, можно назначить период продолжения тестирования в две недели."
   ]
  }
 ],
 "metadata": {
  "ExecuteTimeLog": [
   {
    "duration": 1648,
    "start_time": "2022-05-25T08:15:44.087Z"
   },
   {
    "duration": 245,
    "start_time": "2022-05-25T08:15:46.889Z"
   },
   {
    "duration": 26,
    "start_time": "2022-05-25T08:16:06.053Z"
   },
   {
    "duration": 7,
    "start_time": "2022-05-25T08:27:55.531Z"
   },
   {
    "duration": 7,
    "start_time": "2022-05-25T08:33:35.882Z"
   },
   {
    "duration": 10,
    "start_time": "2022-05-25T08:36:15.814Z"
   },
   {
    "duration": 17,
    "start_time": "2022-05-25T08:36:29.161Z"
   },
   {
    "duration": 9,
    "start_time": "2022-05-25T08:36:45.886Z"
   },
   {
    "duration": 379,
    "start_time": "2022-05-25T08:47:52.828Z"
   },
   {
    "duration": 11,
    "start_time": "2022-05-25T08:51:16.815Z"
   },
   {
    "duration": 11,
    "start_time": "2022-05-25T08:53:30.488Z"
   },
   {
    "duration": 15,
    "start_time": "2022-05-25T08:53:48.465Z"
   },
   {
    "duration": 20,
    "start_time": "2022-05-25T08:59:25.662Z"
   },
   {
    "duration": 120,
    "start_time": "2022-05-25T09:46:29.262Z"
   },
   {
    "duration": 25,
    "start_time": "2022-05-25T09:46:53.621Z"
   },
   {
    "duration": 2,
    "start_time": "2022-05-25T09:48:30.021Z"
   },
   {
    "duration": 94,
    "start_time": "2022-05-25T09:48:30.025Z"
   },
   {
    "duration": 20,
    "start_time": "2022-05-25T09:48:30.120Z"
   },
   {
    "duration": 7,
    "start_time": "2022-05-25T09:48:30.142Z"
   },
   {
    "duration": 5,
    "start_time": "2022-05-25T09:48:30.151Z"
   },
   {
    "duration": 9,
    "start_time": "2022-05-25T09:48:30.157Z"
   },
   {
    "duration": 12,
    "start_time": "2022-05-25T09:48:30.167Z"
   },
   {
    "duration": 12,
    "start_time": "2022-05-25T09:48:30.181Z"
   },
   {
    "duration": 27,
    "start_time": "2022-05-25T09:48:33.206Z"
   },
   {
    "duration": 244,
    "start_time": "2022-05-25T09:50:06.441Z"
   },
   {
    "duration": 638,
    "start_time": "2022-05-25T09:51:59.021Z"
   },
   {
    "duration": 148,
    "start_time": "2022-05-25T09:52:13.269Z"
   },
   {
    "duration": 184,
    "start_time": "2022-05-25T09:55:40.916Z"
   },
   {
    "duration": 216,
    "start_time": "2022-05-25T09:55:54.660Z"
   },
   {
    "duration": 22,
    "start_time": "2022-05-25T09:56:26.671Z"
   },
   {
    "duration": 166,
    "start_time": "2022-05-25T09:56:52.230Z"
   },
   {
    "duration": 272,
    "start_time": "2022-05-25T09:57:27.729Z"
   },
   {
    "duration": 219,
    "start_time": "2022-05-25T09:59:21.740Z"
   },
   {
    "duration": 152,
    "start_time": "2022-05-25T11:06:04.111Z"
   },
   {
    "duration": 184,
    "start_time": "2022-05-25T11:06:51.658Z"
   },
   {
    "duration": 299,
    "start_time": "2022-05-25T11:07:04.163Z"
   },
   {
    "duration": 296,
    "start_time": "2022-05-25T11:07:18.141Z"
   },
   {
    "duration": 333,
    "start_time": "2022-05-25T11:07:28.820Z"
   },
   {
    "duration": 394,
    "start_time": "2022-05-25T11:17:55.237Z"
   },
   {
    "duration": 370,
    "start_time": "2022-05-25T11:19:03.541Z"
   },
   {
    "duration": 280,
    "start_time": "2022-05-25T11:26:52.921Z"
   },
   {
    "duration": 210,
    "start_time": "2022-05-25T11:27:22.716Z"
   },
   {
    "duration": 237,
    "start_time": "2022-05-25T11:27:34.922Z"
   },
   {
    "duration": 3,
    "start_time": "2022-05-25T11:28:50.407Z"
   },
   {
    "duration": 93,
    "start_time": "2022-05-25T11:28:50.416Z"
   },
   {
    "duration": 29,
    "start_time": "2022-05-25T11:28:50.511Z"
   },
   {
    "duration": 9,
    "start_time": "2022-05-25T11:28:50.542Z"
   },
   {
    "duration": 19,
    "start_time": "2022-05-25T11:28:50.553Z"
   },
   {
    "duration": 11,
    "start_time": "2022-05-25T11:28:50.574Z"
   },
   {
    "duration": 18,
    "start_time": "2022-05-25T11:28:50.587Z"
   },
   {
    "duration": 18,
    "start_time": "2022-05-25T11:28:50.606Z"
   },
   {
    "duration": 270,
    "start_time": "2022-05-25T11:28:50.626Z"
   },
   {
    "duration": 331,
    "start_time": "2022-05-25T11:28:50.898Z"
   },
   {
    "duration": 323,
    "start_time": "2022-05-25T11:28:51.230Z"
   },
   {
    "duration": 458,
    "start_time": "2022-05-25T11:28:51.555Z"
   },
   {
    "duration": 356,
    "start_time": "2022-05-25T11:28:52.014Z"
   },
   {
    "duration": 407,
    "start_time": "2022-05-25T11:29:39.928Z"
   },
   {
    "duration": 3,
    "start_time": "2022-05-25T11:30:17.415Z"
   },
   {
    "duration": 93,
    "start_time": "2022-05-25T11:30:17.420Z"
   },
   {
    "duration": 21,
    "start_time": "2022-05-25T11:30:17.514Z"
   },
   {
    "duration": 7,
    "start_time": "2022-05-25T11:30:17.537Z"
   },
   {
    "duration": 11,
    "start_time": "2022-05-25T11:30:17.545Z"
   },
   {
    "duration": 9,
    "start_time": "2022-05-25T11:30:17.558Z"
   },
   {
    "duration": 12,
    "start_time": "2022-05-25T11:30:17.569Z"
   },
   {
    "duration": 13,
    "start_time": "2022-05-25T11:30:17.582Z"
   },
   {
    "duration": 300,
    "start_time": "2022-05-25T11:30:17.597Z"
   },
   {
    "duration": 295,
    "start_time": "2022-05-25T11:30:17.899Z"
   },
   {
    "duration": 274,
    "start_time": "2022-05-25T11:30:18.196Z"
   },
   {
    "duration": 369,
    "start_time": "2022-05-25T11:30:18.471Z"
   },
   {
    "duration": 227,
    "start_time": "2022-05-25T11:30:18.842Z"
   },
   {
    "duration": 8,
    "start_time": "2022-05-25T11:31:20.191Z"
   },
   {
    "duration": 263,
    "start_time": "2022-05-25T11:31:28.305Z"
   },
   {
    "duration": 8,
    "start_time": "2022-05-25T11:31:47.473Z"
   },
   {
    "duration": 5,
    "start_time": "2022-05-25T11:32:12.086Z"
   },
   {
    "duration": 227,
    "start_time": "2022-05-25T11:32:33.561Z"
   },
   {
    "duration": 241,
    "start_time": "2022-05-25T11:33:22.562Z"
   },
   {
    "duration": 231,
    "start_time": "2022-05-25T11:40:14.691Z"
   },
   {
    "duration": 213,
    "start_time": "2022-05-25T11:40:30.048Z"
   },
   {
    "duration": 211,
    "start_time": "2022-05-25T11:40:55.316Z"
   },
   {
    "duration": 320,
    "start_time": "2022-05-25T11:41:25.493Z"
   },
   {
    "duration": 303,
    "start_time": "2022-05-25T11:41:57.894Z"
   },
   {
    "duration": 385,
    "start_time": "2022-05-25T11:42:19.933Z"
   },
   {
    "duration": 368,
    "start_time": "2022-05-25T11:42:33.116Z"
   },
   {
    "duration": 222,
    "start_time": "2022-05-25T11:42:48.269Z"
   },
   {
    "duration": 221,
    "start_time": "2022-05-25T11:43:23.126Z"
   },
   {
    "duration": 232,
    "start_time": "2022-05-25T11:44:04.117Z"
   },
   {
    "duration": 249,
    "start_time": "2022-05-25T11:44:30.981Z"
   },
   {
    "duration": 268,
    "start_time": "2022-05-25T11:51:25.905Z"
   },
   {
    "duration": 355,
    "start_time": "2022-05-25T11:52:22.268Z"
   },
   {
    "duration": 401,
    "start_time": "2022-05-25T11:54:24.109Z"
   },
   {
    "duration": 336,
    "start_time": "2022-05-25T11:56:17.362Z"
   },
   {
    "duration": 214,
    "start_time": "2022-05-25T11:57:45.459Z"
   },
   {
    "duration": 10,
    "start_time": "2022-05-25T11:58:24.929Z"
   },
   {
    "duration": 211,
    "start_time": "2022-05-25T11:58:43.394Z"
   },
   {
    "duration": 266,
    "start_time": "2022-05-25T12:00:47.878Z"
   },
   {
    "duration": 2,
    "start_time": "2022-05-25T12:00:54.148Z"
   },
   {
    "duration": 245,
    "start_time": "2022-05-25T12:01:01.460Z"
   },
   {
    "duration": 211,
    "start_time": "2022-05-25T12:01:19.098Z"
   },
   {
    "duration": 220,
    "start_time": "2022-05-25T12:01:33.785Z"
   },
   {
    "duration": 199,
    "start_time": "2022-05-25T12:01:39.195Z"
   },
   {
    "duration": 220,
    "start_time": "2022-05-25T12:02:09.545Z"
   },
   {
    "duration": 221,
    "start_time": "2022-05-25T12:02:13.610Z"
   },
   {
    "duration": 212,
    "start_time": "2022-05-25T12:02:20.096Z"
   },
   {
    "duration": 221,
    "start_time": "2022-05-25T12:02:29.451Z"
   },
   {
    "duration": 312,
    "start_time": "2022-05-25T12:02:37.225Z"
   },
   {
    "duration": 195,
    "start_time": "2022-05-25T12:02:42.968Z"
   },
   {
    "duration": 248,
    "start_time": "2022-05-25T12:03:11.569Z"
   },
   {
    "duration": 212,
    "start_time": "2022-05-25T12:03:57.290Z"
   },
   {
    "duration": 358,
    "start_time": "2022-05-25T12:06:31.815Z"
   },
   {
    "duration": 313,
    "start_time": "2022-05-25T12:06:56.074Z"
   },
   {
    "duration": 384,
    "start_time": "2022-05-25T12:07:07.833Z"
   },
   {
    "duration": 10,
    "start_time": "2022-05-25T12:39:40.408Z"
   },
   {
    "duration": 10,
    "start_time": "2022-05-25T12:40:32.613Z"
   },
   {
    "duration": 18,
    "start_time": "2022-05-25T12:42:47.189Z"
   },
   {
    "duration": 169,
    "start_time": "2022-05-25T12:44:28.166Z"
   },
   {
    "duration": 146,
    "start_time": "2022-05-25T12:45:40.288Z"
   },
   {
    "duration": 159,
    "start_time": "2022-05-25T12:47:08.733Z"
   },
   {
    "duration": 192,
    "start_time": "2022-05-25T12:47:32.285Z"
   },
   {
    "duration": 232,
    "start_time": "2022-05-25T12:50:58.167Z"
   },
   {
    "duration": 224,
    "start_time": "2022-05-25T12:51:58.590Z"
   },
   {
    "duration": 265,
    "start_time": "2022-05-25T12:57:00.012Z"
   },
   {
    "duration": 206,
    "start_time": "2022-05-25T12:57:08.372Z"
   },
   {
    "duration": 15,
    "start_time": "2022-05-25T13:09:17.793Z"
   },
   {
    "duration": 191,
    "start_time": "2022-05-25T13:12:43.681Z"
   },
   {
    "duration": 117,
    "start_time": "2022-05-25T13:13:26.725Z"
   },
   {
    "duration": 57,
    "start_time": "2022-05-25T13:15:04.910Z"
   },
   {
    "duration": 65,
    "start_time": "2022-05-25T13:15:26.447Z"
   },
   {
    "duration": 35,
    "start_time": "2022-05-25T13:16:08.610Z"
   },
   {
    "duration": 138,
    "start_time": "2022-05-25T13:16:16.572Z"
   },
   {
    "duration": 138,
    "start_time": "2022-05-25T13:16:35.281Z"
   },
   {
    "duration": 5,
    "start_time": "2022-05-25T13:22:44.825Z"
   },
   {
    "duration": 13,
    "start_time": "2022-05-25T13:29:11.796Z"
   },
   {
    "duration": 177,
    "start_time": "2022-05-25T13:30:53.581Z"
   },
   {
    "duration": 156,
    "start_time": "2022-05-25T13:32:27.049Z"
   },
   {
    "duration": 151,
    "start_time": "2022-05-25T13:33:14.436Z"
   },
   {
    "duration": 178,
    "start_time": "2022-05-25T13:36:11.252Z"
   },
   {
    "duration": 405,
    "start_time": "2022-05-25T13:39:32.892Z"
   },
   {
    "duration": 234,
    "start_time": "2022-05-25T13:41:15.554Z"
   },
   {
    "duration": 345,
    "start_time": "2022-05-25T13:41:20.872Z"
   },
   {
    "duration": 220,
    "start_time": "2022-05-25T13:41:37.079Z"
   },
   {
    "duration": 209,
    "start_time": "2022-05-25T13:41:39.296Z"
   },
   {
    "duration": 6,
    "start_time": "2022-05-25T13:46:08.815Z"
   },
   {
    "duration": 289,
    "start_time": "2022-05-25T14:46:26.463Z"
   },
   {
    "duration": 298,
    "start_time": "2022-05-25T14:47:03.333Z"
   },
   {
    "duration": 168,
    "start_time": "2022-05-25T14:50:39.488Z"
   },
   {
    "duration": 3,
    "start_time": "2022-05-25T14:51:15.717Z"
   },
   {
    "duration": 282,
    "start_time": "2022-05-25T14:51:19.757Z"
   },
   {
    "duration": 1611,
    "start_time": "2022-05-26T06:14:55.042Z"
   },
   {
    "duration": 195,
    "start_time": "2022-05-26T06:14:56.655Z"
   },
   {
    "duration": 24,
    "start_time": "2022-05-26T06:14:56.851Z"
   },
   {
    "duration": 8,
    "start_time": "2022-05-26T06:14:56.878Z"
   },
   {
    "duration": 6,
    "start_time": "2022-05-26T06:14:56.888Z"
   },
   {
    "duration": 8,
    "start_time": "2022-05-26T06:15:01.186Z"
   },
   {
    "duration": 3,
    "start_time": "2022-05-26T06:15:09.296Z"
   },
   {
    "duration": 90,
    "start_time": "2022-05-26T06:15:09.302Z"
   },
   {
    "duration": 33,
    "start_time": "2022-05-26T06:15:09.394Z"
   },
   {
    "duration": 7,
    "start_time": "2022-05-26T06:15:09.429Z"
   },
   {
    "duration": 12,
    "start_time": "2022-05-26T06:15:09.438Z"
   },
   {
    "duration": 16,
    "start_time": "2022-05-26T06:15:09.453Z"
   },
   {
    "duration": 19,
    "start_time": "2022-05-26T06:15:09.471Z"
   },
   {
    "duration": 13,
    "start_time": "2022-05-26T06:15:09.492Z"
   },
   {
    "duration": 280,
    "start_time": "2022-05-26T06:15:09.506Z"
   },
   {
    "duration": 351,
    "start_time": "2022-05-26T06:15:09.787Z"
   },
   {
    "duration": 293,
    "start_time": "2022-05-26T06:15:10.140Z"
   },
   {
    "duration": 411,
    "start_time": "2022-05-26T06:15:10.435Z"
   },
   {
    "duration": 219,
    "start_time": "2022-05-26T06:15:10.847Z"
   },
   {
    "duration": 326,
    "start_time": "2022-05-26T06:15:11.067Z"
   },
   {
    "duration": 11,
    "start_time": "2022-05-26T06:15:11.395Z"
   },
   {
    "duration": 133,
    "start_time": "2022-05-26T06:15:11.407Z"
   },
   {
    "duration": 134,
    "start_time": "2022-05-26T06:15:11.542Z"
   },
   {
    "duration": 4,
    "start_time": "2022-05-26T06:15:11.678Z"
   },
   {
    "duration": 13,
    "start_time": "2022-05-26T06:15:11.684Z"
   },
   {
    "duration": 247,
    "start_time": "2022-05-26T06:15:11.699Z"
   },
   {
    "duration": 147,
    "start_time": "2022-05-26T06:15:11.948Z"
   },
   {
    "duration": 155,
    "start_time": "2022-05-26T06:15:12.096Z"
   },
   {
    "duration": 7,
    "start_time": "2022-05-26T06:15:12.253Z"
   },
   {
    "duration": 221,
    "start_time": "2022-05-26T06:15:12.262Z"
   },
   {
    "duration": 161,
    "start_time": "2022-05-26T06:15:12.485Z"
   },
   {
    "duration": 17,
    "start_time": "2022-05-26T06:15:12.648Z"
   },
   {
    "duration": 235,
    "start_time": "2022-05-26T06:22:40.817Z"
   },
   {
    "duration": 317,
    "start_time": "2022-05-26T06:22:51.826Z"
   },
   {
    "duration": 147,
    "start_time": "2022-05-26T06:23:19.896Z"
   },
   {
    "duration": 142,
    "start_time": "2022-05-26T06:23:25.423Z"
   },
   {
    "duration": 476,
    "start_time": "2022-05-26T06:29:19.918Z"
   },
   {
    "duration": 157,
    "start_time": "2022-05-26T06:31:09.439Z"
   },
   {
    "duration": 11,
    "start_time": "2022-05-26T06:31:18.160Z"
   },
   {
    "duration": 8,
    "start_time": "2022-05-26T06:31:34.543Z"
   },
   {
    "duration": 33,
    "start_time": "2022-05-26T06:36:35.512Z"
   },
   {
    "duration": 266,
    "start_time": "2022-05-26T06:39:00.679Z"
   },
   {
    "duration": 177,
    "start_time": "2022-05-26T06:50:09.219Z"
   },
   {
    "duration": 176,
    "start_time": "2022-05-26T06:52:10.639Z"
   },
   {
    "duration": 170,
    "start_time": "2022-05-26T06:52:43.775Z"
   },
   {
    "duration": 165,
    "start_time": "2022-05-26T06:54:40.799Z"
   },
   {
    "duration": 145,
    "start_time": "2022-05-26T06:56:01.301Z"
   },
   {
    "duration": 9,
    "start_time": "2022-05-26T06:58:28.917Z"
   },
   {
    "duration": 29,
    "start_time": "2022-05-26T06:59:25.880Z"
   },
   {
    "duration": 13,
    "start_time": "2022-05-26T07:08:34.134Z"
   },
   {
    "duration": 149,
    "start_time": "2022-05-26T07:13:21.956Z"
   },
   {
    "duration": 9,
    "start_time": "2022-05-26T07:15:15.700Z"
   },
   {
    "duration": 38,
    "start_time": "2022-05-26T07:18:02.988Z"
   },
   {
    "duration": 13,
    "start_time": "2022-05-26T07:21:38.409Z"
   },
   {
    "duration": 188,
    "start_time": "2022-05-26T09:15:41.899Z"
   },
   {
    "duration": 246,
    "start_time": "2022-05-26T09:15:47.365Z"
   },
   {
    "duration": 205,
    "start_time": "2022-05-26T09:15:51.644Z"
   },
   {
    "duration": 169,
    "start_time": "2022-05-26T09:16:01.477Z"
   },
   {
    "duration": 156,
    "start_time": "2022-05-26T09:16:05.627Z"
   },
   {
    "duration": 246,
    "start_time": "2022-05-26T09:16:12.710Z"
   },
   {
    "duration": 149,
    "start_time": "2022-05-26T09:16:17.212Z"
   },
   {
    "duration": 136,
    "start_time": "2022-05-26T09:16:22.621Z"
   },
   {
    "duration": 131,
    "start_time": "2022-05-26T09:16:39.135Z"
   },
   {
    "duration": 3,
    "start_time": "2022-05-26T09:24:38.139Z"
   },
   {
    "duration": 93,
    "start_time": "2022-05-26T09:24:38.145Z"
   },
   {
    "duration": 28,
    "start_time": "2022-05-26T09:24:38.239Z"
   },
   {
    "duration": 11,
    "start_time": "2022-05-26T09:24:38.269Z"
   },
   {
    "duration": 5,
    "start_time": "2022-05-26T09:24:38.281Z"
   },
   {
    "duration": 11,
    "start_time": "2022-05-26T09:24:38.288Z"
   },
   {
    "duration": 16,
    "start_time": "2022-05-26T09:24:38.301Z"
   },
   {
    "duration": 12,
    "start_time": "2022-05-26T09:24:38.318Z"
   },
   {
    "duration": 308,
    "start_time": "2022-05-26T09:24:38.332Z"
   },
   {
    "duration": 272,
    "start_time": "2022-05-26T09:24:38.642Z"
   },
   {
    "duration": 265,
    "start_time": "2022-05-26T09:24:38.917Z"
   },
   {
    "duration": 347,
    "start_time": "2022-05-26T09:24:39.183Z"
   },
   {
    "duration": 234,
    "start_time": "2022-05-26T09:24:39.532Z"
   },
   {
    "duration": 368,
    "start_time": "2022-05-26T09:24:39.768Z"
   },
   {
    "duration": 11,
    "start_time": "2022-05-26T09:24:40.138Z"
   },
   {
    "duration": 150,
    "start_time": "2022-05-26T09:24:40.150Z"
   },
   {
    "duration": 128,
    "start_time": "2022-05-26T09:24:40.302Z"
   },
   {
    "duration": 4,
    "start_time": "2022-05-26T09:24:40.432Z"
   },
   {
    "duration": 32,
    "start_time": "2022-05-26T09:24:40.438Z"
   },
   {
    "duration": 334,
    "start_time": "2022-05-26T09:24:40.473Z"
   },
   {
    "duration": 157,
    "start_time": "2022-05-26T09:24:40.809Z"
   },
   {
    "duration": 157,
    "start_time": "2022-05-26T09:24:40.969Z"
   },
   {
    "duration": 5,
    "start_time": "2022-05-26T09:24:41.127Z"
   },
   {
    "duration": 240,
    "start_time": "2022-05-26T09:24:41.134Z"
   },
   {
    "duration": 176,
    "start_time": "2022-05-26T09:24:41.375Z"
   },
   {
    "duration": 19,
    "start_time": "2022-05-26T09:24:41.553Z"
   },
   {
    "duration": 12,
    "start_time": "2022-05-26T09:24:41.574Z"
   },
   {
    "duration": 31,
    "start_time": "2022-05-26T09:24:41.587Z"
   },
   {
    "duration": 13,
    "start_time": "2022-05-26T09:24:41.620Z"
   },
   {
    "duration": 1926,
    "start_time": "2022-05-26T09:50:58.525Z"
   },
   {
    "duration": 197,
    "start_time": "2022-05-26T09:51:00.453Z"
   },
   {
    "duration": 30,
    "start_time": "2022-05-26T09:51:00.652Z"
   },
   {
    "duration": 42,
    "start_time": "2022-05-26T09:51:00.684Z"
   },
   {
    "duration": 12,
    "start_time": "2022-05-26T09:51:00.728Z"
   },
   {
    "duration": 39,
    "start_time": "2022-05-26T09:51:00.742Z"
   },
   {
    "duration": 42,
    "start_time": "2022-05-26T09:51:00.783Z"
   },
   {
    "duration": 23,
    "start_time": "2022-05-26T09:51:00.827Z"
   },
   {
    "duration": 321,
    "start_time": "2022-05-26T09:51:00.852Z"
   },
   {
    "duration": 555,
    "start_time": "2022-05-26T09:51:01.176Z"
   },
   {
    "duration": 673,
    "start_time": "2022-05-26T09:51:01.733Z"
   },
   {
    "duration": 775,
    "start_time": "2022-05-26T09:51:02.408Z"
   },
   {
    "duration": 513,
    "start_time": "2022-05-26T09:51:03.185Z"
   },
   {
    "duration": 462,
    "start_time": "2022-05-26T09:51:03.701Z"
   },
   {
    "duration": 15,
    "start_time": "2022-05-26T09:51:04.165Z"
   },
   {
    "duration": 147,
    "start_time": "2022-05-26T09:51:04.181Z"
   },
   {
    "duration": 146,
    "start_time": "2022-05-26T09:51:04.329Z"
   },
   {
    "duration": 5,
    "start_time": "2022-05-26T09:51:04.476Z"
   },
   {
    "duration": 33,
    "start_time": "2022-05-26T09:51:04.482Z"
   },
   {
    "duration": 266,
    "start_time": "2022-05-26T09:51:04.516Z"
   },
   {
    "duration": 154,
    "start_time": "2022-05-26T09:51:04.784Z"
   },
   {
    "duration": 177,
    "start_time": "2022-05-26T09:51:04.940Z"
   },
   {
    "duration": 6,
    "start_time": "2022-05-26T09:51:05.118Z"
   },
   {
    "duration": 274,
    "start_time": "2022-05-26T09:51:05.125Z"
   },
   {
    "duration": 185,
    "start_time": "2022-05-26T09:51:05.400Z"
   },
   {
    "duration": 11,
    "start_time": "2022-05-26T09:51:05.587Z"
   },
   {
    "duration": 30,
    "start_time": "2022-05-26T09:51:05.599Z"
   },
   {
    "duration": 53,
    "start_time": "2022-05-26T09:51:05.633Z"
   },
   {
    "duration": 32,
    "start_time": "2022-05-26T09:51:05.688Z"
   },
   {
    "duration": 1437,
    "start_time": "2022-05-26T11:24:23.021Z"
   },
   {
    "duration": 194,
    "start_time": "2022-05-26T11:24:24.460Z"
   },
   {
    "duration": 22,
    "start_time": "2022-05-26T11:24:24.656Z"
   },
   {
    "duration": 8,
    "start_time": "2022-05-26T11:24:24.680Z"
   },
   {
    "duration": 5,
    "start_time": "2022-05-26T11:24:24.689Z"
   },
   {
    "duration": 9,
    "start_time": "2022-05-26T11:24:24.696Z"
   },
   {
    "duration": 15,
    "start_time": "2022-05-26T11:24:24.706Z"
   },
   {
    "duration": 40,
    "start_time": "2022-05-26T11:24:24.723Z"
   },
   {
    "duration": 105,
    "start_time": "2022-05-26T11:24:32.660Z"
   },
   {
    "duration": 4,
    "start_time": "2022-05-26T11:25:26.536Z"
   },
   {
    "duration": 3,
    "start_time": "2022-05-26T11:25:45.089Z"
   },
   {
    "duration": 7,
    "start_time": "2022-05-26T11:29:19.312Z"
   },
   {
    "duration": 7,
    "start_time": "2022-05-26T11:29:41.514Z"
   },
   {
    "duration": 8,
    "start_time": "2022-05-26T11:29:50.813Z"
   },
   {
    "duration": 9,
    "start_time": "2022-05-26T11:39:27.955Z"
   },
   {
    "duration": 10,
    "start_time": "2022-05-26T11:39:39.041Z"
   },
   {
    "duration": 6,
    "start_time": "2022-05-26T11:51:05.531Z"
   },
   {
    "duration": 8,
    "start_time": "2022-05-26T11:51:15.424Z"
   },
   {
    "duration": 9,
    "start_time": "2022-05-26T11:51:28.328Z"
   },
   {
    "duration": 8,
    "start_time": "2022-05-26T11:51:43.646Z"
   },
   {
    "duration": 10,
    "start_time": "2022-05-26T11:52:17.728Z"
   },
   {
    "duration": 52,
    "start_time": "2022-05-26T11:52:31.977Z"
   },
   {
    "duration": 8,
    "start_time": "2022-05-26T11:54:55.912Z"
   },
   {
    "duration": 9,
    "start_time": "2022-05-26T11:57:01.680Z"
   },
   {
    "duration": 9,
    "start_time": "2022-05-26T11:59:58.625Z"
   },
   {
    "duration": 8,
    "start_time": "2022-05-26T12:00:07.547Z"
   },
   {
    "duration": 10,
    "start_time": "2022-05-26T12:00:21.386Z"
   },
   {
    "duration": 11,
    "start_time": "2022-05-26T12:01:13.195Z"
   },
   {
    "duration": 11,
    "start_time": "2022-05-26T12:01:20.947Z"
   },
   {
    "duration": 239,
    "start_time": "2022-05-26T12:04:05.653Z"
   },
   {
    "duration": 11,
    "start_time": "2022-05-26T12:04:35.121Z"
   },
   {
    "duration": 3,
    "start_time": "2022-05-26T12:26:58.594Z"
   },
   {
    "duration": 94,
    "start_time": "2022-05-26T12:26:58.607Z"
   },
   {
    "duration": 22,
    "start_time": "2022-05-26T12:26:58.703Z"
   },
   {
    "duration": 38,
    "start_time": "2022-05-26T12:26:58.726Z"
   },
   {
    "duration": 20,
    "start_time": "2022-05-26T12:26:58.766Z"
   },
   {
    "duration": 35,
    "start_time": "2022-05-26T12:26:58.787Z"
   },
   {
    "duration": 24,
    "start_time": "2022-05-26T12:26:58.823Z"
   },
   {
    "duration": 23,
    "start_time": "2022-05-26T12:26:58.849Z"
   },
   {
    "duration": 21,
    "start_time": "2022-05-26T12:26:58.873Z"
   },
   {
    "duration": 23,
    "start_time": "2022-05-26T12:26:58.896Z"
   },
   {
    "duration": 21,
    "start_time": "2022-05-26T12:26:58.921Z"
   },
   {
    "duration": 279,
    "start_time": "2022-05-26T12:26:58.944Z"
   },
   {
    "duration": 627,
    "start_time": "2022-05-26T12:26:59.224Z"
   },
   {
    "duration": 310,
    "start_time": "2022-05-26T12:26:59.852Z"
   },
   {
    "duration": 385,
    "start_time": "2022-05-26T12:27:00.163Z"
   },
   {
    "duration": 226,
    "start_time": "2022-05-26T12:27:00.550Z"
   },
   {
    "duration": 337,
    "start_time": "2022-05-26T12:27:00.778Z"
   },
   {
    "duration": 11,
    "start_time": "2022-05-26T12:27:01.117Z"
   },
   {
    "duration": 161,
    "start_time": "2022-05-26T12:27:01.129Z"
   },
   {
    "duration": 129,
    "start_time": "2022-05-26T12:27:04.080Z"
   },
   {
    "duration": 134,
    "start_time": "2022-05-26T12:27:12.382Z"
   },
   {
    "duration": 131,
    "start_time": "2022-05-26T12:27:18.991Z"
   },
   {
    "duration": 125,
    "start_time": "2022-05-26T12:28:45.605Z"
   },
   {
    "duration": 160,
    "start_time": "2022-05-26T12:29:17.854Z"
   },
   {
    "duration": 153,
    "start_time": "2022-05-26T12:29:22.323Z"
   },
   {
    "duration": 135,
    "start_time": "2022-05-26T12:29:28.078Z"
   },
   {
    "duration": 243,
    "start_time": "2022-05-26T12:29:32.976Z"
   },
   {
    "duration": 128,
    "start_time": "2022-05-26T12:29:56.540Z"
   },
   {
    "duration": 113,
    "start_time": "2022-05-26T12:30:10.883Z"
   },
   {
    "duration": 3,
    "start_time": "2022-05-26T12:30:24.979Z"
   },
   {
    "duration": 99,
    "start_time": "2022-05-26T12:30:24.987Z"
   },
   {
    "duration": 27,
    "start_time": "2022-05-26T12:30:25.088Z"
   },
   {
    "duration": 36,
    "start_time": "2022-05-26T12:30:25.117Z"
   },
   {
    "duration": 18,
    "start_time": "2022-05-26T12:30:25.155Z"
   },
   {
    "duration": 14,
    "start_time": "2022-05-26T12:30:25.176Z"
   },
   {
    "duration": 29,
    "start_time": "2022-05-26T12:30:25.192Z"
   },
   {
    "duration": 19,
    "start_time": "2022-05-26T12:30:25.223Z"
   },
   {
    "duration": 6,
    "start_time": "2022-05-26T12:30:25.245Z"
   },
   {
    "duration": 21,
    "start_time": "2022-05-26T12:30:25.253Z"
   },
   {
    "duration": 21,
    "start_time": "2022-05-26T12:30:25.276Z"
   },
   {
    "duration": 304,
    "start_time": "2022-05-26T12:30:25.300Z"
   },
   {
    "duration": 285,
    "start_time": "2022-05-26T12:30:25.606Z"
   },
   {
    "duration": 253,
    "start_time": "2022-05-26T12:30:25.893Z"
   },
   {
    "duration": 386,
    "start_time": "2022-05-26T12:30:26.150Z"
   },
   {
    "duration": 270,
    "start_time": "2022-05-26T12:30:26.538Z"
   },
   {
    "duration": 358,
    "start_time": "2022-05-26T12:30:26.810Z"
   },
   {
    "duration": 16,
    "start_time": "2022-05-26T12:30:27.171Z"
   },
   {
    "duration": 208,
    "start_time": "2022-05-26T12:30:27.189Z"
   },
   {
    "duration": 169,
    "start_time": "2022-05-26T12:30:27.400Z"
   },
   {
    "duration": 5,
    "start_time": "2022-05-26T12:30:27.570Z"
   },
   {
    "duration": 17,
    "start_time": "2022-05-26T12:30:27.577Z"
   },
   {
    "duration": 359,
    "start_time": "2022-05-26T12:30:27.596Z"
   },
   {
    "duration": 169,
    "start_time": "2022-05-26T12:30:27.957Z"
   },
   {
    "duration": 195,
    "start_time": "2022-05-26T12:30:37.188Z"
   },
   {
    "duration": 4,
    "start_time": "2022-05-26T12:33:14.700Z"
   },
   {
    "duration": 93,
    "start_time": "2022-05-26T12:33:14.708Z"
   },
   {
    "duration": 22,
    "start_time": "2022-05-26T12:33:14.803Z"
   },
   {
    "duration": 14,
    "start_time": "2022-05-26T12:33:14.827Z"
   },
   {
    "duration": 6,
    "start_time": "2022-05-26T12:33:14.843Z"
   },
   {
    "duration": 11,
    "start_time": "2022-05-26T12:33:14.851Z"
   },
   {
    "duration": 13,
    "start_time": "2022-05-26T12:33:14.863Z"
   },
   {
    "duration": 12,
    "start_time": "2022-05-26T12:33:14.877Z"
   },
   {
    "duration": 8,
    "start_time": "2022-05-26T12:33:14.891Z"
   },
   {
    "duration": 8,
    "start_time": "2022-05-26T12:33:14.900Z"
   },
   {
    "duration": 12,
    "start_time": "2022-05-26T12:33:14.909Z"
   },
   {
    "duration": 299,
    "start_time": "2022-05-26T12:33:14.922Z"
   },
   {
    "duration": 247,
    "start_time": "2022-05-26T12:33:15.222Z"
   },
   {
    "duration": 236,
    "start_time": "2022-05-26T12:33:15.471Z"
   },
   {
    "duration": 324,
    "start_time": "2022-05-26T12:33:15.710Z"
   },
   {
    "duration": 219,
    "start_time": "2022-05-26T12:33:16.036Z"
   },
   {
    "duration": 330,
    "start_time": "2022-05-26T12:33:16.259Z"
   },
   {
    "duration": 10,
    "start_time": "2022-05-26T12:33:16.591Z"
   },
   {
    "duration": 138,
    "start_time": "2022-05-26T12:33:16.602Z"
   },
   {
    "duration": 134,
    "start_time": "2022-05-26T12:33:16.742Z"
   },
   {
    "duration": 4,
    "start_time": "2022-05-26T12:33:16.877Z"
   },
   {
    "duration": 38,
    "start_time": "2022-05-26T12:33:16.883Z"
   },
   {
    "duration": 400,
    "start_time": "2022-05-26T12:33:16.922Z"
   },
   {
    "duration": 171,
    "start_time": "2022-05-26T12:33:17.324Z"
   },
   {
    "duration": 165,
    "start_time": "2022-05-26T12:33:17.496Z"
   },
   {
    "duration": 4,
    "start_time": "2022-05-26T12:33:17.663Z"
   },
   {
    "duration": 232,
    "start_time": "2022-05-26T12:33:17.669Z"
   },
   {
    "duration": 173,
    "start_time": "2022-05-26T12:33:27.308Z"
   },
   {
    "duration": 155,
    "start_time": "2022-05-26T12:33:48.060Z"
   },
   {
    "duration": 10,
    "start_time": "2022-05-26T12:34:58.903Z"
   },
   {
    "duration": 12,
    "start_time": "2022-05-26T12:36:39.513Z"
   },
   {
    "duration": 3,
    "start_time": "2022-05-26T12:36:44.285Z"
   },
   {
    "duration": 92,
    "start_time": "2022-05-26T12:36:44.292Z"
   },
   {
    "duration": 21,
    "start_time": "2022-05-26T12:36:44.386Z"
   },
   {
    "duration": 10,
    "start_time": "2022-05-26T12:36:44.409Z"
   },
   {
    "duration": 7,
    "start_time": "2022-05-26T12:36:44.421Z"
   },
   {
    "duration": 8,
    "start_time": "2022-05-26T12:36:44.430Z"
   },
   {
    "duration": 28,
    "start_time": "2022-05-26T12:36:44.439Z"
   },
   {
    "duration": 19,
    "start_time": "2022-05-26T12:36:44.468Z"
   },
   {
    "duration": 9,
    "start_time": "2022-05-26T12:36:44.489Z"
   },
   {
    "duration": 13,
    "start_time": "2022-05-26T12:36:44.499Z"
   },
   {
    "duration": 17,
    "start_time": "2022-05-26T12:36:44.513Z"
   },
   {
    "duration": 297,
    "start_time": "2022-05-26T12:36:44.532Z"
   },
   {
    "duration": 243,
    "start_time": "2022-05-26T12:36:44.831Z"
   },
   {
    "duration": 253,
    "start_time": "2022-05-26T12:36:45.076Z"
   },
   {
    "duration": 361,
    "start_time": "2022-05-26T12:36:45.333Z"
   },
   {
    "duration": 232,
    "start_time": "2022-05-26T12:36:45.696Z"
   },
   {
    "duration": 362,
    "start_time": "2022-05-26T12:36:45.930Z"
   },
   {
    "duration": 13,
    "start_time": "2022-05-26T12:36:46.294Z"
   },
   {
    "duration": 141,
    "start_time": "2022-05-26T12:36:46.309Z"
   },
   {
    "duration": 134,
    "start_time": "2022-05-26T12:36:46.452Z"
   },
   {
    "duration": 5,
    "start_time": "2022-05-26T12:36:46.588Z"
   },
   {
    "duration": 28,
    "start_time": "2022-05-26T12:36:46.594Z"
   },
   {
    "duration": 366,
    "start_time": "2022-05-26T12:36:46.623Z"
   },
   {
    "duration": 166,
    "start_time": "2022-05-26T12:36:46.990Z"
   },
   {
    "duration": 214,
    "start_time": "2022-05-26T12:36:47.159Z"
   },
   {
    "duration": 6,
    "start_time": "2022-05-26T12:36:47.375Z"
   },
   {
    "duration": 234,
    "start_time": "2022-05-26T12:36:47.384Z"
   },
   {
    "duration": 153,
    "start_time": "2022-05-26T12:36:47.619Z"
   },
   {
    "duration": 12,
    "start_time": "2022-05-26T12:36:47.774Z"
   },
   {
    "duration": 13,
    "start_time": "2022-05-26T12:36:47.788Z"
   },
   {
    "duration": 36,
    "start_time": "2022-05-26T12:36:50.712Z"
   },
   {
    "duration": 13,
    "start_time": "2022-05-26T12:37:34.610Z"
   },
   {
    "duration": 9,
    "start_time": "2022-05-26T13:08:56.623Z"
   },
   {
    "duration": 12,
    "start_time": "2022-05-26T13:09:17.399Z"
   },
   {
    "duration": 20,
    "start_time": "2022-05-26T13:09:57.855Z"
   },
   {
    "duration": 10,
    "start_time": "2022-05-26T13:10:17.919Z"
   },
   {
    "duration": 10,
    "start_time": "2022-05-26T13:11:40.417Z"
   },
   {
    "duration": 4,
    "start_time": "2022-05-26T13:13:24.570Z"
   },
   {
    "duration": 87,
    "start_time": "2022-05-26T13:13:24.576Z"
   },
   {
    "duration": 22,
    "start_time": "2022-05-26T13:13:24.664Z"
   },
   {
    "duration": 10,
    "start_time": "2022-05-26T13:13:24.688Z"
   },
   {
    "duration": 11,
    "start_time": "2022-05-26T13:13:24.700Z"
   },
   {
    "duration": 8,
    "start_time": "2022-05-26T13:13:24.713Z"
   },
   {
    "duration": 37,
    "start_time": "2022-05-26T13:13:24.723Z"
   },
   {
    "duration": 14,
    "start_time": "2022-05-26T13:13:24.761Z"
   },
   {
    "duration": 22,
    "start_time": "2022-05-26T13:13:24.777Z"
   },
   {
    "duration": 9,
    "start_time": "2022-05-26T13:13:24.801Z"
   },
   {
    "duration": 13,
    "start_time": "2022-05-26T13:13:24.812Z"
   },
   {
    "duration": 288,
    "start_time": "2022-05-26T13:13:24.827Z"
   },
   {
    "duration": 263,
    "start_time": "2022-05-26T13:13:25.116Z"
   },
   {
    "duration": 240,
    "start_time": "2022-05-26T13:13:25.380Z"
   },
   {
    "duration": 372,
    "start_time": "2022-05-26T13:13:25.623Z"
   },
   {
    "duration": 229,
    "start_time": "2022-05-26T13:13:25.997Z"
   },
   {
    "duration": 385,
    "start_time": "2022-05-26T13:13:26.228Z"
   },
   {
    "duration": 11,
    "start_time": "2022-05-26T13:13:26.615Z"
   },
   {
    "duration": 159,
    "start_time": "2022-05-26T13:13:26.628Z"
   },
   {
    "duration": 133,
    "start_time": "2022-05-26T13:13:26.789Z"
   },
   {
    "duration": 4,
    "start_time": "2022-05-26T13:13:26.924Z"
   },
   {
    "duration": 15,
    "start_time": "2022-05-26T13:13:26.929Z"
   },
   {
    "duration": 424,
    "start_time": "2022-05-26T13:13:26.945Z"
   },
   {
    "duration": 149,
    "start_time": "2022-05-26T13:13:27.371Z"
   },
   {
    "duration": 168,
    "start_time": "2022-05-26T13:13:27.522Z"
   },
   {
    "duration": 5,
    "start_time": "2022-05-26T13:13:27.692Z"
   },
   {
    "duration": 227,
    "start_time": "2022-05-26T13:13:27.698Z"
   },
   {
    "duration": 175,
    "start_time": "2022-05-26T13:13:27.928Z"
   },
   {
    "duration": 12,
    "start_time": "2022-05-26T13:13:28.105Z"
   },
   {
    "duration": 13,
    "start_time": "2022-05-26T13:13:28.119Z"
   },
   {
    "duration": 49,
    "start_time": "2022-05-26T13:13:28.134Z"
   },
   {
    "duration": 13,
    "start_time": "2022-05-26T13:13:28.185Z"
   },
   {
    "duration": 177,
    "start_time": "2022-05-26T13:14:11.289Z"
   },
   {
    "duration": 10,
    "start_time": "2022-05-26T13:14:46.165Z"
   },
   {
    "duration": 31,
    "start_time": "2022-05-26T13:15:05.603Z"
   },
   {
    "duration": 13,
    "start_time": "2022-05-26T13:15:18.299Z"
   },
   {
    "duration": 1440,
    "start_time": "2022-05-26T14:14:37.883Z"
   },
   {
    "duration": 216,
    "start_time": "2022-05-26T14:14:39.325Z"
   },
   {
    "duration": 26,
    "start_time": "2022-05-26T14:14:39.543Z"
   },
   {
    "duration": 13,
    "start_time": "2022-05-26T14:14:39.572Z"
   },
   {
    "duration": 7,
    "start_time": "2022-05-26T14:14:39.586Z"
   },
   {
    "duration": 20,
    "start_time": "2022-05-26T14:14:39.597Z"
   },
   {
    "duration": 17,
    "start_time": "2022-05-26T14:14:39.620Z"
   },
   {
    "duration": 33,
    "start_time": "2022-05-26T14:14:39.639Z"
   },
   {
    "duration": 7,
    "start_time": "2022-05-26T14:14:39.676Z"
   },
   {
    "duration": 15,
    "start_time": "2022-05-26T14:14:39.687Z"
   },
   {
    "duration": 15,
    "start_time": "2022-05-26T14:14:39.703Z"
   },
   {
    "duration": 363,
    "start_time": "2022-05-26T14:14:39.720Z"
   },
   {
    "duration": 415,
    "start_time": "2022-05-26T14:14:40.086Z"
   },
   {
    "duration": 342,
    "start_time": "2022-05-26T14:14:40.503Z"
   },
   {
    "duration": 448,
    "start_time": "2022-05-26T14:14:40.847Z"
   },
   {
    "duration": 259,
    "start_time": "2022-05-26T14:14:41.297Z"
   },
   {
    "duration": 392,
    "start_time": "2022-05-26T14:14:41.557Z"
   },
   {
    "duration": 27,
    "start_time": "2022-05-26T14:14:41.951Z"
   },
   {
    "duration": 176,
    "start_time": "2022-05-26T14:14:41.981Z"
   },
   {
    "duration": 157,
    "start_time": "2022-05-26T14:14:42.158Z"
   },
   {
    "duration": 5,
    "start_time": "2022-05-26T14:14:42.317Z"
   },
   {
    "duration": 29,
    "start_time": "2022-05-26T14:14:42.323Z"
   },
   {
    "duration": 297,
    "start_time": "2022-05-26T14:14:42.354Z"
   },
   {
    "duration": 190,
    "start_time": "2022-05-26T14:14:42.652Z"
   },
   {
    "duration": 205,
    "start_time": "2022-05-26T14:14:42.844Z"
   },
   {
    "duration": 21,
    "start_time": "2022-05-26T14:14:43.051Z"
   },
   {
    "duration": 270,
    "start_time": "2022-05-26T14:14:43.074Z"
   },
   {
    "duration": 199,
    "start_time": "2022-05-26T14:14:43.348Z"
   },
   {
    "duration": 23,
    "start_time": "2022-05-26T14:14:43.549Z"
   },
   {
    "duration": 17,
    "start_time": "2022-05-26T14:14:43.575Z"
   },
   {
    "duration": 43,
    "start_time": "2022-05-26T14:14:43.594Z"
   },
   {
    "duration": 45,
    "start_time": "2022-05-26T14:14:43.639Z"
   }
  ],
  "kernelspec": {
   "display_name": "Python 3 (ipykernel)",
   "language": "python",
   "name": "python3"
  },
  "language_info": {
   "codemirror_mode": {
    "name": "ipython",
    "version": 3
   },
   "file_extension": ".py",
   "mimetype": "text/x-python",
   "name": "python",
   "nbconvert_exporter": "python",
   "pygments_lexer": "ipython3",
   "version": "3.9.7"
  },
  "toc": {
   "base_numbering": 1,
   "nav_menu": {},
   "number_sections": true,
   "sideBar": true,
   "skip_h1_title": true,
   "title_cell": "Table of Contents",
   "title_sidebar": "Contents",
   "toc_cell": false,
   "toc_position": {
    "height": "calc(100% - 180px)",
    "left": "10px",
    "top": "150px",
    "width": "409.391px"
   },
   "toc_section_display": true,
   "toc_window_display": true
  }
 },
 "nbformat": 4,
 "nbformat_minor": 2
}
