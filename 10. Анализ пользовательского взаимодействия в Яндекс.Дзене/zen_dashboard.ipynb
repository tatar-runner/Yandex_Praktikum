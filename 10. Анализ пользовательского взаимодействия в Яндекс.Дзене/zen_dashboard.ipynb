{
 "cells": [
  {
   "cell_type": "markdown",
   "id": "20600dfb",
   "metadata": {},
   "source": [
    "# Анализ пользовательского взаимодействия в Яндекс.Дзене\n",
    "\n",
    "Пользователи в Яндекс.Дзене взаимодействуют с карточками статей. Каждую карточку определяют её тема и источник (у него тоже есть тема). Примеры тем: «Красота и здоровье», «Россия», «Путешествия». Пользователей системы характеризует возрастная категория.\n",
    "\n",
    "Есть три способа взаимодействия пользователей с системой:\n",
    "- Карточка отображена для пользователя (`show`);\n",
    "- Пользователь кликнул на карточку (`click`);\n",
    "- Пользователь просмотрел статью карточки (`view`).\n",
    "\n",
    "Необходимо сформировать дашборд, который может ответить на следующие вопросы:\n",
    "- Сколько взаимодействий пользователей с карточками происходит в системе с разбивкой по темам карточек?\n",
    "- Как много карточек генерируют источники с разными темами?\n",
    "- Как соотносятся темы карточек и темы источников?\n",
    "\n",
    "Дашборд будет основываться на пайплайне, который будет брать данные из таблицы, в которых хранятся сырые данные, трансформировать данные и укладывать их в агрегирующую таблицу. \n",
    "\n",
    "**Дашборд**\n",
    "Ссылка на дашборд: https://public.tableau.com/app/profile/artur2305/viz/ZenDashboard_16574728938420/ZenDashboard\n",
    "\n",
    "**Презентация**\n",
    "Ссылка на презентацию: https://disk.yandex.ru/i/FYQz-ON2eZG7CA"
   ]
  }
 ],
 "metadata": {
  "kernelspec": {
   "display_name": "Python 3 (ipykernel)",
   "language": "python",
   "name": "python3"
  },
  "language_info": {
   "codemirror_mode": {
    "name": "ipython",
    "version": 3
   },
   "file_extension": ".py",
   "mimetype": "text/x-python",
   "name": "python",
   "nbconvert_exporter": "python",
   "pygments_lexer": "ipython3",
   "version": "3.9.7"
  },
  "toc": {
   "base_numbering": 1,
   "nav_menu": {},
   "number_sections": true,
   "sideBar": true,
   "skip_h1_title": true,
   "title_cell": "Table of Contents",
   "title_sidebar": "Contents",
   "toc_cell": false,
   "toc_position": {},
   "toc_section_display": true,
   "toc_window_display": true
  }
 },
 "nbformat": 4,
 "nbformat_minor": 5
}
