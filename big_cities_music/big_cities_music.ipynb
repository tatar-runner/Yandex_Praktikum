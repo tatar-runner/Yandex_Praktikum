{
 "cells": [
  {
   "cell_type": "markdown",
   "metadata": {
    "id": "E0vqbgi9ay0H"
   },
   "source": [
    "# Музыка больших городов"
   ]
  },
  {
   "cell_type": "markdown",
   "metadata": {
    "id": "VUC88oWjTJw2"
   },
   "source": [
    "На данных Яндекс.Музыки мы сравним поведение пользователей двух столиц.\n",
    "\n",
    "**Цель исследования** — проверить три гипотезы:\n",
    "1. Активность пользователей зависит от дня недели. Причём в Москве и Петербурге это проявляется по-разному.\n",
    "2. В понедельник утром в Москве преобладают одни жанры, а в Петербурге — другие. Так же и вечером пятницы преобладают разные жанры — в зависимости от города. \n",
    "3. Москва и Петербург предпочитают разные жанры музыки. В Москве чаще слушают поп-музыку, в Петербурге — русский рэп.\n",
    "\n",
    "**Ход исследования**\n",
    "\n",
    "Данные о поведении пользователей мы получим из файла `yandex_music_project.csv`. О качестве данных ничего не известно."
   ]
  },
  {
   "cell_type": "markdown",
   "metadata": {
    "id": "Ml1hmfXC_Zcs"
   },
   "source": [
    "## Обзор данных\n",
    "\n",
    "Импортируем необходимую библиотеку."
   ]
  },
  {
   "cell_type": "code",
   "execution_count": 1,
   "metadata": {
    "id": "AXN7PHPN_Zcs"
   },
   "outputs": [],
   "source": [
    "import pandas as pd # импорт библиотеки pandas"
   ]
  },
  {
   "cell_type": "markdown",
   "metadata": {
    "id": "SG23P8tt_Zcs"
   },
   "source": [
    "Прочитаем файл `yandex_music_project.csv` и сохраним его в переменной:"
   ]
  },
  {
   "cell_type": "code",
   "execution_count": 2,
   "metadata": {
    "id": "fFVu7vqh_Zct"
   },
   "outputs": [],
   "source": [
    "df = pd.read_csv('/datasets/yandex_music_project.csv') # чтение файла с данными и сохранение в df"
   ]
  },
  {
   "cell_type": "markdown",
   "metadata": {
    "id": "rDoOMd3uTqnZ"
   },
   "source": [
    "Выведем на экран первые десять строк таблицы:"
   ]
  },
  {
   "cell_type": "code",
   "execution_count": 3,
   "metadata": {
    "id": "oWTVX3gW_Zct"
   },
   "outputs": [
    {
     "data": {
      "text/html": [
       "<div>\n",
       "<style scoped>\n",
       "    .dataframe tbody tr th:only-of-type {\n",
       "        vertical-align: middle;\n",
       "    }\n",
       "\n",
       "    .dataframe tbody tr th {\n",
       "        vertical-align: top;\n",
       "    }\n",
       "\n",
       "    .dataframe thead th {\n",
       "        text-align: right;\n",
       "    }\n",
       "</style>\n",
       "<table border=\"1\" class=\"dataframe\">\n",
       "  <thead>\n",
       "    <tr style=\"text-align: right;\">\n",
       "      <th></th>\n",
       "      <th>userID</th>\n",
       "      <th>Track</th>\n",
       "      <th>artist</th>\n",
       "      <th>genre</th>\n",
       "      <th>City</th>\n",
       "      <th>time</th>\n",
       "      <th>Day</th>\n",
       "    </tr>\n",
       "  </thead>\n",
       "  <tbody>\n",
       "    <tr>\n",
       "      <td>0</td>\n",
       "      <td>FFB692EC</td>\n",
       "      <td>Kamigata To Boots</td>\n",
       "      <td>The Mass Missile</td>\n",
       "      <td>rock</td>\n",
       "      <td>Saint-Petersburg</td>\n",
       "      <td>20:28:33</td>\n",
       "      <td>Wednesday</td>\n",
       "    </tr>\n",
       "    <tr>\n",
       "      <td>1</td>\n",
       "      <td>55204538</td>\n",
       "      <td>Delayed Because of Accident</td>\n",
       "      <td>Andreas Rönnberg</td>\n",
       "      <td>rock</td>\n",
       "      <td>Moscow</td>\n",
       "      <td>14:07:09</td>\n",
       "      <td>Friday</td>\n",
       "    </tr>\n",
       "    <tr>\n",
       "      <td>2</td>\n",
       "      <td>20EC38</td>\n",
       "      <td>Funiculì funiculà</td>\n",
       "      <td>Mario Lanza</td>\n",
       "      <td>pop</td>\n",
       "      <td>Saint-Petersburg</td>\n",
       "      <td>20:58:07</td>\n",
       "      <td>Wednesday</td>\n",
       "    </tr>\n",
       "    <tr>\n",
       "      <td>3</td>\n",
       "      <td>A3DD03C9</td>\n",
       "      <td>Dragons in the Sunset</td>\n",
       "      <td>Fire + Ice</td>\n",
       "      <td>folk</td>\n",
       "      <td>Saint-Petersburg</td>\n",
       "      <td>08:37:09</td>\n",
       "      <td>Monday</td>\n",
       "    </tr>\n",
       "    <tr>\n",
       "      <td>4</td>\n",
       "      <td>E2DC1FAE</td>\n",
       "      <td>Soul People</td>\n",
       "      <td>Space Echo</td>\n",
       "      <td>dance</td>\n",
       "      <td>Moscow</td>\n",
       "      <td>08:34:34</td>\n",
       "      <td>Monday</td>\n",
       "    </tr>\n",
       "    <tr>\n",
       "      <td>5</td>\n",
       "      <td>842029A1</td>\n",
       "      <td>Преданная</td>\n",
       "      <td>IMPERVTOR</td>\n",
       "      <td>rusrap</td>\n",
       "      <td>Saint-Petersburg</td>\n",
       "      <td>13:09:41</td>\n",
       "      <td>Friday</td>\n",
       "    </tr>\n",
       "    <tr>\n",
       "      <td>6</td>\n",
       "      <td>4CB90AA5</td>\n",
       "      <td>True</td>\n",
       "      <td>Roman Messer</td>\n",
       "      <td>dance</td>\n",
       "      <td>Moscow</td>\n",
       "      <td>13:00:07</td>\n",
       "      <td>Wednesday</td>\n",
       "    </tr>\n",
       "    <tr>\n",
       "      <td>7</td>\n",
       "      <td>F03E1C1F</td>\n",
       "      <td>Feeling This Way</td>\n",
       "      <td>Polina Griffith</td>\n",
       "      <td>dance</td>\n",
       "      <td>Moscow</td>\n",
       "      <td>20:47:49</td>\n",
       "      <td>Wednesday</td>\n",
       "    </tr>\n",
       "    <tr>\n",
       "      <td>8</td>\n",
       "      <td>8FA1D3BE</td>\n",
       "      <td>И вновь продолжается бой</td>\n",
       "      <td>NaN</td>\n",
       "      <td>ruspop</td>\n",
       "      <td>Moscow</td>\n",
       "      <td>09:17:40</td>\n",
       "      <td>Friday</td>\n",
       "    </tr>\n",
       "    <tr>\n",
       "      <td>9</td>\n",
       "      <td>E772D5C0</td>\n",
       "      <td>Pessimist</td>\n",
       "      <td>NaN</td>\n",
       "      <td>dance</td>\n",
       "      <td>Saint-Petersburg</td>\n",
       "      <td>21:20:49</td>\n",
       "      <td>Wednesday</td>\n",
       "    </tr>\n",
       "  </tbody>\n",
       "</table>\n",
       "</div>"
      ],
      "text/plain": [
       "     userID                        Track            artist   genre  \\\n",
       "0  FFB692EC            Kamigata To Boots  The Mass Missile    rock   \n",
       "1  55204538  Delayed Because of Accident  Andreas Rönnberg    rock   \n",
       "2    20EC38            Funiculì funiculà       Mario Lanza     pop   \n",
       "3  A3DD03C9        Dragons in the Sunset        Fire + Ice    folk   \n",
       "4  E2DC1FAE                  Soul People        Space Echo   dance   \n",
       "5  842029A1                    Преданная         IMPERVTOR  rusrap   \n",
       "6  4CB90AA5                         True      Roman Messer   dance   \n",
       "7  F03E1C1F             Feeling This Way   Polina Griffith   dance   \n",
       "8  8FA1D3BE     И вновь продолжается бой               NaN  ruspop   \n",
       "9  E772D5C0                    Pessimist               NaN   dance   \n",
       "\n",
       "             City        time        Day  \n",
       "0  Saint-Petersburg  20:28:33  Wednesday  \n",
       "1            Moscow  14:07:09     Friday  \n",
       "2  Saint-Petersburg  20:58:07  Wednesday  \n",
       "3  Saint-Petersburg  08:37:09     Monday  \n",
       "4            Moscow  08:34:34     Monday  \n",
       "5  Saint-Petersburg  13:09:41     Friday  \n",
       "6            Moscow  13:00:07  Wednesday  \n",
       "7            Moscow  20:47:49  Wednesday  \n",
       "8            Moscow  09:17:40     Friday  \n",
       "9  Saint-Petersburg  21:20:49  Wednesday  "
      ]
     },
     "execution_count": 3,
     "metadata": {},
     "output_type": "execute_result"
    }
   ],
   "source": [
    "df.head(10) # получение первых 10 строк таблицы df"
   ]
  },
  {
   "cell_type": "markdown",
   "metadata": {},
   "source": [
    "Выведем на экран последние пять строк таблицы:"
   ]
  },
  {
   "cell_type": "code",
   "execution_count": 4,
   "metadata": {},
   "outputs": [
    {
     "data": {
      "text/html": [
       "<div>\n",
       "<style scoped>\n",
       "    .dataframe tbody tr th:only-of-type {\n",
       "        vertical-align: middle;\n",
       "    }\n",
       "\n",
       "    .dataframe tbody tr th {\n",
       "        vertical-align: top;\n",
       "    }\n",
       "\n",
       "    .dataframe thead th {\n",
       "        text-align: right;\n",
       "    }\n",
       "</style>\n",
       "<table border=\"1\" class=\"dataframe\">\n",
       "  <thead>\n",
       "    <tr style=\"text-align: right;\">\n",
       "      <th></th>\n",
       "      <th>userID</th>\n",
       "      <th>Track</th>\n",
       "      <th>artist</th>\n",
       "      <th>genre</th>\n",
       "      <th>City</th>\n",
       "      <th>time</th>\n",
       "      <th>Day</th>\n",
       "    </tr>\n",
       "  </thead>\n",
       "  <tbody>\n",
       "    <tr>\n",
       "      <td>65074</td>\n",
       "      <td>729CBB09</td>\n",
       "      <td>My Name</td>\n",
       "      <td>McLean</td>\n",
       "      <td>rnb</td>\n",
       "      <td>Moscow</td>\n",
       "      <td>13:32:28</td>\n",
       "      <td>Wednesday</td>\n",
       "    </tr>\n",
       "    <tr>\n",
       "      <td>65075</td>\n",
       "      <td>D08D4A55</td>\n",
       "      <td>Maybe One Day (feat. Black Spade)</td>\n",
       "      <td>Blu &amp; Exile</td>\n",
       "      <td>hip</td>\n",
       "      <td>Saint-Petersburg</td>\n",
       "      <td>10:00:00</td>\n",
       "      <td>Monday</td>\n",
       "    </tr>\n",
       "    <tr>\n",
       "      <td>65076</td>\n",
       "      <td>C5E3A0D5</td>\n",
       "      <td>Jalopiina</td>\n",
       "      <td>NaN</td>\n",
       "      <td>industrial</td>\n",
       "      <td>Moscow</td>\n",
       "      <td>20:09:26</td>\n",
       "      <td>Friday</td>\n",
       "    </tr>\n",
       "    <tr>\n",
       "      <td>65077</td>\n",
       "      <td>321D0506</td>\n",
       "      <td>Freight Train</td>\n",
       "      <td>Chas McDevitt</td>\n",
       "      <td>rock</td>\n",
       "      <td>Moscow</td>\n",
       "      <td>21:43:59</td>\n",
       "      <td>Friday</td>\n",
       "    </tr>\n",
       "    <tr>\n",
       "      <td>65078</td>\n",
       "      <td>3A64EF84</td>\n",
       "      <td>Tell Me Sweet Little Lies</td>\n",
       "      <td>Monica Lopez</td>\n",
       "      <td>country</td>\n",
       "      <td>Moscow</td>\n",
       "      <td>21:59:46</td>\n",
       "      <td>Friday</td>\n",
       "    </tr>\n",
       "  </tbody>\n",
       "</table>\n",
       "</div>"
      ],
      "text/plain": [
       "         userID                              Track         artist       genre  \\\n",
       "65074  729CBB09                            My Name         McLean         rnb   \n",
       "65075  D08D4A55  Maybe One Day (feat. Black Spade)    Blu & Exile         hip   \n",
       "65076  C5E3A0D5                          Jalopiina            NaN  industrial   \n",
       "65077  321D0506                      Freight Train  Chas McDevitt        rock   \n",
       "65078  3A64EF84          Tell Me Sweet Little Lies   Monica Lopez     country   \n",
       "\n",
       "                 City        time        Day  \n",
       "65074            Moscow  13:32:28  Wednesday  \n",
       "65075  Saint-Petersburg  10:00:00     Monday  \n",
       "65076            Moscow  20:09:26     Friday  \n",
       "65077            Moscow  21:43:59     Friday  \n",
       "65078            Moscow  21:59:46     Friday  "
      ]
     },
     "execution_count": 4,
     "metadata": {},
     "output_type": "execute_result"
    }
   ],
   "source": [
    "df.tail(5) # выведение последних 5 строк таблицы df"
   ]
  },
  {
   "cell_type": "markdown",
   "metadata": {
    "id": "EO73Kwic_Zct"
   },
   "source": [
    "Одной командой получим общую информацию о таблице:"
   ]
  },
  {
   "cell_type": "code",
   "execution_count": 5,
   "metadata": {
    "id": "DSf2kIb-_Zct"
   },
   "outputs": [
    {
     "name": "stdout",
     "output_type": "stream",
     "text": [
      "<class 'pandas.core.frame.DataFrame'>\n",
      "RangeIndex: 65079 entries, 0 to 65078\n",
      "Data columns (total 7 columns):\n",
      "  userID    65079 non-null object\n",
      "Track       63848 non-null object\n",
      "artist      57876 non-null object\n",
      "genre       63881 non-null object\n",
      "  City      65079 non-null object\n",
      "time        65079 non-null object\n",
      "Day         65079 non-null object\n",
      "dtypes: object(7)\n",
      "memory usage: 3.5+ MB\n"
     ]
    }
   ],
   "source": [
    "df.info() # получение общей информации о данных в таблице df"
   ]
  },
  {
   "cell_type": "markdown",
   "metadata": {
    "id": "TaQ2Iwbr_Zct"
   },
   "source": [
    "Итак, в таблице семь столбцов. Тип данных во всех столбцах — `object`.\n",
    "\n",
    "Согласно документации к данным:\n",
    "* `userID` — идентификатор пользователя;\n",
    "* `Track` — название трека;  \n",
    "* `artist` — имя исполнителя;\n",
    "* `genre` — название жанра;\n",
    "* `City` — город пользователя;\n",
    "* `time` — время начала прослушивания;\n",
    "* `Day` — день недели.\n",
    "\n",
    "В названиях колонок видны три нарушения стиля:\n",
    "1. Строчные буквы сочетаются с прописными.\n",
    "2. Встречаются пробелы.\n",
    "3. Слова написаны слитно, без использования \"змеиного регистра\".\n",
    "\n",
    "\n",
    "\n",
    "Количество значений в столбцах различается. Значит, в данных есть пропущенные значения.\n"
   ]
  },
  {
   "cell_type": "markdown",
   "metadata": {
    "id": "MCB6-dXG_Zct"
   },
   "source": [
    "**Выводы**\n",
    "\n",
    "В каждой строке таблицы — данные о прослушанном треке. Часть колонок описывает саму композицию: название, исполнителя и жанр. Остальные данные рассказывают о пользователе: из какого он города, когда он слушал музыку. \n",
    "\n",
    "Предварительно можно утверждать, что, данных достаточно для проверки гипотез. Но встречаются пропуски в данных, а в названиях колонок — расхождения с хорошим стилем.\n",
    "\n",
    "Чтобы двигаться дальше, нужно устранить проблемы в данных."
   ]
  },
  {
   "cell_type": "markdown",
   "metadata": {
    "id": "SjYF6Ub9_Zct"
   },
   "source": [
    "## Предобработка данных\n",
    "Исправим стиль в заголовках столбцов, исключим пропуски. Затем проверим данные на дубликаты."
   ]
  },
  {
   "cell_type": "markdown",
   "metadata": {
    "id": "dIaKXr29_Zct"
   },
   "source": [
    "### Стиль заголовков\n",
    "Выведем на экран названия столбцов:"
   ]
  },
  {
   "cell_type": "code",
   "execution_count": 6,
   "metadata": {
    "id": "oKOTdF_Q_Zct"
   },
   "outputs": [
    {
     "data": {
      "text/plain": [
       "Index(['  userID', 'Track', 'artist', 'genre', '  City  ', 'time', 'Day'], dtype='object')"
      ]
     },
     "execution_count": 6,
     "metadata": {},
     "output_type": "execute_result"
    }
   ],
   "source": [
    "df.columns # перечень названий столбцов таблицы df"
   ]
  },
  {
   "cell_type": "markdown",
   "metadata": {
    "id": "zj5534cv_Zct"
   },
   "source": [
    "Приведем названия в соответствие с хорошим стилем:\n",
    "* несколько слов в названии запишем в «змеином_регистре»,\n",
    "* все символы сделаем строчными,\n",
    "* устраним пробелы."
   ]
  },
  {
   "cell_type": "code",
   "execution_count": 7,
   "metadata": {
    "id": "ISlFqs5y_Zct"
   },
   "outputs": [],
   "source": [
    "df = df.rename(columns={'  userID': 'user_id', 'Track': 'track', '  City  ': 'city', 'Day': 'day'}) # переименование столбцов"
   ]
  },
  {
   "cell_type": "markdown",
   "metadata": {
    "id": "1dqbh00J_Zct"
   },
   "source": [
    "Проверим результат."
   ]
  },
  {
   "cell_type": "code",
   "execution_count": 8,
   "metadata": {
    "id": "d4NOAmTW_Zct"
   },
   "outputs": [
    {
     "data": {
      "text/plain": [
       "Index(['user_id', 'track', 'artist', 'genre', 'city', 'time', 'day'], dtype='object')"
      ]
     },
     "execution_count": 8,
     "metadata": {},
     "output_type": "execute_result"
    }
   ],
   "source": [
    "df.columns # проверка результатов - перечень названий столбцов"
   ]
  },
  {
   "cell_type": "markdown",
   "metadata": {
    "id": "5ISfbcfY_Zct"
   },
   "source": [
    "### Пропуски значений\n",
    "Сначала посчитаем, сколько в таблице пропущенных значений:"
   ]
  },
  {
   "cell_type": "code",
   "execution_count": 9,
   "metadata": {
    "id": "RskX29qr_Zct"
   },
   "outputs": [
    {
     "data": {
      "text/plain": [
       "user_id       0\n",
       "track      1231\n",
       "artist     7203\n",
       "genre      1198\n",
       "city          0\n",
       "time          0\n",
       "day           0\n",
       "dtype: int64"
      ]
     },
     "execution_count": 9,
     "metadata": {},
     "output_type": "execute_result"
    }
   ],
   "source": [
    "df.isna().sum() # подсчёт пропусков"
   ]
  },
  {
   "cell_type": "markdown",
   "metadata": {
    "id": "qubhgnlO_Zct"
   },
   "source": [
    "Не все пропущенные значения влияют на исследование. Так в `track` и `artist` пропуски не важны для вашей работы. Достаточно заменить их явными обозначениями.\n",
    "\n",
    "Но пропуски в `genre` могут помешать сравнению музыкальных вкусов в Москве и Санкт-Петербурге. На практике было бы правильно установить причину пропусков и восстановить данные. Такой возможности нет в учебном проекте. Придётся:\n",
    "* заполнить и эти пропуски явными обозначениями,\n",
    "* оценить, насколько они повредят расчётам. "
   ]
  },
  {
   "cell_type": "markdown",
   "metadata": {
    "id": "fSv2laPA_Zct"
   },
   "source": [
    "Заменим пропущенные значения в столбцах `track`, `artist` и `genre` на строку `'unknown'`. Для этого создадим список `columns_to_replace`, переберем его элементы циклом `for` и для каждого столбца выполним замену пропущенных значений:"
   ]
  },
  {
   "cell_type": "code",
   "execution_count": 10,
   "metadata": {
    "id": "KplB5qWs_Zct"
   },
   "outputs": [],
   "source": [
    "columns_to_replace = ['track', 'artist', 'genre']\n",
    "for column in columns_to_replace:\n",
    "    df[column] = df[column].fillna('unknown') # перебор названий столбцов в цикле и замена пропущенных значений на 'unknown'"
   ]
  },
  {
   "cell_type": "markdown",
   "metadata": {
    "id": "Ilsm-MZo_Zct"
   },
   "source": [
    "Убедимся, что в таблице не осталось пропусков. Для этого ещё раз посчитаем пропущенные значения."
   ]
  },
  {
   "cell_type": "code",
   "execution_count": 11,
   "metadata": {
    "id": "Tq4nYRX4_Zct"
   },
   "outputs": [
    {
     "data": {
      "text/plain": [
       "user_id    0\n",
       "track      0\n",
       "artist     0\n",
       "genre      0\n",
       "city       0\n",
       "time       0\n",
       "day        0\n",
       "dtype: int64"
      ]
     },
     "execution_count": 11,
     "metadata": {},
     "output_type": "execute_result"
    }
   ],
   "source": [
    "df.isna().sum() # подсчёт пропусков"
   ]
  },
  {
   "cell_type": "markdown",
   "metadata": {
    "id": "BWKRtBJ3_Zct"
   },
   "source": [
    "### Дубликаты\n",
    "Посчитаем явные дубликаты в таблице:"
   ]
  },
  {
   "cell_type": "code",
   "execution_count": 12,
   "metadata": {
    "id": "36eES_S0_Zct"
   },
   "outputs": [
    {
     "data": {
      "text/plain": [
       "3826"
      ]
     },
     "execution_count": 12,
     "metadata": {},
     "output_type": "execute_result"
    }
   ],
   "source": [
    "df.duplicated().sum() # подсчёт явных дубликатов"
   ]
  },
  {
   "cell_type": "markdown",
   "metadata": {
    "id": "Ot25h6XR_Zct"
   },
   "source": [
    "Удалим явные дубликаты:"
   ]
  },
  {
   "cell_type": "code",
   "execution_count": 13,
   "metadata": {
    "id": "exFHq6tt_Zct"
   },
   "outputs": [],
   "source": [
    "df = df.drop_duplicates().reset_index(drop=True) # удаление явных дубликатов (с удалением старых индексов и формированием новых)"
   ]
  },
  {
   "cell_type": "markdown",
   "metadata": {
    "id": "Im2YwBEG_Zct"
   },
   "source": [
    "Ещё раз посчитаем явные дубликаты в таблице — убедимся, что полностью от них избавились:"
   ]
  },
  {
   "cell_type": "code",
   "execution_count": 14,
   "metadata": {
    "id": "-8PuNWQ0_Zct"
   },
   "outputs": [
    {
     "data": {
      "text/plain": [
       "0"
      ]
     },
     "execution_count": 14,
     "metadata": {},
     "output_type": "execute_result"
    }
   ],
   "source": [
    "df.duplicated().sum() # проверка на отсутствие дубликатов"
   ]
  },
  {
   "cell_type": "markdown",
   "metadata": {
    "id": "QlFBsxAr_Zct"
   },
   "source": [
    "Теперь избавимся от неявных дубликатов в колонке `genre`. Например, название одного и того же жанра может быть записано немного по-разному. Такие ошибки тоже повлияют на результат исследования."
   ]
  },
  {
   "cell_type": "markdown",
   "metadata": {
    "id": "eSjWwsOh_Zct"
   },
   "source": [
    "Выведем на экран список уникальных названий жанров, отсортированный в алфавитном порядке. Для этого:\n",
    "* извлечем нужный столбец датафрейма, \n",
    "* применим к нему метод сортировки,\n",
    "* для отсортированного столбца вызовем метод, который вернёт уникальные значения из столбца."
   ]
  },
  {
   "cell_type": "code",
   "execution_count": 15,
   "metadata": {
    "id": "JIUcqzZN_Zct"
   },
   "outputs": [
    {
     "data": {
      "text/plain": [
       "array(['acid', 'acoustic', 'action', 'adult', 'africa', 'afrikaans',\n",
       "       'alternative', 'alternativepunk', 'ambient', 'americana',\n",
       "       'animated', 'anime', 'arabesk', 'arabic', 'arena',\n",
       "       'argentinetango', 'art', 'audiobook', 'author', 'avantgarde',\n",
       "       'axé', 'baile', 'balkan', 'beats', 'bigroom', 'black', 'bluegrass',\n",
       "       'blues', 'bollywood', 'bossa', 'brazilian', 'breakbeat', 'breaks',\n",
       "       'broadway', 'cantautori', 'cantopop', 'canzone', 'caribbean',\n",
       "       'caucasian', 'celtic', 'chamber', 'chanson', 'children', 'chill',\n",
       "       'chinese', 'choral', 'christian', 'christmas', 'classical',\n",
       "       'classicmetal', 'club', 'colombian', 'comedy', 'conjazz',\n",
       "       'contemporary', 'country', 'cuban', 'dance', 'dancehall',\n",
       "       'dancepop', 'dark', 'death', 'deep', 'deutschrock', 'deutschspr',\n",
       "       'dirty', 'disco', 'dnb', 'documentary', 'downbeat', 'downtempo',\n",
       "       'drum', 'dub', 'dubstep', 'eastern', 'easy', 'electronic',\n",
       "       'electropop', 'emo', 'entehno', 'epicmetal', 'estrada', 'ethnic',\n",
       "       'eurofolk', 'european', 'experimental', 'extrememetal', 'fado',\n",
       "       'fairytail', 'film', 'fitness', 'flamenco', 'folk', 'folklore',\n",
       "       'folkmetal', 'folkrock', 'folktronica', 'forró', 'frankreich',\n",
       "       'französisch', 'french', 'funk', 'future', 'gangsta', 'garage',\n",
       "       'german', 'ghazal', 'gitarre', 'glitch', 'gospel', 'gothic',\n",
       "       'grime', 'grunge', 'gypsy', 'handsup', \"hard'n'heavy\", 'hardcore',\n",
       "       'hardstyle', 'hardtechno', 'hip', 'hip-hop', 'hiphop',\n",
       "       'historisch', 'holiday', 'hop', 'horror', 'house', 'hymn', 'idm',\n",
       "       'independent', 'indian', 'indie', 'indipop', 'industrial',\n",
       "       'inspirational', 'instrumental', 'international', 'irish', 'jam',\n",
       "       'japanese', 'jazz', 'jewish', 'jpop', 'jungle', 'k-pop',\n",
       "       'karadeniz', 'karaoke', 'kayokyoku', 'korean', 'laiko', 'latin',\n",
       "       'latino', 'leftfield', 'local', 'lounge', 'loungeelectronic',\n",
       "       'lovers', 'malaysian', 'mandopop', 'marschmusik', 'meditative',\n",
       "       'mediterranean', 'melodic', 'metal', 'metalcore', 'mexican',\n",
       "       'middle', 'minimal', 'miscellaneous', 'modern', 'mood', 'mpb',\n",
       "       'muslim', 'native', 'neoklassik', 'neue', 'new', 'newage',\n",
       "       'newwave', 'nu', 'nujazz', 'numetal', 'oceania', 'old', 'opera',\n",
       "       'orchestral', 'other', 'piano', 'podcasts', 'pop', 'popdance',\n",
       "       'popelectronic', 'popeurodance', 'poprussian', 'post',\n",
       "       'posthardcore', 'postrock', 'power', 'progmetal', 'progressive',\n",
       "       'psychedelic', 'punjabi', 'punk', 'quebecois', 'ragga', 'ram',\n",
       "       'rancheras', 'rap', 'rave', 'reggae', 'reggaeton', 'regional',\n",
       "       'relax', 'religious', 'retro', 'rhythm', 'rnb', 'rnr', 'rock',\n",
       "       'rockabilly', 'rockalternative', 'rockindie', 'rockother',\n",
       "       'romance', 'roots', 'ruspop', 'rusrap', 'rusrock', 'russian',\n",
       "       'salsa', 'samba', 'scenic', 'schlager', 'self', 'sertanejo',\n",
       "       'shanson', 'shoegazing', 'showtunes', 'singer', 'ska', 'skarock',\n",
       "       'slow', 'smooth', 'soft', 'soul', 'soulful', 'sound', 'soundtrack',\n",
       "       'southern', 'specialty', 'speech', 'spiritual', 'sport',\n",
       "       'stonerrock', 'surf', 'swing', 'synthpop', 'synthrock',\n",
       "       'sängerportrait', 'tango', 'tanzorchester', 'taraftar', 'tatar',\n",
       "       'tech', 'techno', 'teen', 'thrash', 'top', 'traditional',\n",
       "       'tradjazz', 'trance', 'tribal', 'trip', 'triphop', 'tropical',\n",
       "       'türk', 'türkçe', 'ukrrock', 'unknown', 'urban', 'uzbek',\n",
       "       'variété', 'vi', 'videogame', 'vocal', 'western', 'world',\n",
       "       'worldbeat', 'ïîï', 'электроника'], dtype=object)"
      ]
     },
     "execution_count": 15,
     "metadata": {},
     "output_type": "execute_result"
    }
   ],
   "source": [
    "df['genre'].sort_values().unique() # Просмотр уникальных названий жанров"
   ]
  },
  {
   "cell_type": "markdown",
   "metadata": {
    "id": "qej-Qmuo_Zct"
   },
   "source": [
    "Просмотрим список и найдем неявные дубликаты названия `hiphop`. Это могут быть названия с ошибками или альтернативные названия того же жанра.\n",
    "\n",
    "Мы увидели следующие неявные дубликаты:\n",
    "* *hip*,\n",
    "* *hop*,\n",
    "* *hip-hop*.\n",
    "\n",
    "Чтобы очистить от них таблицу, напишем функцию `replace_wrong_genres()` с двумя параметрами: \n",
    "* `wrong_genres` — список дубликатов,\n",
    "* `correct_genre` — строка с правильным значением.\n",
    "\n",
    "Функция должна исправить колонку `genre` в таблице `df`: заменить каждое значение из списка `wrong_genres` на значение из `correct_genre`."
   ]
  },
  {
   "cell_type": "code",
   "execution_count": 16,
   "metadata": {
    "id": "ErNDkmns_Zct"
   },
   "outputs": [],
   "source": [
    "def replace_wrong_genres(wrong_genres, correct_genre):\n",
    "    for wrong_genre in wrong_genres:\n",
    "        df['genre'] = df['genre'].replace(wrong_genre, correct_genre) # Функция для замены неявных дубликатов"
   ]
  },
  {
   "cell_type": "markdown",
   "metadata": {
    "id": "aDoBJxbA_Zct"
   },
   "source": [
    "Вызовем `replace_wrong_genres()` и передадим ей такие аргументы, чтобы она устранила неявные дубликаты: вместо `hip`, `hop` и `hip-hop` в таблице должно быть значение `hiphop`:"
   ]
  },
  {
   "cell_type": "code",
   "execution_count": 17,
   "metadata": {
    "id": "YN5i2hpmSo09"
   },
   "outputs": [],
   "source": [
    "duplicates = ['hip', 'hop', 'hip-hop']\n",
    "genre = 'hiphop'\n",
    "replace_wrong_genres(duplicates, genre) # Устранение неявных дубликатов"
   ]
  },
  {
   "cell_type": "markdown",
   "metadata": {
    "id": "zQKF16_RG15m"
   },
   "source": [
    "Проверим, что заменили неправильные названия:\n",
    "\n",
    "*   hip\n",
    "*   hop\n",
    "*   hip-hop\n",
    "\n",
    "Выведем отсортированный список уникальных значений столбца `genre`:"
   ]
  },
  {
   "cell_type": "code",
   "execution_count": 18,
   "metadata": {
    "id": "wvixALnFG15m"
   },
   "outputs": [
    {
     "data": {
      "text/plain": [
       "array(['acid', 'acoustic', 'action', 'adult', 'africa', 'afrikaans',\n",
       "       'alternative', 'alternativepunk', 'ambient', 'americana',\n",
       "       'animated', 'anime', 'arabesk', 'arabic', 'arena',\n",
       "       'argentinetango', 'art', 'audiobook', 'author', 'avantgarde',\n",
       "       'axé', 'baile', 'balkan', 'beats', 'bigroom', 'black', 'bluegrass',\n",
       "       'blues', 'bollywood', 'bossa', 'brazilian', 'breakbeat', 'breaks',\n",
       "       'broadway', 'cantautori', 'cantopop', 'canzone', 'caribbean',\n",
       "       'caucasian', 'celtic', 'chamber', 'chanson', 'children', 'chill',\n",
       "       'chinese', 'choral', 'christian', 'christmas', 'classical',\n",
       "       'classicmetal', 'club', 'colombian', 'comedy', 'conjazz',\n",
       "       'contemporary', 'country', 'cuban', 'dance', 'dancehall',\n",
       "       'dancepop', 'dark', 'death', 'deep', 'deutschrock', 'deutschspr',\n",
       "       'dirty', 'disco', 'dnb', 'documentary', 'downbeat', 'downtempo',\n",
       "       'drum', 'dub', 'dubstep', 'eastern', 'easy', 'electronic',\n",
       "       'electropop', 'emo', 'entehno', 'epicmetal', 'estrada', 'ethnic',\n",
       "       'eurofolk', 'european', 'experimental', 'extrememetal', 'fado',\n",
       "       'fairytail', 'film', 'fitness', 'flamenco', 'folk', 'folklore',\n",
       "       'folkmetal', 'folkrock', 'folktronica', 'forró', 'frankreich',\n",
       "       'französisch', 'french', 'funk', 'future', 'gangsta', 'garage',\n",
       "       'german', 'ghazal', 'gitarre', 'glitch', 'gospel', 'gothic',\n",
       "       'grime', 'grunge', 'gypsy', 'handsup', \"hard'n'heavy\", 'hardcore',\n",
       "       'hardstyle', 'hardtechno', 'hiphop', 'historisch', 'holiday',\n",
       "       'horror', 'house', 'hymn', 'idm', 'independent', 'indian', 'indie',\n",
       "       'indipop', 'industrial', 'inspirational', 'instrumental',\n",
       "       'international', 'irish', 'jam', 'japanese', 'jazz', 'jewish',\n",
       "       'jpop', 'jungle', 'k-pop', 'karadeniz', 'karaoke', 'kayokyoku',\n",
       "       'korean', 'laiko', 'latin', 'latino', 'leftfield', 'local',\n",
       "       'lounge', 'loungeelectronic', 'lovers', 'malaysian', 'mandopop',\n",
       "       'marschmusik', 'meditative', 'mediterranean', 'melodic', 'metal',\n",
       "       'metalcore', 'mexican', 'middle', 'minimal', 'miscellaneous',\n",
       "       'modern', 'mood', 'mpb', 'muslim', 'native', 'neoklassik', 'neue',\n",
       "       'new', 'newage', 'newwave', 'nu', 'nujazz', 'numetal', 'oceania',\n",
       "       'old', 'opera', 'orchestral', 'other', 'piano', 'podcasts', 'pop',\n",
       "       'popdance', 'popelectronic', 'popeurodance', 'poprussian', 'post',\n",
       "       'posthardcore', 'postrock', 'power', 'progmetal', 'progressive',\n",
       "       'psychedelic', 'punjabi', 'punk', 'quebecois', 'ragga', 'ram',\n",
       "       'rancheras', 'rap', 'rave', 'reggae', 'reggaeton', 'regional',\n",
       "       'relax', 'religious', 'retro', 'rhythm', 'rnb', 'rnr', 'rock',\n",
       "       'rockabilly', 'rockalternative', 'rockindie', 'rockother',\n",
       "       'romance', 'roots', 'ruspop', 'rusrap', 'rusrock', 'russian',\n",
       "       'salsa', 'samba', 'scenic', 'schlager', 'self', 'sertanejo',\n",
       "       'shanson', 'shoegazing', 'showtunes', 'singer', 'ska', 'skarock',\n",
       "       'slow', 'smooth', 'soft', 'soul', 'soulful', 'sound', 'soundtrack',\n",
       "       'southern', 'specialty', 'speech', 'spiritual', 'sport',\n",
       "       'stonerrock', 'surf', 'swing', 'synthpop', 'synthrock',\n",
       "       'sängerportrait', 'tango', 'tanzorchester', 'taraftar', 'tatar',\n",
       "       'tech', 'techno', 'teen', 'thrash', 'top', 'traditional',\n",
       "       'tradjazz', 'trance', 'tribal', 'trip', 'triphop', 'tropical',\n",
       "       'türk', 'türkçe', 'ukrrock', 'unknown', 'urban', 'uzbek',\n",
       "       'variété', 'vi', 'videogame', 'vocal', 'western', 'world',\n",
       "       'worldbeat', 'ïîï', 'электроника'], dtype=object)"
      ]
     },
     "execution_count": 18,
     "metadata": {},
     "output_type": "execute_result"
    }
   ],
   "source": [
    "df['genre'].sort_values().unique() # Проверка на неявные дубликаты"
   ]
  },
  {
   "cell_type": "markdown",
   "metadata": {
    "id": "jz6a9-7HQUDd"
   },
   "source": [
    "**Выводы**\n",
    "\n",
    "Предобработка обнаружила три проблемы в данных:\n",
    "\n",
    "- нарушения в стиле заголовков,\n",
    "- пропущенные значения,\n",
    "- дубликаты — явные и неявные.\n",
    "\n",
    "Мы исправили заголовки, чтобы упростить работу с таблицей. Без дубликатов исследование станет более точным.\n",
    "\n",
    "Пропущенные значения мы заменили на `'unknown'`. Ещё предстоит увидеть, не повредят ли исследованию пропуски в колонке `genre`.\n",
    "\n",
    "Теперь можно перейти к проверке гипотез. "
   ]
  },
  {
   "cell_type": "markdown",
   "metadata": {
    "id": "WttZHXH0SqKk"
   },
   "source": [
    "## Проверка гипотез"
   ]
  },
  {
   "cell_type": "markdown",
   "metadata": {
    "id": "Im936VVi_Zcu"
   },
   "source": [
    "### Сравнение поведения пользователей двух столиц"
   ]
  },
  {
   "cell_type": "markdown",
   "metadata": {
    "id": "nwt_MuaL_Zcu"
   },
   "source": [
    "Первая гипотеза утверждает, что пользователи по-разному слушают музыку в Москве и Санкт-Петербурге. Проверим это предположение по данным о трёх днях недели — понедельнике, среде и пятнице. Для этого:\n",
    "\n",
    "* Разделим пользователей Москвы и Санкт-Петербурга\n",
    "* Сравним, сколько треков послушала каждая группа пользователей в понедельник, среду и пятницу.\n"
   ]
  },
  {
   "cell_type": "markdown",
   "metadata": {
    "id": "8Dw_YMmT_Zcu"
   },
   "source": [
    "Для тренировки сначала выполним каждый из расчётов по отдельности. \n",
    "\n",
    "Оценим активность пользователей в каждом городе. Сгруппируем данные по городу и посчитаем прослушивания в каждой группе."
   ]
  },
  {
   "cell_type": "code",
   "execution_count": 19,
   "metadata": {
    "id": "0_Qs96oh_Zcu"
   },
   "outputs": [
    {
     "name": "stdout",
     "output_type": "stream",
     "text": [
      "42741\n",
      "18512\n"
     ]
    }
   ],
   "source": [
    "moscow_time = df[df['city'] == 'Moscow']['time'].count()\n",
    "spb_time = df[df['city'] == 'Saint-Petersburg']['time'].count() \n",
    "print(moscow_time)\n",
    "print(spb_time) # Подсчёт прослушиваний в каждом городе"
   ]
  },
  {
   "cell_type": "markdown",
   "metadata": {
    "id": "dzli3w8o_Zcu"
   },
   "source": [
    "В Москве прослушиваний больше, чем в Петербурге. Из этого не следует, что московские пользователи чаще слушают музыку. Просто самих пользователей в Москве больше.\n",
    "\n",
    "Теперь сгруппируем данные по дню недели и подсчитаем прослушивания в понедельник, среду и пятницу. Учтем, что в данных есть информация только о прослушиваниях только за эти дни."
   ]
  },
  {
   "cell_type": "code",
   "execution_count": 20,
   "metadata": {
    "id": "uZMKjiJz_Zcu"
   },
   "outputs": [
    {
     "data": {
      "text/plain": [
       "day\n",
       "Friday       21840\n",
       "Monday       21354\n",
       "Wednesday    18059\n",
       "Name: time, dtype: int64"
      ]
     },
     "execution_count": 20,
     "metadata": {},
     "output_type": "execute_result"
    }
   ],
   "source": [
    "day_grouping = df.groupby('day')['time'].count()\n",
    "day_grouping # Подсчёт прослушиваний в каждый из трёх дней"
   ]
  },
  {
   "cell_type": "markdown",
   "metadata": {
    "id": "cC2tNrlL_Zcu"
   },
   "source": [
    "В среднем пользователи из двух городов менее активны по средам. Но картина может измениться, если рассмотреть каждый город в отдельности."
   ]
  },
  {
   "cell_type": "markdown",
   "metadata": {
    "id": "POzs8bGa_Zcu"
   },
   "source": [
    "Мы увидели, как работает группировка по городу и по дням недели. Теперь напишем функцию, которая объединит два эти расчёта.\n",
    "\n",
    "Создадим функцию `number_tracks()`, которая посчитает прослушивания для заданного дня и города. Ей понадобятся два параметра:\n",
    "* день недели,\n",
    "* название города.\n",
    "\n",
    "В функции сохраним в переменную строки исходной таблицы, у которых значение:\n",
    "  * в колонке `day` равно параметру `day`,\n",
    "  * в колонке `city` равно параметру `city`.\n",
    "\n",
    "Для этого применим последовательную фильтрацию с логической индексацией.\n",
    "\n",
    "Затем посчитаем значения в столбце `user_id` получившейся таблицы. Результат сохраним в новую переменную. Вернем эту переменную из функции."
   ]
  },
  {
   "cell_type": "code",
   "execution_count": 21,
   "metadata": {
    "id": "Nz3GdQB1_Zcu"
   },
   "outputs": [],
   "source": [
    "def number_tracks(day, city):\n",
    "    track_list = df[df['day'] == day]\n",
    "    track_list = track_list[track_list['city'] == city]\n",
    "    track_list_count = track_list['user_id'].count()\n",
    "    return track_list_count\n",
    "# <создание функции number_tracks()>\n",
    "# Объявляется функция с двумя параметрами: day, city.\n",
    "# В переменной track_list сохраняются те строки таблицы df, для которых \n",
    "# значение в столбце 'day' равно параметру day и одновременно значение\n",
    "# в столбце 'city' равно параметру city (используйте последовательную фильтрацию\n",
    "# с помощью логической индексации).\n",
    "# В переменной track_list_count сохраняется число значений столбца 'user_id',\n",
    "# рассчитанное методом count() для таблицы track_list.\n",
    "# Функция возвращает число - значение track_list_count.\n",
    "\n",
    "# Функция для подсчёта прослушиваний для конкретного города и дня.\n",
    "# С помощью последовательной фильтрации с логической индексацией она \n",
    "# сначала получит из исходной таблицы строки с нужным днём,\n",
    "# затем из результата отфильтрует строки с нужным городом,\n",
    "# методом count() посчитает количество значений в колонке user_id. \n",
    "# Это количество функция вернёт в качестве результата"
   ]
  },
  {
   "cell_type": "markdown",
   "metadata": {
    "id": "ytf7xFrFJQ2r"
   },
   "source": [
    "Вызовем `number_tracks()` шесть раз, меняя значение параметров — так, чтобы получить данные для каждого города в каждый из трёх дней."
   ]
  },
  {
   "cell_type": "code",
   "execution_count": 22,
   "metadata": {
    "id": "rJcRATNQ_Zcu"
   },
   "outputs": [
    {
     "data": {
      "text/plain": [
       "15740"
      ]
     },
     "execution_count": 22,
     "metadata": {},
     "output_type": "execute_result"
    }
   ],
   "source": [
    "number_tracks('Monday', 'Moscow') # количество прослушиваний в Москве по понедельникам"
   ]
  },
  {
   "cell_type": "code",
   "execution_count": 23,
   "metadata": {
    "id": "hq_ncZ5T_Zcu"
   },
   "outputs": [
    {
     "data": {
      "text/plain": [
       "5614"
      ]
     },
     "execution_count": 23,
     "metadata": {},
     "output_type": "execute_result"
    }
   ],
   "source": [
    "number_tracks('Monday', 'Saint-Petersburg') # количество прослушиваний в Санкт-Петербурге по понедельникам"
   ]
  },
  {
   "cell_type": "code",
   "execution_count": 24,
   "metadata": {
    "id": "_NTy2VPU_Zcu"
   },
   "outputs": [
    {
     "data": {
      "text/plain": [
       "11056"
      ]
     },
     "execution_count": 24,
     "metadata": {},
     "output_type": "execute_result"
    }
   ],
   "source": [
    "number_tracks('Wednesday', 'Moscow') # количество прослушиваний в Москве по средам"
   ]
  },
  {
   "cell_type": "code",
   "execution_count": 25,
   "metadata": {
    "id": "j2y3TAwo_Zcu"
   },
   "outputs": [
    {
     "data": {
      "text/plain": [
       "7003"
      ]
     },
     "execution_count": 25,
     "metadata": {},
     "output_type": "execute_result"
    }
   ],
   "source": [
    "number_tracks('Wednesday', 'Saint-Petersburg') # количество прослушиваний в Санкт-Петербурге по средам"
   ]
  },
  {
   "cell_type": "code",
   "execution_count": 26,
   "metadata": {
    "id": "vYDw5u_K_Zcu"
   },
   "outputs": [
    {
     "data": {
      "text/plain": [
       "15945"
      ]
     },
     "execution_count": 26,
     "metadata": {},
     "output_type": "execute_result"
    }
   ],
   "source": [
    "number_tracks('Friday', 'Moscow') # количество прослушиваний в Москве по пятницам"
   ]
  },
  {
   "cell_type": "code",
   "execution_count": 27,
   "metadata": {
    "id": "8_yzFtW3_Zcu"
   },
   "outputs": [
    {
     "data": {
      "text/plain": [
       "5895"
      ]
     },
     "execution_count": 27,
     "metadata": {},
     "output_type": "execute_result"
    }
   ],
   "source": [
    "number_tracks('Friday', 'Saint-Petersburg') # количество прослушиваний в Санкт-Петербурге по пятницам"
   ]
  },
  {
   "cell_type": "markdown",
   "metadata": {
    "id": "7QXffbO-_Zcu"
   },
   "source": [
    "Создайте c помощью конструктора `pd.DataFrame` таблицу, где\n",
    "* названия колонок — `['city', 'monday', 'wednesday', 'friday']`;\n",
    "* данные — результаты, которые вы получили с помощью `number_tracks`."
   ]
  },
  {
   "cell_type": "code",
   "execution_count": 28,
   "metadata": {
    "id": "APAcLpOr_Zcu"
   },
   "outputs": [
    {
     "data": {
      "text/html": [
       "<div>\n",
       "<style scoped>\n",
       "    .dataframe tbody tr th:only-of-type {\n",
       "        vertical-align: middle;\n",
       "    }\n",
       "\n",
       "    .dataframe tbody tr th {\n",
       "        vertical-align: top;\n",
       "    }\n",
       "\n",
       "    .dataframe thead th {\n",
       "        text-align: right;\n",
       "    }\n",
       "</style>\n",
       "<table border=\"1\" class=\"dataframe\">\n",
       "  <thead>\n",
       "    <tr style=\"text-align: right;\">\n",
       "      <th></th>\n",
       "      <th>city</th>\n",
       "      <th>monday</th>\n",
       "      <th>wednesday</th>\n",
       "      <th>friday</th>\n",
       "    </tr>\n",
       "  </thead>\n",
       "  <tbody>\n",
       "    <tr>\n",
       "      <td>0</td>\n",
       "      <td>Moscow</td>\n",
       "      <td>15740</td>\n",
       "      <td>11056</td>\n",
       "      <td>15945</td>\n",
       "    </tr>\n",
       "    <tr>\n",
       "      <td>1</td>\n",
       "      <td>Saint-Petersburg</td>\n",
       "      <td>5614</td>\n",
       "      <td>7003</td>\n",
       "      <td>5895</td>\n",
       "    </tr>\n",
       "  </tbody>\n",
       "</table>\n",
       "</div>"
      ],
      "text/plain": [
       "               city  monday  wednesday  friday\n",
       "0            Moscow   15740      11056   15945\n",
       "1  Saint-Petersburg    5614       7003    5895"
      ]
     },
     "execution_count": 28,
     "metadata": {},
     "output_type": "execute_result"
    }
   ],
   "source": [
    "data = [['Moscow', number_tracks('Monday', 'Moscow'), number_tracks('Wednesday', 'Moscow'), number_tracks('Friday', 'Moscow')],\n",
    "        ['Saint-Petersburg', number_tracks('Monday', 'Saint-Petersburg'), number_tracks('Wednesday', 'Saint-Petersburg'), number_tracks('Friday', 'Saint-Petersburg')]]\n",
    "columns = ['city', 'monday', 'wednesday', 'friday']\n",
    "research_result = pd.DataFrame(data=data, columns=columns)\n",
    "research_result # Таблица с результатами"
   ]
  },
  {
   "cell_type": "markdown",
   "metadata": {
    "id": "-EgPIHYu_Zcu"
   },
   "source": [
    "**Выводы**\n",
    "\n",
    "Данные показывают разницу поведения пользователей:\n",
    "\n",
    "- В Москве пик прослушиваний приходится на понедельник и пятницу, а в среду заметен спад.\n",
    "- В Петербурге, наоборот, больше слушают музыку по средам. Активность в понедельник и пятницу здесь почти в равной мере уступает среде.\n",
    "\n",
    "Значит, данные говорят в пользу первой гипотезы."
   ]
  },
  {
   "cell_type": "markdown",
   "metadata": {
    "id": "atZAxtq4_Zcu"
   },
   "source": [
    "### Музыка в начале и в конце недели"
   ]
  },
  {
   "cell_type": "markdown",
   "metadata": {
    "id": "eXrQqXFH_Zcu"
   },
   "source": [
    "Согласно второй гипотезе, утром в понедельник в Москве преобладают одни жанры, а в Петербурге — другие. Так же и вечером пятницы преобладают разные жанры — в зависимости от города."
   ]
  },
  {
   "cell_type": "markdown",
   "metadata": {
    "id": "S8UcW6Hw_Zcu"
   },
   "source": [
    "Сохраним таблицы с данными в две переменные:\n",
    "* по Москве — в `moscow_general`;\n",
    "* по Санкт-Петербургу — в `spb_general`."
   ]
  },
  {
   "cell_type": "code",
   "execution_count": 29,
   "metadata": {
    "id": "qeaFfM_P_Zcu"
   },
   "outputs": [],
   "source": [
    "moscow_general = df[df['city'] == 'Moscow'] # получение таблицы moscow_general из тех строк таблицы df, \n",
    "# для которых значение в столбце 'city' равно 'Moscow'\n"
   ]
  },
  {
   "cell_type": "code",
   "execution_count": 30,
   "metadata": {
    "id": "ORaVRKto_Zcu"
   },
   "outputs": [],
   "source": [
    "spb_general = df[df['city'] == 'Saint-Petersburg'] # получение таблицы spb_general из тех строк таблицы df,\n",
    "# для которых значение в столбце 'city' равно 'Saint-Petersburg'\n"
   ]
  },
  {
   "cell_type": "markdown",
   "metadata": {
    "id": "MEJV-CX2_Zcu"
   },
   "source": [
    "Создадим функцию `genre_weekday()` с четырьмя параметрами:\n",
    "* таблица (датафрейм) с данными,\n",
    "* день недели,\n",
    "* начальная временная метка в формате 'hh:mm', \n",
    "* последняя временная метка в формате 'hh:mm'.\n",
    "\n",
    "Функция должна вернуть информацию о топ-10 жанров тех треков, которые прослушивали в указанный день, в промежутке между двумя отметками времени."
   ]
  },
  {
   "cell_type": "code",
   "execution_count": 31,
   "metadata": {
    "id": "laJT9BYl_Zcu"
   },
   "outputs": [],
   "source": [
    "def genre_weekday(table, day, time1, time2):\n",
    "    genre_df = table[table['day'] == day]\n",
    "    genre_df = genre_df[genre_df['time'] > time1]\n",
    "    genre_df = genre_df[genre_df['time'] < time2]\n",
    "    genre_df_count = genre_df.groupby('genre')['time'].count()\n",
    "    genre_df_sorted = genre_df_count.sort_values(ascending=False) \n",
    "    return genre_df_sorted[:10] \n",
    "# Объявление функции genre_weekday() с параметрами table, day, time1, time2,\n",
    "# которая возвращает информацию о самых популярных жанрах в указанный день в\n",
    "# заданное время:\n",
    "# 1) в переменную genre_df сохраняются те строки переданного датафрейма table, для\n",
    "#    которых одновременно:\n",
    "#    - значение в столбце day равно значению аргумента day\n",
    "#    - значение в столбце time больше значения аргумента time1\n",
    "#    - значение в столбце time меньше значения аргумента time2\n",
    "#    Используйте последовательную фильтрацию с помощью логической индексации.\n",
    "# 2) сгруппировать датафрейм genre_df по столбцу genre, взять один из его\n",
    "#    столбцов и посчитать методом count() количество записей для каждого из\n",
    "#    присутствующих жанров, получившийся Series записать в переменную\n",
    "#    genre_df_count\n",
    "# 3) отсортировать genre_df_count по убыванию встречаемости и сохранить\n",
    "#    в переменную genre_df_sorted\n",
    "# 4) вернуть Series из 10 первых значений genre_df_sorted, это будут топ-10\n",
    "#    популярных жанров (в указанный день, в заданное время)"
   ]
  },
  {
   "cell_type": "markdown",
   "metadata": {
    "id": "la2s2_PF_Zcu"
   },
   "source": [
    "Cравним результаты функции `genre_weekday()` для Москвы и Санкт-Петербурга в понедельник утром (с 7:00 до 11:00) и в пятницу вечером (с 17:00 до 23:00):"
   ]
  },
  {
   "cell_type": "code",
   "execution_count": 32,
   "metadata": {
    "id": "yz7itPUQ_Zcu"
   },
   "outputs": [
    {
     "data": {
      "text/plain": [
       "genre\n",
       "pop            781\n",
       "dance          549\n",
       "electronic     480\n",
       "rock           474\n",
       "hiphop         286\n",
       "ruspop         186\n",
       "world          181\n",
       "rusrap         175\n",
       "alternative    164\n",
       "unknown        161\n",
       "Name: time, dtype: int64"
      ]
     },
     "execution_count": 32,
     "metadata": {},
     "output_type": "execute_result"
    }
   ],
   "source": [
    "genre_weekday(moscow_general, 'Monday', '07:00', '11:00') # вызов функции для утра понедельника в Москве (вместо df — таблица moscow_general)\n",
    "# объекты, хранящие время, являются строками и сравниваются как строки\n",
    "# пример вызова: genre_weekday(moscow_general, 'Monday', '07:00', '11:00')"
   ]
  },
  {
   "cell_type": "code",
   "execution_count": 33,
   "metadata": {
    "id": "kwUcHPdy_Zcu"
   },
   "outputs": [
    {
     "data": {
      "text/plain": [
       "genre\n",
       "pop            218\n",
       "dance          182\n",
       "rock           162\n",
       "electronic     147\n",
       "hiphop          80\n",
       "ruspop          64\n",
       "alternative     58\n",
       "rusrap          55\n",
       "jazz            44\n",
       "classical       40\n",
       "Name: time, dtype: int64"
      ]
     },
     "execution_count": 33,
     "metadata": {},
     "output_type": "execute_result"
    }
   ],
   "source": [
    "genre_weekday(spb_general, 'Monday', '07:00', '11:00') # вызов функции для утра понедельника в Петербурге (вместо df — таблица spb_general)"
   ]
  },
  {
   "cell_type": "code",
   "execution_count": 34,
   "metadata": {
    "id": "EzXVRE1o_Zcu"
   },
   "outputs": [
    {
     "data": {
      "text/plain": [
       "genre\n",
       "pop            713\n",
       "rock           517\n",
       "dance          495\n",
       "electronic     482\n",
       "hiphop         273\n",
       "world          208\n",
       "ruspop         170\n",
       "alternative    163\n",
       "classical      163\n",
       "rusrap         142\n",
       "Name: time, dtype: int64"
      ]
     },
     "execution_count": 34,
     "metadata": {},
     "output_type": "execute_result"
    }
   ],
   "source": [
    "genre_weekday(moscow_general, 'Friday', '17:00', '23:00') # вызов функции для вечера пятницы в Москве"
   ]
  },
  {
   "cell_type": "code",
   "execution_count": 35,
   "metadata": {
    "id": "JZaEKu5v_Zcu"
   },
   "outputs": [
    {
     "data": {
      "text/plain": [
       "genre\n",
       "pop            256\n",
       "rock           216\n",
       "electronic     216\n",
       "dance          210\n",
       "hiphop          97\n",
       "alternative     63\n",
       "jazz            61\n",
       "classical       60\n",
       "rusrap          59\n",
       "world           54\n",
       "Name: time, dtype: int64"
      ]
     },
     "execution_count": 35,
     "metadata": {},
     "output_type": "execute_result"
    }
   ],
   "source": [
    "genre_weekday(spb_general, 'Friday', '17:00', '23:00') # вызов функции для вечера пятницы в Петербурге"
   ]
  },
  {
   "cell_type": "markdown",
   "metadata": {
    "id": "wrCe4MNX_Zcu"
   },
   "source": [
    "**Выводы**\n",
    "\n",
    "Если сравнить топ-10 жанров в понедельник утром, можно сделать такие выводы:\n",
    "\n",
    "1. В Москве и Петербурге слушают похожую музыку. Единственное отличие — в московский рейтинг вошёл жанр “world”, а в петербургский — джаз и классика.\n",
    "\n",
    "2. В Москве пропущенных значений оказалось так много, что значение `'unknown'` заняло десятое место среди самых популярных жанров. Значит, пропущенные значения занимают существенную долю в данных и угрожают достоверности исследования.\n",
    "\n",
    "Вечер пятницы не меняет эту картину. Некоторые жанры поднимаются немного выше, другие спускаются, но в целом топ-10 остаётся тем же самым.\n",
    "\n",
    "Таким образом, вторая гипотеза подтвердилась лишь частично:\n",
    "* Пользователи слушают похожую музыку в начале недели и в конце.\n",
    "* Разница между Москвой и Петербургом не слишком выражена. В Москве чаще слушают русскую популярную музыку, в Петербурге — джаз.\n",
    "\n",
    "Однако пропуски в данных ставят под сомнение этот результат. В Москве их так много, что рейтинг топ-10 мог бы выглядеть иначе, если бы не утерянные  данные о жанрах."
   ]
  },
  {
   "cell_type": "markdown",
   "metadata": {
    "id": "JolODAqr_Zcu"
   },
   "source": [
    "### Жанровые предпочтения в Москве и Петербурге\n",
    "\n",
    "Гипотеза: Петербург — столица рэпа, музыку этого жанра там слушают чаще, чем в Москве.  А Москва — город контрастов, в котором, тем не менее, преобладает поп-музыка."
   ]
  },
  {
   "cell_type": "markdown",
   "metadata": {
    "id": "DlegSvaT_Zcu"
   },
   "source": [
    "Сгруппируем таблицу `moscow_general` по жанру и посчитаем прослушивания треков каждого жанра методом `count()`. Затем отсортируем результат в порядке убывания и сохраним его в таблице `moscow_genres`."
   ]
  },
  {
   "cell_type": "code",
   "execution_count": 36,
   "metadata": {
    "id": "r19lIPke_Zcu"
   },
   "outputs": [],
   "source": [
    "moscow_genres = moscow_general.groupby('genre')['time'].count().sort_values(ascending=False) # одной строкой: группировка таблицы moscow_general по столбцу 'genre', \n",
    "# подсчёт числа значений 'genre' в этой группировке методом count(), \n",
    "# сортировка получившегося Series в порядке убывания и сохранение в moscow_genres"
   ]
  },
  {
   "cell_type": "markdown",
   "metadata": {
    "id": "6kMuomxTiIr8"
   },
   "source": [
    "Выведем на экран первые десять строк `moscow_genres`:"
   ]
  },
  {
   "cell_type": "code",
   "execution_count": 37,
   "metadata": {
    "id": "WhCSooF8_Zcv"
   },
   "outputs": [
    {
     "data": {
      "text/plain": [
       "genre\n",
       "pop            5892\n",
       "dance          4435\n",
       "rock           3965\n",
       "electronic     3786\n",
       "hiphop         2096\n",
       "classical      1616\n",
       "world          1432\n",
       "alternative    1379\n",
       "ruspop         1372\n",
       "rusrap         1161\n",
       "Name: time, dtype: int64"
      ]
     },
     "execution_count": 37,
     "metadata": {},
     "output_type": "execute_result"
    }
   ],
   "source": [
    "moscow_genres.head(10) # просмотр первых 10 строк moscow_genres"
   ]
  },
  {
   "cell_type": "markdown",
   "metadata": {
    "id": "cnPG2vnN_Zcv"
   },
   "source": [
    "Теперь повторим то же и для Петербурга.\n",
    "\n",
    "Сгруппируем таблицу `spb_general` по жанру. Посчитаем прослушивания треков каждого жанра. Результат отсортируем в порядке убывания и сохраним в таблице `spb_genres`:"
   ]
  },
  {
   "cell_type": "code",
   "execution_count": 38,
   "metadata": {
    "id": "gluLIpE7_Zcv"
   },
   "outputs": [],
   "source": [
    "spb_genres = spb_general.groupby('genre')['time'].count().sort_values(ascending=False) # одной строкой: группировка таблицы spb_general по столбцу 'genre', \n",
    "# подсчёт числа значений 'genre' в этой группировке методом count(), \n",
    "# сортировка получившегося Series в порядке убывания и сохранение в spb_genres"
   ]
  },
  {
   "cell_type": "markdown",
   "metadata": {
    "id": "5Doha_ODgyQ8"
   },
   "source": [
    "Выведем на экран первые десять строк `spb_genres`:"
   ]
  },
  {
   "cell_type": "code",
   "execution_count": 39,
   "metadata": {
    "id": "uaGJHjVU_Zcv"
   },
   "outputs": [
    {
     "data": {
      "text/plain": [
       "genre\n",
       "pop            2431\n",
       "dance          1932\n",
       "rock           1879\n",
       "electronic     1736\n",
       "hiphop          960\n",
       "alternative     649\n",
       "classical       646\n",
       "rusrap          564\n",
       "ruspop          538\n",
       "world           515\n",
       "Name: time, dtype: int64"
      ]
     },
     "execution_count": 39,
     "metadata": {},
     "output_type": "execute_result"
    }
   ],
   "source": [
    "spb_genres.head(10) # просмотр первых 10 строк spb_genres"
   ]
  },
  {
   "cell_type": "markdown",
   "metadata": {
    "id": "RY51YJYu_Zcv"
   },
   "source": [
    "**Выводы**"
   ]
  },
  {
   "cell_type": "markdown",
   "metadata": {
    "id": "nVhnJEm__Zcv"
   },
   "source": [
    "Гипотеза частично подтвердилась:\n",
    "* Поп-музыка — самый популярный жанр в Москве, как и предполагала гипотеза. Более того, в топ-10 жанров встречается близкий жанр — русская популярная музыка.\n",
    "* Вопреки ожиданиям, рэп одинаково популярен в Москве и Петербурге. \n"
   ]
  },
  {
   "cell_type": "markdown",
   "metadata": {
    "id": "ykKQ0N65_Zcv"
   },
   "source": [
    "## Итоги исследования"
   ]
  },
  {
   "cell_type": "markdown",
   "metadata": {
    "id": "tjUwbHb3_Zcv"
   },
   "source": [
    "Мы проверили три гипотезы и установили:\n",
    "\n",
    "1. День недели по-разному влияет на активность пользователей в Москве и Петербурге. \n",
    "\n",
    "Первая гипотеза полностью подтвердилась.\n",
    "\n",
    "2. Музыкальные предпочтения не сильно меняются в течение недели — будь то Москва или Петербург. Небольшие различия заметны в начале недели, по понедельникам:\n",
    "* в Москве слушают музыку жанра “world”,\n",
    "* в Петербурге — джаз и классику.\n",
    "\n",
    "Таким образом, вторая гипотеза подтвердилась лишь отчасти. Этот результат мог оказаться иным, если бы не пропуски в данных.\n",
    "\n",
    "3. Во вкусах пользователей Москвы и Петербурга больше общего чем различий. Вопреки ожиданиям, предпочтения жанров в Петербурге напоминают московские.\n",
    "\n",
    "Третья гипотеза не подтвердилась. Если различия в предпочтениях и существуют, на основной массе пользователей они незаметны."
   ]
  },
  {
   "cell_type": "code",
   "execution_count": null,
   "metadata": {},
   "outputs": [],
   "source": []
  }
 ],
 "metadata": {
  "ExecuteTimeLog": [
   {
    "duration": 912,
    "start_time": "2022-02-20T10:00:14.886Z"
   },
   {
    "duration": 180,
    "start_time": "2022-02-20T10:04:41.891Z"
   },
   {
    "duration": 29,
    "start_time": "2022-02-20T10:05:24.826Z"
   },
   {
    "duration": 53,
    "start_time": "2022-02-20T10:05:47.069Z"
   },
   {
    "duration": 6,
    "start_time": "2022-02-20T10:10:23.047Z"
   },
   {
    "duration": 16,
    "start_time": "2022-02-20T10:10:42.750Z"
   },
   {
    "duration": 24,
    "start_time": "2022-02-20T10:12:57.390Z"
   },
   {
    "duration": 6,
    "start_time": "2022-02-20T10:13:12.249Z"
   },
   {
    "duration": 29,
    "start_time": "2022-02-20T10:14:34.182Z"
   },
   {
    "duration": 22,
    "start_time": "2022-02-20T10:19:00.612Z"
   },
   {
    "duration": 48,
    "start_time": "2022-02-20T10:19:19.393Z"
   },
   {
    "duration": 83,
    "start_time": "2022-02-20T10:20:08.718Z"
   },
   {
    "duration": 105,
    "start_time": "2022-02-20T10:20:51.754Z"
   },
   {
    "duration": 77,
    "start_time": "2022-02-20T10:21:03.872Z"
   },
   {
    "duration": 395,
    "start_time": "2022-02-20T10:28:12.631Z"
   },
   {
    "duration": 81,
    "start_time": "2022-02-20T10:28:41.616Z"
   },
   {
    "duration": 6427,
    "start_time": "2022-02-20T10:33:25.171Z"
   },
   {
    "duration": 15,
    "start_time": "2022-02-20T10:33:56.934Z"
   },
   {
    "duration": 4,
    "start_time": "2022-02-20T10:47:18.927Z"
   },
   {
    "duration": 5967,
    "start_time": "2022-02-20T10:48:39.693Z"
   },
   {
    "duration": 4,
    "start_time": "2022-02-20T10:52:43.830Z"
   },
   {
    "duration": 14,
    "start_time": "2022-02-20T10:52:46.436Z"
   },
   {
    "duration": 16,
    "start_time": "2022-02-20T10:53:10.523Z"
   },
   {
    "duration": 29,
    "start_time": "2022-02-20T11:09:04.158Z"
   },
   {
    "duration": 33,
    "start_time": "2022-02-20T11:09:48.431Z"
   },
   {
    "duration": 295,
    "start_time": "2022-02-20T11:21:35.934Z"
   },
   {
    "duration": 233,
    "start_time": "2022-02-20T11:22:41.509Z"
   },
   {
    "duration": 239,
    "start_time": "2022-02-20T11:25:35.927Z"
   },
   {
    "duration": 265,
    "start_time": "2022-02-20T11:26:34.311Z"
   },
   {
    "duration": 6851,
    "start_time": "2022-02-20T11:26:41.030Z"
   },
   {
    "duration": 13,
    "start_time": "2022-02-20T11:34:00.073Z"
   },
   {
    "duration": 252,
    "start_time": "2022-02-20T11:34:24.023Z"
   },
   {
    "duration": 16,
    "start_time": "2022-02-20T11:34:36.898Z"
   },
   {
    "duration": 6,
    "start_time": "2022-02-20T11:35:18.323Z"
   },
   {
    "duration": 7,
    "start_time": "2022-02-20T11:35:28.723Z"
   },
   {
    "duration": 210,
    "start_time": "2022-02-20T14:51:31.931Z"
   },
   {
    "duration": 579,
    "start_time": "2022-02-20T14:52:49.130Z"
   },
   {
    "duration": 149,
    "start_time": "2022-02-20T14:52:49.711Z"
   },
   {
    "duration": 19,
    "start_time": "2022-02-20T14:52:49.862Z"
   },
   {
    "duration": 24,
    "start_time": "2022-02-20T14:52:49.882Z"
   },
   {
    "duration": 23,
    "start_time": "2022-02-20T14:52:49.908Z"
   },
   {
    "duration": 21,
    "start_time": "2022-02-20T14:52:49.932Z"
   },
   {
    "duration": 7,
    "start_time": "2022-02-20T14:52:49.954Z"
   },
   {
    "duration": 24,
    "start_time": "2022-02-20T14:52:49.962Z"
   },
   {
    "duration": 16,
    "start_time": "2022-02-20T14:52:49.989Z"
   },
   {
    "duration": 24,
    "start_time": "2022-02-20T14:52:50.029Z"
   },
   {
    "duration": 61,
    "start_time": "2022-02-20T14:52:50.055Z"
   },
   {
    "duration": 74,
    "start_time": "2022-02-20T14:52:50.130Z"
   },
   {
    "duration": 64,
    "start_time": "2022-02-20T14:52:50.205Z"
   },
   {
    "duration": 9,
    "start_time": "2022-02-20T14:52:50.271Z"
   },
   {
    "duration": 3,
    "start_time": "2022-02-20T14:52:50.281Z"
   },
   {
    "duration": 228,
    "start_time": "2022-02-20T14:52:50.285Z"
   },
   {
    "duration": 634,
    "start_time": "2022-02-20T14:52:49.881Z"
   },
   {
    "duration": 630,
    "start_time": "2022-02-20T14:52:49.886Z"
   },
   {
    "duration": 618,
    "start_time": "2022-02-20T14:52:49.899Z"
   },
   {
    "duration": 616,
    "start_time": "2022-02-20T14:52:49.902Z"
   },
   {
    "duration": 615,
    "start_time": "2022-02-20T14:52:49.904Z"
   },
   {
    "duration": 612,
    "start_time": "2022-02-20T14:52:49.907Z"
   },
   {
    "duration": 611,
    "start_time": "2022-02-20T14:52:49.909Z"
   },
   {
    "duration": 606,
    "start_time": "2022-02-20T14:52:49.916Z"
   },
   {
    "duration": 603,
    "start_time": "2022-02-20T14:52:49.920Z"
   },
   {
    "duration": 601,
    "start_time": "2022-02-20T14:52:49.923Z"
   },
   {
    "duration": 600,
    "start_time": "2022-02-20T14:52:49.925Z"
   },
   {
    "duration": 599,
    "start_time": "2022-02-20T14:52:49.927Z"
   },
   {
    "duration": 598,
    "start_time": "2022-02-20T14:52:49.929Z"
   },
   {
    "duration": 592,
    "start_time": "2022-02-20T14:52:49.936Z"
   },
   {
    "duration": 590,
    "start_time": "2022-02-20T14:52:49.938Z"
   },
   {
    "duration": 589,
    "start_time": "2022-02-20T14:52:49.941Z"
   },
   {
    "duration": 588,
    "start_time": "2022-02-20T14:52:49.943Z"
   },
   {
    "duration": 587,
    "start_time": "2022-02-20T14:52:49.945Z"
   },
   {
    "duration": 585,
    "start_time": "2022-02-20T14:52:49.948Z"
   },
   {
    "duration": 583,
    "start_time": "2022-02-20T14:52:49.951Z"
   },
   {
    "duration": 583,
    "start_time": "2022-02-20T14:52:49.952Z"
   },
   {
    "duration": 582,
    "start_time": "2022-02-20T14:52:49.955Z"
   },
   {
    "duration": 10,
    "start_time": "2022-02-20T14:53:14.970Z"
   },
   {
    "duration": 25,
    "start_time": "2022-02-20T14:53:21.784Z"
   },
   {
    "duration": 13,
    "start_time": "2022-02-20T14:53:27.503Z"
   },
   {
    "duration": 10,
    "start_time": "2022-02-20T15:05:39.327Z"
   },
   {
    "duration": 10,
    "start_time": "2022-02-20T15:05:53.470Z"
   },
   {
    "duration": 4,
    "start_time": "2022-02-20T15:22:01.478Z"
   },
   {
    "duration": 194,
    "start_time": "2022-02-20T15:24:07.697Z"
   },
   {
    "duration": 4,
    "start_time": "2022-02-20T15:24:36.291Z"
   },
   {
    "duration": 177,
    "start_time": "2022-02-20T15:24:42.742Z"
   },
   {
    "duration": 3,
    "start_time": "2022-02-20T15:26:27.663Z"
   },
   {
    "duration": 211,
    "start_time": "2022-02-20T15:26:30.893Z"
   },
   {
    "duration": 4,
    "start_time": "2022-02-20T15:30:35.210Z"
   },
   {
    "duration": 172,
    "start_time": "2022-02-20T15:30:38.675Z"
   },
   {
    "duration": 4,
    "start_time": "2022-02-20T15:31:01.976Z"
   },
   {
    "duration": 171,
    "start_time": "2022-02-20T15:31:05.583Z"
   },
   {
    "duration": 4,
    "start_time": "2022-02-20T15:38:46.236Z"
   },
   {
    "duration": 160,
    "start_time": "2022-02-20T15:38:53.225Z"
   },
   {
    "duration": 3,
    "start_time": "2022-02-20T15:43:21.831Z"
   },
   {
    "duration": 173,
    "start_time": "2022-02-20T15:43:26.167Z"
   },
   {
    "duration": 4,
    "start_time": "2022-02-20T15:44:28.357Z"
   },
   {
    "duration": 248,
    "start_time": "2022-02-20T15:44:32.222Z"
   },
   {
    "duration": 621,
    "start_time": "2022-02-20T15:44:50.007Z"
   },
   {
    "duration": 4,
    "start_time": "2022-02-20T15:45:09.674Z"
   },
   {
    "duration": 366,
    "start_time": "2022-02-20T15:45:18.222Z"
   },
   {
    "duration": 3,
    "start_time": "2022-02-20T15:46:10.409Z"
   },
   {
    "duration": 18,
    "start_time": "2022-02-20T15:46:14.078Z"
   },
   {
    "duration": 17,
    "start_time": "2022-02-20T15:46:58.257Z"
   },
   {
    "duration": 3,
    "start_time": "2022-02-20T15:49:17.755Z"
   },
   {
    "duration": 17,
    "start_time": "2022-02-20T15:49:22.289Z"
   },
   {
    "duration": 16,
    "start_time": "2022-02-20T15:49:24.845Z"
   },
   {
    "duration": 15,
    "start_time": "2022-02-20T15:49:48.423Z"
   },
   {
    "duration": 16,
    "start_time": "2022-02-20T15:50:08.924Z"
   },
   {
    "duration": 19,
    "start_time": "2022-02-20T15:50:27.018Z"
   },
   {
    "duration": 15,
    "start_time": "2022-02-20T15:50:45.538Z"
   },
   {
    "duration": 172,
    "start_time": "2022-02-20T15:54:07.909Z"
   },
   {
    "duration": 234,
    "start_time": "2022-02-20T15:59:02.766Z"
   },
   {
    "duration": 72,
    "start_time": "2022-02-20T15:59:31.144Z"
   },
   {
    "duration": 10,
    "start_time": "2022-02-20T16:02:18.885Z"
   },
   {
    "duration": 10,
    "start_time": "2022-02-20T16:02:20.343Z"
   },
   {
    "duration": 3,
    "start_time": "2022-02-20T16:13:50.581Z"
   },
   {
    "duration": 4,
    "start_time": "2022-02-20T16:14:41.805Z"
   },
   {
    "duration": 23,
    "start_time": "2022-02-20T16:15:56.170Z"
   },
   {
    "duration": 5,
    "start_time": "2022-02-20T16:17:01.921Z"
   },
   {
    "duration": 363,
    "start_time": "2022-02-20T16:17:07.938Z"
   },
   {
    "duration": 4,
    "start_time": "2022-02-20T16:18:37.357Z"
   },
   {
    "duration": 21,
    "start_time": "2022-02-20T16:18:42.498Z"
   },
   {
    "duration": 14,
    "start_time": "2022-02-20T16:20:00.782Z"
   },
   {
    "duration": 17,
    "start_time": "2022-02-20T16:20:51.755Z"
   },
   {
    "duration": 14,
    "start_time": "2022-02-20T16:21:06.253Z"
   },
   {
    "duration": 189,
    "start_time": "2022-02-20T16:34:59.851Z"
   },
   {
    "duration": 26,
    "start_time": "2022-02-20T16:36:20.021Z"
   },
   {
    "duration": 9,
    "start_time": "2022-02-20T16:36:50.158Z"
   },
   {
    "duration": 191,
    "start_time": "2022-02-20T16:39:05.040Z"
   },
   {
    "duration": 8,
    "start_time": "2022-02-20T16:39:32.670Z"
   },
   {
    "duration": 5,
    "start_time": "2022-02-20T16:39:36.902Z"
   },
   {
    "duration": 7,
    "start_time": "2022-02-20T16:40:17.329Z"
   },
   {
    "duration": 5,
    "start_time": "2022-02-20T16:40:41.844Z"
   },
   {
    "duration": 4,
    "start_time": "2022-02-20T16:43:21.504Z"
   },
   {
    "duration": 3,
    "start_time": "2022-02-20T16:43:30.101Z"
   },
   {
    "duration": 156,
    "start_time": "2022-02-20T16:43:30.108Z"
   },
   {
    "duration": 11,
    "start_time": "2022-02-20T16:43:30.266Z"
   },
   {
    "duration": 26,
    "start_time": "2022-02-20T16:43:30.279Z"
   },
   {
    "duration": 23,
    "start_time": "2022-02-20T16:43:30.307Z"
   },
   {
    "duration": 15,
    "start_time": "2022-02-20T16:43:30.332Z"
   },
   {
    "duration": 4,
    "start_time": "2022-02-20T16:43:30.349Z"
   },
   {
    "duration": 32,
    "start_time": "2022-02-20T16:43:30.354Z"
   },
   {
    "duration": 17,
    "start_time": "2022-02-20T16:43:30.389Z"
   },
   {
    "duration": 41,
    "start_time": "2022-02-20T16:43:30.408Z"
   },
   {
    "duration": 55,
    "start_time": "2022-02-20T16:43:30.451Z"
   },
   {
    "duration": 74,
    "start_time": "2022-02-20T16:43:30.508Z"
   },
   {
    "duration": 62,
    "start_time": "2022-02-20T16:43:30.583Z"
   },
   {
    "duration": 8,
    "start_time": "2022-02-20T16:43:30.647Z"
   },
   {
    "duration": 4,
    "start_time": "2022-02-20T16:43:30.657Z"
   },
   {
    "duration": 21,
    "start_time": "2022-02-20T16:43:30.662Z"
   },
   {
    "duration": 17,
    "start_time": "2022-02-20T16:43:30.684Z"
   },
   {
    "duration": 34,
    "start_time": "2022-02-20T16:43:30.702Z"
   },
   {
    "duration": 10,
    "start_time": "2022-02-20T16:43:30.738Z"
   },
   {
    "duration": 5,
    "start_time": "2022-02-20T16:43:30.749Z"
   },
   {
    "duration": 28,
    "start_time": "2022-02-20T16:43:30.756Z"
   },
   {
    "duration": 15,
    "start_time": "2022-02-20T16:43:30.786Z"
   },
   {
    "duration": 32,
    "start_time": "2022-02-20T16:43:30.803Z"
   },
   {
    "duration": 14,
    "start_time": "2022-02-20T16:43:30.838Z"
   },
   {
    "duration": 15,
    "start_time": "2022-02-20T16:43:30.854Z"
   },
   {
    "duration": 14,
    "start_time": "2022-02-20T16:43:30.870Z"
   },
   {
    "duration": 97,
    "start_time": "2022-02-20T16:43:30.886Z"
   },
   {
    "duration": 13,
    "start_time": "2022-02-20T16:43:30.984Z"
   },
   {
    "duration": 11,
    "start_time": "2022-02-20T16:43:30.998Z"
   },
   {
    "duration": 21,
    "start_time": "2022-02-20T16:43:31.011Z"
   },
   {
    "duration": 33,
    "start_time": "2022-02-20T16:43:31.033Z"
   },
   {
    "duration": 23,
    "start_time": "2022-02-20T16:43:31.068Z"
   },
   {
    "duration": 17,
    "start_time": "2022-02-20T16:43:31.092Z"
   },
   {
    "duration": 19,
    "start_time": "2022-02-20T16:43:31.111Z"
   },
   {
    "duration": 9,
    "start_time": "2022-02-20T16:43:31.132Z"
   },
   {
    "duration": 8,
    "start_time": "2022-02-20T16:43:31.143Z"
   },
   {
    "duration": 12,
    "start_time": "2022-02-20T16:43:31.153Z"
   },
   {
    "duration": 26,
    "start_time": "2022-02-20T16:43:31.167Z"
   },
   {
    "duration": 4,
    "start_time": "2022-02-20T16:45:36.352Z"
   },
   {
    "duration": 131,
    "start_time": "2022-02-20T16:45:36.358Z"
   },
   {
    "duration": 12,
    "start_time": "2022-02-20T16:45:36.491Z"
   },
   {
    "duration": 37,
    "start_time": "2022-02-20T16:45:36.504Z"
   },
   {
    "duration": 3,
    "start_time": "2022-02-20T16:45:36.543Z"
   },
   {
    "duration": 20,
    "start_time": "2022-02-20T16:45:36.547Z"
   },
   {
    "duration": 4,
    "start_time": "2022-02-20T16:45:36.570Z"
   },
   {
    "duration": 59,
    "start_time": "2022-02-20T16:45:36.576Z"
   },
   {
    "duration": 15,
    "start_time": "2022-02-20T16:45:36.638Z"
   },
   {
    "duration": 21,
    "start_time": "2022-02-20T16:45:36.655Z"
   },
   {
    "duration": 81,
    "start_time": "2022-02-20T16:45:36.678Z"
   },
   {
    "duration": 80,
    "start_time": "2022-02-20T16:45:36.761Z"
   },
   {
    "duration": 51,
    "start_time": "2022-02-20T16:45:36.843Z"
   },
   {
    "duration": 10,
    "start_time": "2022-02-20T16:45:36.896Z"
   },
   {
    "duration": 24,
    "start_time": "2022-02-20T16:45:36.908Z"
   },
   {
    "duration": 12,
    "start_time": "2022-02-20T16:45:36.934Z"
   },
   {
    "duration": 10,
    "start_time": "2022-02-20T16:45:36.947Z"
   },
   {
    "duration": 26,
    "start_time": "2022-02-20T16:45:36.959Z"
   },
   {
    "duration": 41,
    "start_time": "2022-02-20T16:45:36.989Z"
   },
   {
    "duration": 4,
    "start_time": "2022-02-20T16:45:37.032Z"
   },
   {
    "duration": 33,
    "start_time": "2022-02-20T16:45:37.038Z"
   },
   {
    "duration": 22,
    "start_time": "2022-02-20T16:45:37.073Z"
   },
   {
    "duration": 39,
    "start_time": "2022-02-20T16:45:37.097Z"
   },
   {
    "duration": 21,
    "start_time": "2022-02-20T16:45:37.138Z"
   },
   {
    "duration": 22,
    "start_time": "2022-02-20T16:45:37.161Z"
   },
   {
    "duration": 46,
    "start_time": "2022-02-20T16:45:37.185Z"
   },
   {
    "duration": 66,
    "start_time": "2022-02-20T16:45:37.234Z"
   },
   {
    "duration": 28,
    "start_time": "2022-02-20T16:45:37.302Z"
   },
   {
    "duration": 10,
    "start_time": "2022-02-20T16:45:37.332Z"
   },
   {
    "duration": 6,
    "start_time": "2022-02-20T16:45:37.344Z"
   },
   {
    "duration": 28,
    "start_time": "2022-02-20T16:45:37.352Z"
   },
   {
    "duration": 14,
    "start_time": "2022-02-20T16:45:37.382Z"
   },
   {
    "duration": 39,
    "start_time": "2022-02-20T16:45:37.398Z"
   },
   {
    "duration": 13,
    "start_time": "2022-02-20T16:45:37.439Z"
   },
   {
    "duration": 16,
    "start_time": "2022-02-20T16:45:37.454Z"
   },
   {
    "duration": 4,
    "start_time": "2022-02-20T16:45:37.472Z"
   },
   {
    "duration": 7,
    "start_time": "2022-02-20T16:45:37.478Z"
   },
   {
    "duration": 7,
    "start_time": "2022-02-20T16:45:37.488Z"
   },
   {
    "duration": 536,
    "start_time": "2022-03-02T10:52:15.073Z"
   },
   {
    "duration": 197,
    "start_time": "2022-03-02T10:52:15.612Z"
   },
   {
    "duration": 33,
    "start_time": "2022-03-02T10:52:15.811Z"
   },
   {
    "duration": 28,
    "start_time": "2022-03-02T10:52:15.849Z"
   },
   {
    "duration": 4,
    "start_time": "2022-03-02T10:52:15.879Z"
   },
   {
    "duration": 22,
    "start_time": "2022-03-02T10:52:15.885Z"
   },
   {
    "duration": 4,
    "start_time": "2022-03-02T10:52:15.909Z"
   },
   {
    "duration": 49,
    "start_time": "2022-03-02T10:52:15.915Z"
   },
   {
    "duration": 16,
    "start_time": "2022-03-02T10:52:15.967Z"
   },
   {
    "duration": 23,
    "start_time": "2022-03-02T10:52:15.985Z"
   },
   {
    "duration": 105,
    "start_time": "2022-03-02T10:52:16.010Z"
   },
   {
    "duration": 106,
    "start_time": "2022-03-02T10:52:16.117Z"
   },
   {
    "duration": 72,
    "start_time": "2022-03-02T10:52:16.232Z"
   },
   {
    "duration": 32,
    "start_time": "2022-03-02T10:52:16.306Z"
   },
   {
    "duration": 4,
    "start_time": "2022-03-02T10:52:16.340Z"
   },
   {
    "duration": 20,
    "start_time": "2022-03-02T10:52:16.345Z"
   },
   {
    "duration": 9,
    "start_time": "2022-03-02T10:52:16.367Z"
   },
   {
    "duration": 22,
    "start_time": "2022-03-02T10:52:16.378Z"
   },
   {
    "duration": 39,
    "start_time": "2022-03-02T10:52:16.402Z"
   },
   {
    "duration": 4,
    "start_time": "2022-03-02T10:52:16.443Z"
   },
   {
    "duration": 25,
    "start_time": "2022-03-02T10:52:16.448Z"
   },
   {
    "duration": 13,
    "start_time": "2022-03-02T10:52:16.475Z"
   },
   {
    "duration": 14,
    "start_time": "2022-03-02T10:52:16.491Z"
   },
   {
    "duration": 44,
    "start_time": "2022-03-02T10:52:16.506Z"
   },
   {
    "duration": 18,
    "start_time": "2022-03-02T10:52:16.551Z"
   },
   {
    "duration": 14,
    "start_time": "2022-03-02T10:52:16.571Z"
   },
   {
    "duration": 122,
    "start_time": "2022-03-02T10:52:16.586Z"
   },
   {
    "duration": 10,
    "start_time": "2022-03-02T10:52:16.710Z"
   },
   {
    "duration": 22,
    "start_time": "2022-03-02T10:52:16.722Z"
   },
   {
    "duration": 8,
    "start_time": "2022-03-02T10:52:16.749Z"
   },
   {
    "duration": 29,
    "start_time": "2022-03-02T10:52:16.759Z"
   },
   {
    "duration": 17,
    "start_time": "2022-03-02T10:52:16.790Z"
   },
   {
    "duration": 45,
    "start_time": "2022-03-02T10:52:16.808Z"
   },
   {
    "duration": 17,
    "start_time": "2022-03-02T10:52:16.855Z"
   },
   {
    "duration": 12,
    "start_time": "2022-03-02T10:52:16.874Z"
   },
   {
    "duration": 5,
    "start_time": "2022-03-02T10:52:16.888Z"
   },
   {
    "duration": 9,
    "start_time": "2022-03-02T10:52:16.895Z"
   },
   {
    "duration": 27,
    "start_time": "2022-03-02T10:52:16.906Z"
   },
   {
    "duration": 8,
    "start_time": "2022-03-02T10:54:58.098Z"
   },
   {
    "duration": 468,
    "start_time": "2022-03-02T20:00:29.962Z"
   },
   {
    "duration": 775,
    "start_time": "2022-03-02T20:00:57.980Z"
   },
   {
    "duration": 175,
    "start_time": "2022-03-02T20:00:58.758Z"
   },
   {
    "duration": 24,
    "start_time": "2022-03-02T20:00:58.937Z"
   },
   {
    "duration": 16,
    "start_time": "2022-03-02T20:00:58.964Z"
   },
   {
    "duration": 58,
    "start_time": "2022-03-02T20:00:58.982Z"
   },
   {
    "duration": 5,
    "start_time": "2022-03-02T20:00:59.042Z"
   },
   {
    "duration": 24,
    "start_time": "2022-03-02T20:00:59.049Z"
   },
   {
    "duration": 6,
    "start_time": "2022-03-02T20:00:59.077Z"
   },
   {
    "duration": 67,
    "start_time": "2022-03-02T20:00:59.086Z"
   },
   {
    "duration": 22,
    "start_time": "2022-03-02T20:00:59.155Z"
   },
   {
    "duration": 29,
    "start_time": "2022-03-02T20:00:59.180Z"
   },
   {
    "duration": 81,
    "start_time": "2022-03-02T20:00:59.232Z"
   },
   {
    "duration": 118,
    "start_time": "2022-03-02T20:00:59.315Z"
   },
   {
    "duration": 80,
    "start_time": "2022-03-02T20:00:59.436Z"
   },
   {
    "duration": 71,
    "start_time": "2022-03-02T20:00:59.519Z"
   },
   {
    "duration": 5,
    "start_time": "2022-03-02T20:00:59.593Z"
   },
   {
    "duration": 44,
    "start_time": "2022-03-02T20:00:59.601Z"
   },
   {
    "duration": 21,
    "start_time": "2022-03-02T20:00:59.648Z"
   },
   {
    "duration": 65,
    "start_time": "2022-03-02T20:00:59.672Z"
   },
   {
    "duration": 22,
    "start_time": "2022-03-02T20:00:59.740Z"
   },
   {
    "duration": 4,
    "start_time": "2022-03-02T20:00:59.765Z"
   },
   {
    "duration": 25,
    "start_time": "2022-03-02T20:00:59.772Z"
   },
   {
    "duration": 47,
    "start_time": "2022-03-02T20:00:59.802Z"
   },
   {
    "duration": 17,
    "start_time": "2022-03-02T20:00:59.852Z"
   },
   {
    "duration": 19,
    "start_time": "2022-03-02T20:00:59.872Z"
   },
   {
    "duration": 58,
    "start_time": "2022-03-02T20:00:59.894Z"
   },
   {
    "duration": 20,
    "start_time": "2022-03-02T20:00:59.955Z"
   },
   {
    "duration": 127,
    "start_time": "2022-03-02T20:00:59.978Z"
   },
   {
    "duration": 29,
    "start_time": "2022-03-02T20:01:00.108Z"
   },
   {
    "duration": 13,
    "start_time": "2022-03-02T20:01:00.139Z"
   },
   {
    "duration": 8,
    "start_time": "2022-03-02T20:01:00.155Z"
   },
   {
    "duration": 66,
    "start_time": "2022-03-02T20:01:00.166Z"
   },
   {
    "duration": 24,
    "start_time": "2022-03-02T20:01:00.236Z"
   },
   {
    "duration": 22,
    "start_time": "2022-03-02T20:01:00.262Z"
   },
   {
    "duration": 55,
    "start_time": "2022-03-02T20:01:00.286Z"
   },
   {
    "duration": 17,
    "start_time": "2022-03-02T20:01:00.344Z"
   },
   {
    "duration": 8,
    "start_time": "2022-03-02T20:01:00.364Z"
   },
   {
    "duration": 10,
    "start_time": "2022-03-02T20:01:00.375Z"
   },
   {
    "duration": 45,
    "start_time": "2022-03-02T20:01:00.387Z"
   },
   {
    "duration": 62,
    "start_time": "2022-03-02T20:12:36.280Z"
   },
   {
    "duration": 14,
    "start_time": "2022-03-02T20:13:59.751Z"
   },
   {
    "duration": 88,
    "start_time": "2022-03-02T20:16:35.513Z"
   },
   {
    "duration": 6,
    "start_time": "2022-03-02T20:20:47.609Z"
   },
   {
    "duration": 23,
    "start_time": "2022-03-02T20:20:56.688Z"
   },
   {
    "duration": 5,
    "start_time": "2022-03-02T20:21:16.611Z"
   },
   {
    "duration": 24,
    "start_time": "2022-03-02T20:21:21.140Z"
   },
   {
    "duration": 18,
    "start_time": "2022-03-02T20:22:42.504Z"
   },
   {
    "duration": 22,
    "start_time": "2022-03-02T20:22:45.328Z"
   },
   {
    "duration": 16,
    "start_time": "2022-03-02T20:22:47.440Z"
   },
   {
    "duration": 4,
    "start_time": "2022-03-02T20:23:58.860Z"
   },
   {
    "duration": 218,
    "start_time": "2022-03-02T20:23:58.866Z"
   },
   {
    "duration": 17,
    "start_time": "2022-03-02T20:23:59.087Z"
   },
   {
    "duration": 33,
    "start_time": "2022-03-02T20:23:59.106Z"
   },
   {
    "duration": 34,
    "start_time": "2022-03-02T20:23:59.141Z"
   },
   {
    "duration": 5,
    "start_time": "2022-03-02T20:23:59.177Z"
   },
   {
    "duration": 59,
    "start_time": "2022-03-02T20:23:59.184Z"
   },
   {
    "duration": 5,
    "start_time": "2022-03-02T20:23:59.247Z"
   },
   {
    "duration": 33,
    "start_time": "2022-03-02T20:23:59.255Z"
   },
   {
    "duration": 46,
    "start_time": "2022-03-02T20:23:59.291Z"
   },
   {
    "duration": 30,
    "start_time": "2022-03-02T20:23:59.339Z"
   },
   {
    "duration": 107,
    "start_time": "2022-03-02T20:23:59.371Z"
   },
   {
    "duration": 116,
    "start_time": "2022-03-02T20:23:59.481Z"
   },
   {
    "duration": 89,
    "start_time": "2022-03-02T20:23:59.599Z"
   },
   {
    "duration": 68,
    "start_time": "2022-03-02T20:23:59.690Z"
   },
   {
    "duration": 4,
    "start_time": "2022-03-02T20:23:59.761Z"
   },
   {
    "duration": 16,
    "start_time": "2022-03-02T20:23:59.768Z"
   },
   {
    "duration": 94,
    "start_time": "2022-03-02T20:23:59.786Z"
   },
   {
    "duration": 55,
    "start_time": "2022-03-02T20:23:59.883Z"
   },
   {
    "duration": 15,
    "start_time": "2022-03-02T20:23:59.941Z"
   },
   {
    "duration": 5,
    "start_time": "2022-03-02T20:23:59.959Z"
   },
   {
    "duration": 30,
    "start_time": "2022-03-02T20:23:59.966Z"
   },
   {
    "duration": 49,
    "start_time": "2022-03-02T20:24:00.001Z"
   },
   {
    "duration": 35,
    "start_time": "2022-03-02T20:24:00.053Z"
   },
   {
    "duration": 19,
    "start_time": "2022-03-02T20:24:00.090Z"
   },
   {
    "duration": 42,
    "start_time": "2022-03-02T20:24:00.111Z"
   },
   {
    "duration": 20,
    "start_time": "2022-03-02T20:24:00.155Z"
   },
   {
    "duration": 124,
    "start_time": "2022-03-02T20:24:00.177Z"
   },
   {
    "duration": 29,
    "start_time": "2022-03-02T20:24:00.303Z"
   },
   {
    "duration": 13,
    "start_time": "2022-03-02T20:24:00.335Z"
   },
   {
    "duration": 5,
    "start_time": "2022-03-02T20:24:00.351Z"
   },
   {
    "duration": 42,
    "start_time": "2022-03-02T20:24:00.358Z"
   },
   {
    "duration": 40,
    "start_time": "2022-03-02T20:24:00.402Z"
   },
   {
    "duration": 24,
    "start_time": "2022-03-02T20:24:00.445Z"
   },
   {
    "duration": 17,
    "start_time": "2022-03-02T20:24:00.472Z"
   },
   {
    "duration": 45,
    "start_time": "2022-03-02T20:24:00.492Z"
   },
   {
    "duration": 7,
    "start_time": "2022-03-02T20:24:00.540Z"
   },
   {
    "duration": 24,
    "start_time": "2022-03-02T20:24:00.549Z"
   },
   {
    "duration": 12,
    "start_time": "2022-03-02T20:24:00.575Z"
   },
   {
    "duration": 547,
    "start_time": "2022-03-02T20:35:28.350Z"
   },
   {
    "duration": 141,
    "start_time": "2022-03-02T20:35:28.899Z"
   },
   {
    "duration": 19,
    "start_time": "2022-03-02T20:35:29.043Z"
   },
   {
    "duration": 9,
    "start_time": "2022-03-02T20:35:29.063Z"
   },
   {
    "duration": 27,
    "start_time": "2022-03-02T20:35:29.073Z"
   },
   {
    "duration": 3,
    "start_time": "2022-03-02T20:35:29.102Z"
   },
   {
    "duration": 22,
    "start_time": "2022-03-02T20:35:29.137Z"
   },
   {
    "duration": 4,
    "start_time": "2022-03-02T20:35:29.160Z"
   },
   {
    "duration": 22,
    "start_time": "2022-03-02T20:35:29.166Z"
   },
   {
    "duration": 15,
    "start_time": "2022-03-02T20:35:29.191Z"
   },
   {
    "duration": 52,
    "start_time": "2022-03-02T20:35:29.208Z"
   },
   {
    "duration": 76,
    "start_time": "2022-03-02T20:35:29.261Z"
   },
   {
    "duration": 70,
    "start_time": "2022-03-02T20:35:29.339Z"
   },
   {
    "duration": 57,
    "start_time": "2022-03-02T20:35:29.411Z"
   },
   {
    "duration": 38,
    "start_time": "2022-03-02T20:35:29.469Z"
   },
   {
    "duration": 2,
    "start_time": "2022-03-02T20:35:29.509Z"
   },
   {
    "duration": 27,
    "start_time": "2022-03-02T20:35:29.513Z"
   },
   {
    "duration": 39,
    "start_time": "2022-03-02T20:35:29.542Z"
   },
   {
    "duration": 23,
    "start_time": "2022-03-02T20:35:29.583Z"
   },
   {
    "duration": 37,
    "start_time": "2022-03-02T20:35:29.608Z"
   },
   {
    "duration": 12,
    "start_time": "2022-03-02T20:35:29.647Z"
   },
   {
    "duration": 24,
    "start_time": "2022-03-02T20:35:29.661Z"
   },
   {
    "duration": 14,
    "start_time": "2022-03-02T20:35:29.686Z"
   },
   {
    "duration": 14,
    "start_time": "2022-03-02T20:35:29.701Z"
   },
   {
    "duration": 28,
    "start_time": "2022-03-02T20:35:29.716Z"
   },
   {
    "duration": 22,
    "start_time": "2022-03-02T20:35:29.746Z"
   },
   {
    "duration": 14,
    "start_time": "2022-03-02T20:35:29.771Z"
   },
   {
    "duration": 93,
    "start_time": "2022-03-02T20:35:29.787Z"
   },
   {
    "duration": 10,
    "start_time": "2022-03-02T20:35:29.882Z"
   },
   {
    "duration": 9,
    "start_time": "2022-03-02T20:35:29.894Z"
   },
   {
    "duration": 4,
    "start_time": "2022-03-02T20:35:29.904Z"
   },
   {
    "duration": 49,
    "start_time": "2022-03-02T20:35:29.910Z"
   },
   {
    "duration": 17,
    "start_time": "2022-03-02T20:35:29.963Z"
   },
   {
    "duration": 23,
    "start_time": "2022-03-02T20:35:29.982Z"
   },
   {
    "duration": 35,
    "start_time": "2022-03-02T20:35:30.007Z"
   },
   {
    "duration": 11,
    "start_time": "2022-03-02T20:35:30.044Z"
   },
   {
    "duration": 6,
    "start_time": "2022-03-02T20:35:30.056Z"
   },
   {
    "duration": 11,
    "start_time": "2022-03-02T20:35:30.063Z"
   },
   {
    "duration": 8,
    "start_time": "2022-03-02T20:35:30.075Z"
   }
  ],
  "colab": {
   "collapsed_sections": [
    "E0vqbgi9ay0H",
    "VUC88oWjTJw2"
   ],
   "name": "yandex_music_project_2021.2.ipynb",
   "provenance": []
  },
  "kernelspec": {
   "display_name": "Python 3 (ipykernel)",
   "language": "python",
   "name": "python3"
  },
  "language_info": {
   "codemirror_mode": {
    "name": "ipython",
    "version": 3
   },
   "file_extension": ".py",
   "mimetype": "text/x-python",
   "name": "python",
   "nbconvert_exporter": "python",
   "pygments_lexer": "ipython3",
   "version": "3.9.7"
  },
  "toc": {
   "base_numbering": 1,
   "nav_menu": {},
   "number_sections": true,
   "sideBar": true,
   "skip_h1_title": true,
   "title_cell": "Table of Contents",
   "title_sidebar": "Contents",
   "toc_cell": false,
   "toc_position": {
    "height": "calc(100% - 180px)",
    "left": "10px",
    "top": "150px",
    "width": "248.573px"
   },
   "toc_section_display": true,
   "toc_window_display": true
  }
 },
 "nbformat": 4,
 "nbformat_minor": 1
}
